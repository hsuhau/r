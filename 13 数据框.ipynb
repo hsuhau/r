{
 "cells": [
  {
   "cell_type": "markdown",
   "metadata": {},
   "source": [
    "## 3.1 1数据框"
   ]
  },
  {
   "cell_type": "markdown",
   "metadata": {},
   "source": [
    "### 13.1.1 数据框定义"
   ]
  },
  {
   "cell_type": "code",
   "execution_count": null,
   "metadata": {
    "vscode": {
     "languageId": "r"
    },
    "is_executing": true
   },
   "outputs": [],
   "source": [
    "d <- data.frame(\n",
    "    name = c(\"李明\", \"张聪\", \"王建\"),\n",
    "    age = c(30, 35, 28),\n",
    "    height = c(180, 162, 175),\n",
    "    stringsAsFactors = FALSE\n",
    ")\n",
    "print(d)\n",
    "names(d)\n",
    "colnames(d)"
   ]
  },
  {
   "cell_type": "markdown",
   "metadata": {},
   "source": [
    "### 13.1.2 数据框显示"
   ]
  },
  {
   "cell_type": "code",
   "execution_count": 71,
   "metadata": {
    "vscode": {
     "languageId": "r"
    }
   },
   "outputs": [
    {
     "data": {
      "text/plain": [
       "\n",
       "\n",
       "|name | age| height|\n",
       "|:----|---:|------:|\n",
       "|李明 |  30|    180|\n",
       "|张聪 |  35|    162|\n",
       "|王建 |  28|    175|"
      ]
     },
     "metadata": {},
     "output_type": "display_data"
    }
   ],
   "source": [
    "library(knitr)\n",
    "knitr::kable(d)"
   ]
  },
  {
   "cell_type": "markdown",
   "metadata": {},
   "source": [
    "### 13.1.3 数据框内容访问"
   ]
  },
  {
   "cell_type": "code",
   "execution_count": 72,
   "metadata": {
    "vscode": {
     "languageId": "r"
    }
   },
   "outputs": [
    {
     "data": {
      "text/html": [
       "162"
      ],
      "text/latex": [
       "162"
      ],
      "text/markdown": [
       "162"
      ],
      "text/plain": [
       "[1] 162"
      ]
     },
     "metadata": {},
     "output_type": "display_data"
    }
   ],
   "source": [
    "d[2, 3]"
   ]
  },
  {
   "cell_type": "code",
   "execution_count": 73,
   "metadata": {
    "vscode": {
     "languageId": "r"
    }
   },
   "outputs": [
    {
     "data": {
      "text/html": [
       "<style>\n",
       ".list-inline {list-style: none; margin:0; padding: 0}\n",
       ".list-inline>li {display: inline-block}\n",
       ".list-inline>li:not(:last-child)::after {content: \"\\00b7\"; padding: 0 .5ex}\n",
       "</style>\n",
       "<ol class=list-inline><li>30</li><li>35</li><li>28</li></ol>\n"
      ],
      "text/latex": [
       "\\begin{enumerate*}\n",
       "\\item 30\n",
       "\\item 35\n",
       "\\item 28\n",
       "\\end{enumerate*}\n"
      ],
      "text/markdown": [
       "1. 30\n",
       "2. 35\n",
       "3. 28\n",
       "\n",
       "\n"
      ],
      "text/plain": [
       "[1] 30 35 28"
      ]
     },
     "metadata": {},
     "output_type": "display_data"
    }
   ],
   "source": [
    "d[[2]]"
   ]
  },
  {
   "cell_type": "code",
   "execution_count": 74,
   "metadata": {
    "vscode": {
     "languageId": "r"
    }
   },
   "outputs": [
    {
     "data": {
      "text/html": [
       "<style>\n",
       ".list-inline {list-style: none; margin:0; padding: 0}\n",
       ".list-inline>li {display: inline-block}\n",
       ".list-inline>li:not(:last-child)::after {content: \"\\00b7\"; padding: 0 .5ex}\n",
       "</style>\n",
       "<ol class=list-inline><li>30</li><li>35</li><li>28</li></ol>\n"
      ],
      "text/latex": [
       "\\begin{enumerate*}\n",
       "\\item 30\n",
       "\\item 35\n",
       "\\item 28\n",
       "\\end{enumerate*}\n"
      ],
      "text/markdown": [
       "1. 30\n",
       "2. 35\n",
       "3. 28\n",
       "\n",
       "\n"
      ],
      "text/plain": [
       "[1] 30 35 28"
      ]
     },
     "metadata": {},
     "output_type": "display_data"
    }
   ],
   "source": [
    "d[, 2]"
   ]
  },
  {
   "cell_type": "markdown",
   "metadata": {},
   "source": [
    "### 13.1.4 数据框的行名"
   ]
  },
  {
   "cell_type": "code",
   "execution_count": 75,
   "metadata": {
    "vscode": {
     "languageId": "r"
    }
   },
   "outputs": [],
   "source": [
    "rownames(d) <- d$name\n",
    "d$name <- NULL"
   ]
  },
  {
   "cell_type": "code",
   "execution_count": 76,
   "metadata": {
    "vscode": {
     "languageId": "r"
    }
   },
   "outputs": [
    {
     "data": {
      "text/html": [
       "<table class=\"dataframe\">\n",
       "<caption>A data.frame: 6 × 3</caption>\n",
       "<thead>\n",
       "\t<tr><th scope=col>年级</th><th scope=col>出游</th><th scope=col>疫苗</th></tr>\n",
       "\t<tr><th scope=col>&lt;int&gt;</th><th scope=col>&lt;dbl&gt;</th><th scope=col>&lt;lgl&gt;</th></tr>\n",
       "</thead>\n",
       "<tbody>\n",
       "\t<tr><td>1</td><td>0</td><td> TRUE</td></tr>\n",
       "\t<tr><td>2</td><td>2</td><td>FALSE</td></tr>\n",
       "\t<tr><td>3</td><td>2</td><td>FALSE</td></tr>\n",
       "\t<tr><td>4</td><td>2</td><td>FALSE</td></tr>\n",
       "\t<tr><td>5</td><td>2</td><td> TRUE</td></tr>\n",
       "\t<tr><td>6</td><td>1</td><td>FALSE</td></tr>\n",
       "</tbody>\n",
       "</table>\n"
      ],
      "text/latex": [
       "A data.frame: 6 × 3\n",
       "\\begin{tabular}{lll}\n",
       " 年级 & 出游 & 疫苗\\\\\n",
       " <int> & <dbl> & <lgl>\\\\\n",
       "\\hline\n",
       "\t 1 & 0 &  TRUE\\\\\n",
       "\t 2 & 2 & FALSE\\\\\n",
       "\t 3 & 2 & FALSE\\\\\n",
       "\t 4 & 2 & FALSE\\\\\n",
       "\t 5 & 2 &  TRUE\\\\\n",
       "\t 6 & 1 & FALSE\\\\\n",
       "\\end{tabular}\n"
      ],
      "text/markdown": [
       "\n",
       "A data.frame: 6 × 3\n",
       "\n",
       "| 年级 &lt;int&gt; | 出游 &lt;dbl&gt; | 疫苗 &lt;lgl&gt; |\n",
       "|---|---|---|\n",
       "| 1 | 0 |  TRUE |\n",
       "| 2 | 2 | FALSE |\n",
       "| 3 | 2 | FALSE |\n",
       "| 4 | 2 | FALSE |\n",
       "| 5 | 2 |  TRUE |\n",
       "| 6 | 1 | FALSE |\n",
       "\n"
      ],
      "text/plain": [
       "  年级 出游 疫苗 \n",
       "1 1    0     TRUE\n",
       "2 2    2    FALSE\n",
       "3 3    2    FALSE\n",
       "4 4    2    FALSE\n",
       "5 5    2     TRUE\n",
       "6 6    1    FALSE"
      ]
     },
     "metadata": {},
     "output_type": "display_data"
    }
   ],
   "source": [
    "dm <- data.frame(\n",
    "    \"年级\" = 1:6,\n",
    "    \"出游\" = c(0, 2, 2, 2, 2, 1),\n",
    "    \"疫苗\" = c(TRUE, FALSE, FALSE, FALSE, TRUE, FALSE)\n",
    ")\n",
    "dm"
   ]
  },
  {
   "cell_type": "code",
   "execution_count": 77,
   "metadata": {
    "vscode": {
     "languageId": "r"
    }
   },
   "outputs": [
    {
     "data": {
      "text/html": [
       "<style>\n",
       ".list-inline {list-style: none; margin:0; padding: 0}\n",
       ".list-inline>li {display: inline-block}\n",
       ".list-inline>li:not(:last-child)::after {content: \"\\00b7\"; padding: 0 .5ex}\n",
       "</style>\n",
       "<ol class=list-inline><li>1</li><li>2</li><li>3</li><li>4</li><li>5</li><li>6</li></ol>\n"
      ],
      "text/latex": [
       "\\begin{enumerate*}\n",
       "\\item 1\n",
       "\\item 2\n",
       "\\item 3\n",
       "\\item 4\n",
       "\\item 5\n",
       "\\item 6\n",
       "\\end{enumerate*}\n"
      ],
      "text/markdown": [
       "1. 1\n",
       "2. 2\n",
       "3. 3\n",
       "4. 4\n",
       "5. 5\n",
       "6. 6\n",
       "\n",
       "\n"
      ],
      "text/plain": [
       "[1] 1 2 3 4 5 6"
      ]
     },
     "metadata": {},
     "output_type": "display_data"
    },
    {
     "data": {
      "text/html": [
       "<style>\n",
       ".list-inline {list-style: none; margin:0; padding: 0}\n",
       ".list-inline>li {display: inline-block}\n",
       ".list-inline>li:not(:last-child)::after {content: \"\\00b7\"; padding: 0 .5ex}\n",
       "</style>\n",
       "<ol class=list-inline><li>'1'</li><li>'2'</li><li>'3'</li><li>'4'</li><li>'5'</li><li>'6'</li></ol>\n"
      ],
      "text/latex": [
       "\\begin{enumerate*}\n",
       "\\item '1'\n",
       "\\item '2'\n",
       "\\item '3'\n",
       "\\item '4'\n",
       "\\item '5'\n",
       "\\item '6'\n",
       "\\end{enumerate*}\n"
      ],
      "text/markdown": [
       "1. '1'\n",
       "2. '2'\n",
       "3. '3'\n",
       "4. '4'\n",
       "5. '5'\n",
       "6. '6'\n",
       "\n",
       "\n"
      ],
      "text/plain": [
       "[1] \"1\" \"2\" \"3\" \"4\" \"5\" \"6\""
      ]
     },
     "metadata": {},
     "output_type": "display_data"
    },
    {
     "data": {
      "text/html": [
       "<table class=\"dataframe\">\n",
       "<caption>A data.frame: 6 × 3</caption>\n",
       "<thead>\n",
       "\t<tr><th></th><th scope=col>年级</th><th scope=col>出游</th><th scope=col>疫苗</th></tr>\n",
       "\t<tr><th></th><th scope=col>&lt;int&gt;</th><th scope=col>&lt;dbl&gt;</th><th scope=col>&lt;lgl&gt;</th></tr>\n",
       "</thead>\n",
       "<tbody>\n",
       "\t<tr><th scope=row>1</th><td>1</td><td>0</td><td> TRUE</td></tr>\n",
       "\t<tr><th scope=row>2</th><td>2</td><td>2</td><td>FALSE</td></tr>\n",
       "\t<tr><th scope=row>3</th><td>3</td><td>2</td><td>FALSE</td></tr>\n",
       "\t<tr><th scope=row>4</th><td>4</td><td>2</td><td>FALSE</td></tr>\n",
       "\t<tr><th scope=row>5</th><td>5</td><td>2</td><td> TRUE</td></tr>\n",
       "\t<tr><th scope=row>6</th><td>6</td><td>1</td><td>FALSE</td></tr>\n",
       "</tbody>\n",
       "</table>\n"
      ],
      "text/latex": [
       "A data.frame: 6 × 3\n",
       "\\begin{tabular}{r|lll}\n",
       "  & 年级 & 出游 & 疫苗\\\\\n",
       "  & <int> & <dbl> & <lgl>\\\\\n",
       "\\hline\n",
       "\t1 & 1 & 0 &  TRUE\\\\\n",
       "\t2 & 2 & 2 & FALSE\\\\\n",
       "\t3 & 3 & 2 & FALSE\\\\\n",
       "\t4 & 4 & 2 & FALSE\\\\\n",
       "\t5 & 5 & 2 &  TRUE\\\\\n",
       "\t6 & 6 & 1 & FALSE\\\\\n",
       "\\end{tabular}\n"
      ],
      "text/markdown": [
       "\n",
       "A data.frame: 6 × 3\n",
       "\n",
       "| <!--/--> | 年级 &lt;int&gt; | 出游 &lt;dbl&gt; | 疫苗 &lt;lgl&gt; |\n",
       "|---|---|---|---|\n",
       "| 1 | 1 | 0 |  TRUE |\n",
       "| 2 | 2 | 2 | FALSE |\n",
       "| 3 | 3 | 2 | FALSE |\n",
       "| 4 | 4 | 2 | FALSE |\n",
       "| 5 | 5 | 2 |  TRUE |\n",
       "| 6 | 6 | 1 | FALSE |\n",
       "\n"
      ],
      "text/plain": [
       "  年级 出游 疫苗 \n",
       "1 1    0     TRUE\n",
       "2 2    2    FALSE\n",
       "3 3    2    FALSE\n",
       "4 4    2    FALSE\n",
       "5 5    2     TRUE\n",
       "6 6    1    FALSE"
      ]
     },
     "metadata": {},
     "output_type": "display_data"
    }
   ],
   "source": [
    "dm[[\"年级\"]]\n",
    "rownames(dm)\n",
    "rownames(dm) <- dm[[\"年级\"]]\n",
    "dm\n"
   ]
  },
  {
   "cell_type": "code",
   "execution_count": 78,
   "metadata": {
    "vscode": {
     "languageId": "r"
    }
   },
   "outputs": [
    {
     "data": {
      "text/html": [
       "<table class=\"dataframe\">\n",
       "<caption>A data.frame: 6 × 2</caption>\n",
       "<thead>\n",
       "\t<tr><th></th><th scope=col>出游</th><th scope=col>疫苗</th></tr>\n",
       "\t<tr><th></th><th scope=col>&lt;dbl&gt;</th><th scope=col>&lt;lgl&gt;</th></tr>\n",
       "</thead>\n",
       "<tbody>\n",
       "\t<tr><th scope=row>1</th><td>0</td><td> TRUE</td></tr>\n",
       "\t<tr><th scope=row>2</th><td>2</td><td>FALSE</td></tr>\n",
       "\t<tr><th scope=row>3</th><td>2</td><td>FALSE</td></tr>\n",
       "\t<tr><th scope=row>4</th><td>2</td><td>FALSE</td></tr>\n",
       "\t<tr><th scope=row>5</th><td>2</td><td> TRUE</td></tr>\n",
       "\t<tr><th scope=row>6</th><td>1</td><td>FALSE</td></tr>\n",
       "</tbody>\n",
       "</table>\n"
      ],
      "text/latex": [
       "A data.frame: 6 × 2\n",
       "\\begin{tabular}{r|ll}\n",
       "  & 出游 & 疫苗\\\\\n",
       "  & <dbl> & <lgl>\\\\\n",
       "\\hline\n",
       "\t1 & 0 &  TRUE\\\\\n",
       "\t2 & 2 & FALSE\\\\\n",
       "\t3 & 2 & FALSE\\\\\n",
       "\t4 & 2 & FALSE\\\\\n",
       "\t5 & 2 &  TRUE\\\\\n",
       "\t6 & 1 & FALSE\\\\\n",
       "\\end{tabular}\n"
      ],
      "text/markdown": [
       "\n",
       "A data.frame: 6 × 2\n",
       "\n",
       "| <!--/--> | 出游 &lt;dbl&gt; | 疫苗 &lt;lgl&gt; |\n",
       "|---|---|---|\n",
       "| 1 | 0 |  TRUE |\n",
       "| 2 | 2 | FALSE |\n",
       "| 3 | 2 | FALSE |\n",
       "| 4 | 2 | FALSE |\n",
       "| 5 | 2 |  TRUE |\n",
       "| 6 | 1 | FALSE |\n",
       "\n"
      ],
      "text/plain": [
       "  出游 疫苗 \n",
       "1 0     TRUE\n",
       "2 2    FALSE\n",
       "3 2    FALSE\n",
       "4 2    FALSE\n",
       "5 2     TRUE\n",
       "6 1    FALSE"
      ]
     },
     "metadata": {},
     "output_type": "display_data"
    }
   ],
   "source": [
    "dm[[\"年级\"]] <- NULL\n",
    "dm"
   ]
  },
  {
   "cell_type": "code",
   "execution_count": 79,
   "metadata": {
    "vscode": {
     "languageId": "r"
    }
   },
   "outputs": [
    {
     "data": {
      "text/html": [
       "<table class=\"dataframe\">\n",
       "<caption>A data.frame: 4 × 2</caption>\n",
       "<thead>\n",
       "\t<tr><th></th><th scope=col>出游</th><th scope=col>疫苗</th></tr>\n",
       "\t<tr><th></th><th scope=col>&lt;dbl&gt;</th><th scope=col>&lt;lgl&gt;</th></tr>\n",
       "</thead>\n",
       "<tbody>\n",
       "\t<tr><th scope=row>2</th><td>2</td><td>FALSE</td></tr>\n",
       "\t<tr><th scope=row>1</th><td>0</td><td> TRUE</td></tr>\n",
       "\t<tr><th scope=row>1.1</th><td>0</td><td> TRUE</td></tr>\n",
       "\t<tr><th scope=row>3</th><td>2</td><td>FALSE</td></tr>\n",
       "</tbody>\n",
       "</table>\n"
      ],
      "text/latex": [
       "A data.frame: 4 × 2\n",
       "\\begin{tabular}{r|ll}\n",
       "  & 出游 & 疫苗\\\\\n",
       "  & <dbl> & <lgl>\\\\\n",
       "\\hline\n",
       "\t2 & 2 & FALSE\\\\\n",
       "\t1 & 0 &  TRUE\\\\\n",
       "\t1.1 & 0 &  TRUE\\\\\n",
       "\t3 & 2 & FALSE\\\\\n",
       "\\end{tabular}\n"
      ],
      "text/markdown": [
       "\n",
       "A data.frame: 4 × 2\n",
       "\n",
       "| <!--/--> | 出游 &lt;dbl&gt; | 疫苗 &lt;lgl&gt; |\n",
       "|---|---|---|\n",
       "| 2 | 2 | FALSE |\n",
       "| 1 | 0 |  TRUE |\n",
       "| 1.1 | 0 |  TRUE |\n",
       "| 3 | 2 | FALSE |\n",
       "\n"
      ],
      "text/plain": [
       "    出游 疫苗 \n",
       "2   2    FALSE\n",
       "1   0     TRUE\n",
       "1.1 0     TRUE\n",
       "3   2    FALSE"
      ]
     },
     "metadata": {},
     "output_type": "display_data"
    },
    {
     "data": {
      "text/html": [
       "<table class=\"dataframe\">\n",
       "<caption>A data.frame: 6 × 2</caption>\n",
       "<thead>\n",
       "\t<tr><th scope=col>出游</th><th scope=col>疫苗</th></tr>\n",
       "\t<tr><th scope=col>&lt;dbl&gt;</th><th scope=col>&lt;lgl&gt;</th></tr>\n",
       "</thead>\n",
       "<tbody>\n",
       "\t<tr><td>0</td><td> TRUE</td></tr>\n",
       "\t<tr><td>2</td><td>FALSE</td></tr>\n",
       "\t<tr><td>2</td><td>FALSE</td></tr>\n",
       "\t<tr><td>2</td><td>FALSE</td></tr>\n",
       "\t<tr><td>2</td><td> TRUE</td></tr>\n",
       "\t<tr><td>1</td><td>FALSE</td></tr>\n",
       "</tbody>\n",
       "</table>\n"
      ],
      "text/latex": [
       "A data.frame: 6 × 2\n",
       "\\begin{tabular}{ll}\n",
       " 出游 & 疫苗\\\\\n",
       " <dbl> & <lgl>\\\\\n",
       "\\hline\n",
       "\t 0 &  TRUE\\\\\n",
       "\t 2 & FALSE\\\\\n",
       "\t 2 & FALSE\\\\\n",
       "\t 2 & FALSE\\\\\n",
       "\t 2 &  TRUE\\\\\n",
       "\t 1 & FALSE\\\\\n",
       "\\end{tabular}\n"
      ],
      "text/markdown": [
       "\n",
       "A data.frame: 6 × 2\n",
       "\n",
       "| 出游 &lt;dbl&gt; | 疫苗 &lt;lgl&gt; |\n",
       "|---|---|\n",
       "| 0 |  TRUE |\n",
       "| 2 | FALSE |\n",
       "| 2 | FALSE |\n",
       "| 2 | FALSE |\n",
       "| 2 |  TRUE |\n",
       "| 1 | FALSE |\n",
       "\n"
      ],
      "text/plain": [
       "  出游 疫苗 \n",
       "1 0     TRUE\n",
       "2 2    FALSE\n",
       "3 2    FALSE\n",
       "4 2    FALSE\n",
       "5 2     TRUE\n",
       "6 1    FALSE"
      ]
     },
     "metadata": {},
     "output_type": "display_data"
    }
   ],
   "source": [
    "ind <- c(2, 1, 1, 3)\n",
    "dm[as.character(ind), ]\n",
    "rownames(dm) <- NULL\n",
    "dm"
   ]
  },
  {
   "cell_type": "code",
   "execution_count": null,
   "metadata": {
    "vscode": {
     "languageId": "r"
    }
   },
   "outputs": [],
   "source": []
  },
  {
   "cell_type": "markdown",
   "metadata": {},
   "source": [
    "### 13.1.5 数据框与矩阵的区别"
   ]
  },
  {
   "cell_type": "code",
   "execution_count": 80,
   "metadata": {
    "vscode": {
     "languageId": "r"
    }
   },
   "outputs": [
    {
     "data": {
      "text/html": [
       "<table class=\"dataframe\">\n",
       "<caption>A matrix: 3 × 2 of type dbl</caption>\n",
       "<thead>\n",
       "\t<tr><th></th><th scope=col>age</th><th scope=col>height</th></tr>\n",
       "</thead>\n",
       "<tbody>\n",
       "\t<tr><th scope=row>李明</th><td>30</td><td>180</td></tr>\n",
       "\t<tr><th scope=row>张聪</th><td>35</td><td>162</td></tr>\n",
       "\t<tr><th scope=row>王建</th><td>28</td><td>175</td></tr>\n",
       "</tbody>\n",
       "</table>\n"
      ],
      "text/latex": [
       "A matrix: 3 × 2 of type dbl\n",
       "\\begin{tabular}{r|ll}\n",
       "  & age & height\\\\\n",
       "\\hline\n",
       "\t李明 & 30 & 180\\\\\n",
       "\t张聪 & 35 & 162\\\\\n",
       "\t王建 & 28 & 175\\\\\n",
       "\\end{tabular}\n"
      ],
      "text/markdown": [
       "\n",
       "A matrix: 3 × 2 of type dbl\n",
       "\n",
       "| <!--/--> | age | height |\n",
       "|---|---|---|\n",
       "| 李明 | 30 | 180 |\n",
       "| 张聪 | 35 | 162 |\n",
       "| 王建 | 28 | 175 |\n",
       "\n"
      ],
      "text/plain": [
       "     age height\n",
       "李明 30  180   \n",
       "张聪 35  162   \n",
       "王建 28  175   "
      ]
     },
     "metadata": {},
     "output_type": "display_data"
    },
    {
     "data": {
      "text/html": [
       "<table class=\"dataframe\">\n",
       "<caption>A matrix: 2 × 2 of type dbl</caption>\n",
       "<thead>\n",
       "\t<tr><th></th><th scope=col>age</th><th scope=col>height</th></tr>\n",
       "</thead>\n",
       "<tbody>\n",
       "\t<tr><th scope=row>age</th><td> 2909</td><td>15970</td></tr>\n",
       "\t<tr><th scope=row>height</th><td>15970</td><td>89269</td></tr>\n",
       "</tbody>\n",
       "</table>\n"
      ],
      "text/latex": [
       "A matrix: 2 × 2 of type dbl\n",
       "\\begin{tabular}{r|ll}\n",
       "  & age & height\\\\\n",
       "\\hline\n",
       "\tage &  2909 & 15970\\\\\n",
       "\theight & 15970 & 89269\\\\\n",
       "\\end{tabular}\n"
      ],
      "text/markdown": [
       "\n",
       "A matrix: 2 × 2 of type dbl\n",
       "\n",
       "| <!--/--> | age | height |\n",
       "|---|---|---|\n",
       "| age |  2909 | 15970 |\n",
       "| height | 15970 | 89269 |\n",
       "\n"
      ],
      "text/plain": [
       "       age   height\n",
       "age     2909 15970 \n",
       "height 15970 89269 "
      ]
     },
     "metadata": {},
     "output_type": "display_data"
    }
   ],
   "source": [
    "d2 <- as.matrix(d[, c(\"age\", \"height\")])\n",
    "d2\n",
    "d3 <- crossprod(d2)\n",
    "d3"
   ]
  },
  {
   "cell_type": "markdown",
   "metadata": {},
   "source": [
    "## 13.2 tibble类型"
   ]
  },
  {
   "cell_type": "markdown",
   "metadata": {},
   "source": [
    "### 13.2.1 生成方法"
   ]
  },
  {
   "cell_type": "code",
   "execution_count": 81,
   "metadata": {
    "vscode": {
     "languageId": "r"
    }
   },
   "outputs": [
    {
     "name": "stderr",
     "output_type": "stream",
     "text": [
      "\u001B[1mRows: \u001B[22m\u001B[34m7146\u001B[39m \u001B[1mColumns: \u001B[22m\u001B[34m7\u001B[39m\n",
      "\u001B[36m──\u001B[39m \u001B[1mColumn specification\u001B[22m \u001B[36m────────────────────────────────────────────────────────\u001B[39m\n",
      "\u001B[1mDelimiter:\u001B[22m \",\"\n",
      "\u001B[31mchr\u001B[39m  (6): 分类, 类型, 金额, 账户, 账本, 备注\n",
      "\u001B[34mdttm\u001B[39m (1): 日期\n",
      "\n",
      "\u001B[36mℹ\u001B[39m Use `spec()` to retrieve the full column specification for this data.\n",
      "\u001B[36mℹ\u001B[39m Specify the column types or set `show_col_types = FALSE` to quiet this message.\n"
     ]
    }
   ],
   "source": [
    "library(tibble)\n",
    "library(readr)\n",
    "d.class <- read_csv(\"C:/Users/hsuhau/Desktop/懒猫存钱-2022-09-29.csv\")"
   ]
  },
  {
   "cell_type": "code",
   "execution_count": 82,
   "metadata": {
    "vscode": {
     "languageId": "r"
    }
   },
   "outputs": [
    {
     "data": {
      "text/html": [
       "<table class=\"dataframe\">\n",
       "<caption>A spec_tbl_df: 7146 × 7</caption>\n",
       "<thead>\n",
       "\t<tr><th scope=col>日期</th><th scope=col>分类</th><th scope=col>类型</th><th scope=col>金额</th><th scope=col>账户</th><th scope=col>账本</th><th scope=col>备注</th></tr>\n",
       "\t<tr><th scope=col>&lt;dttm&gt;</th><th scope=col>&lt;chr&gt;</th><th scope=col>&lt;chr&gt;</th><th scope=col>&lt;chr&gt;</th><th scope=col>&lt;chr&gt;</th><th scope=col>&lt;chr&gt;</th><th scope=col>&lt;chr&gt;</th></tr>\n",
       "</thead>\n",
       "<tbody>\n",
       "\t<tr><td>2022-07-09 21:29:00</td><td>零食    </td><td>支出</td><td>¥5.98  </td><td>NA</td><td>默认账本</td><td>万田超市(华碧商场)（确认码3005）           </td></tr>\n",
       "\t<tr><td>2022-07-09 21:15:00</td><td>餐饮    </td><td>支出</td><td>¥92.5  </td><td>NA</td><td>默认账本</td><td>支付码:341554 饭点稻了(7118360916785219094)</td></tr>\n",
       "\t<tr><td>2022-07-09 11:03:00</td><td>通讯    </td><td>支出</td><td>¥19    </td><td>NA</td><td>默认账本</td><td>预付费自动续费31天(为微信账号购买)         </td></tr>\n",
       "\t<tr><td>2022-07-08 23:47:00</td><td>餐饮    </td><td>支出</td><td>¥71    </td><td>NA</td><td>默认账本</td><td>美团订单-22070811100400000021616515728357  </td></tr>\n",
       "\t<tr><td>2022-07-08 18:11:00</td><td>水果    </td><td>支出</td><td>¥14.12 </td><td>NA</td><td>默认账本</td><td>万田超市(华碧商场)（确认码9879）           </td></tr>\n",
       "\t<tr><td>2022-07-08 17:34:00</td><td>餐饮美食</td><td>支出</td><td>¥3.00  </td><td>NA</td><td>默认账本</td><td>食堂就餐                                   </td></tr>\n",
       "\t<tr><td>2022-07-08 12:06:00</td><td>餐饮美食</td><td>支出</td><td>¥3.00  </td><td>NA</td><td>默认账本</td><td>食堂就餐                                   </td></tr>\n",
       "\t<tr><td>2022-07-07 18:38:00</td><td>水果    </td><td>支出</td><td>¥14.35 </td><td>NA</td><td>默认账本</td><td>万田超市(华碧商场)（确认码6972）           </td></tr>\n",
       "\t<tr><td>2022-07-07 17:33:00</td><td>餐饮美食</td><td>支出</td><td>¥3.00  </td><td>NA</td><td>默认账本</td><td>食堂就餐                                   </td></tr>\n",
       "\t<tr><td>2022-07-07 12:10:00</td><td>餐饮美食</td><td>支出</td><td>¥3.00  </td><td>NA</td><td>默认账本</td><td>食堂就餐                                   </td></tr>\n",
       "\t<tr><td>2022-07-06 19:09:00</td><td>水果    </td><td>支出</td><td>¥14.11 </td><td>NA</td><td>默认账本</td><td>万田超市(华碧商场)（确认码5565）           </td></tr>\n",
       "\t<tr><td>2022-07-06 18:30:00</td><td>餐饮美食</td><td>支出</td><td>¥3.00  </td><td>NA</td><td>默认账本</td><td>食堂就餐                                   </td></tr>\n",
       "\t<tr><td>2022-07-06 12:10:00</td><td>餐饮美食</td><td>支出</td><td>¥3.00  </td><td>NA</td><td>默认账本</td><td>食堂就餐                                   </td></tr>\n",
       "\t<tr><td>2022-07-06 00:17:00</td><td>酒店旅游</td><td>支出</td><td>¥125.77</td><td>NA</td><td>默认账本</td><td>账单支付                                   </td></tr>\n",
       "\t<tr><td>2022-07-05 20:48:00</td><td>商户消费</td><td>支出</td><td>¥0.20  </td><td>NA</td><td>默认账本</td><td>万田超市(华碧商场)（确认码7560）           </td></tr>\n",
       "\t<tr><td>2022-07-05 20:48:00</td><td>商户消费</td><td>支出</td><td>¥18.64 </td><td>NA</td><td>默认账本</td><td>万田超市(华碧商场)（确认码6663）           </td></tr>\n",
       "\t<tr><td>2022-07-05 17:38:00</td><td>餐饮美食</td><td>支出</td><td>¥3.00  </td><td>NA</td><td>默认账本</td><td>食堂就餐                                   </td></tr>\n",
       "\t<tr><td>2022-07-05 12:07:00</td><td>餐饮美食</td><td>支出</td><td>¥3.00  </td><td>NA</td><td>默认账本</td><td>食堂就餐                                   </td></tr>\n",
       "\t<tr><td>2022-07-04 17:34:00</td><td>餐饮美食</td><td>支出</td><td>¥3.00  </td><td>NA</td><td>默认账本</td><td>食堂就餐                                   </td></tr>\n",
       "\t<tr><td>2022-07-04 16:46:00</td><td>商户消费</td><td>收入</td><td>¥0.04  </td><td>NA</td><td>默认账本</td><td>/                                          </td></tr>\n",
       "\t<tr><td>2022-07-03 19:54:00</td><td>商户消费</td><td>支出</td><td>¥48.90 </td><td>NA</td><td>默认账本</td><td>美团订单-22070311100400000020939634396357  </td></tr>\n",
       "\t<tr><td>2022-07-02 21:02:00</td><td>商户消费</td><td>支出</td><td>¥4.34  </td><td>NA</td><td>默认账本</td><td>万田超市(华碧商场)（确认码4130）           </td></tr>\n",
       "\t<tr><td>2022-07-02 20:58:00</td><td>餐饮美食</td><td>支出</td><td>¥66.00 </td><td>NA</td><td>默认账本</td><td>支付码:335808饭点稻了(7115758742481675798) </td></tr>\n",
       "\t<tr><td>2022-07-02 01:27:00</td><td>商户消费</td><td>支出</td><td>¥71.00 </td><td>NA</td><td>默认账本</td><td>美团订单-22070211100400000020714333945357  </td></tr>\n",
       "\t<tr><td>2022-07-01 19:47:00</td><td>商户消费</td><td>支出</td><td>¥3.00  </td><td>NA</td><td>默认账本</td><td>可口可乐500ml 1件                          </td></tr>\n",
       "\t<tr><td>2022-07-01 17:41:00</td><td>餐饮美食</td><td>支出</td><td>¥3.00  </td><td>NA</td><td>默认账本</td><td>食堂就餐                                   </td></tr>\n",
       "\t<tr><td>2022-07-01 12:09:00</td><td>餐饮美食</td><td>支出</td><td>¥3.00  </td><td>NA</td><td>默认账本</td><td>食堂就餐                                   </td></tr>\n",
       "\t<tr><td>2022-06-30 20:24:00</td><td>餐饮美食</td><td>支出</td><td>¥2.80  </td><td>NA</td><td>默认账本</td><td>可口可乐330ml                              </td></tr>\n",
       "\t<tr><td>2022-06-30 17:44:00</td><td>餐饮美食</td><td>支出</td><td>¥3.00  </td><td>NA</td><td>默认账本</td><td>食堂就餐                                   </td></tr>\n",
       "\t<tr><td>2022-06-30 12:21:00</td><td>餐饮美食</td><td>支出</td><td>¥3.00  </td><td>NA</td><td>默认账本</td><td>食堂就餐                                   </td></tr>\n",
       "\t<tr><td>⋮</td><td>⋮</td><td>⋮</td><td>⋮</td><td>⋮</td><td>⋮</td><td>⋮</td></tr>\n",
       "\t<tr><td>2015-04-11 21:39:00</td><td>零食</td><td>支出</td><td>¥2.25</td><td>NA</td><td>默认账本</td><td>可口可乐雪碧清爽柠檬味330ml  </td></tr>\n",
       "\t<tr><td>2015-04-11 16:48:00</td><td>餐饮</td><td>支出</td><td>¥9   </td><td>NA</td><td>默认账本</td><td>美团订单-19587557181428742107</td></tr>\n",
       "\t<tr><td>2015-04-11 15:22:00</td><td>零食</td><td>支出</td><td>¥2.2 </td><td>NA</td><td>默认账本</td><td>可口可乐芬达橙味汽水330ml    </td></tr>\n",
       "\t<tr><td>2015-04-11 11:16:00</td><td>餐饮</td><td>支出</td><td>¥9   </td><td>NA</td><td>默认账本</td><td>美团订单-19554145551428722191</td></tr>\n",
       "\t<tr><td>2015-04-10 22:00:00</td><td>零食</td><td>支出</td><td>¥2.2 </td><td>NA</td><td>默认账本</td><td>可口可乐芬达橙味汽水330ml    </td></tr>\n",
       "\t<tr><td>2015-04-10 16:08:00</td><td>餐饮</td><td>支出</td><td>¥10  </td><td>NA</td><td>默认账本</td><td>美团订单-19504674341428653337</td></tr>\n",
       "\t<tr><td>2015-04-10 13:34:00</td><td>零食</td><td>支出</td><td>¥2.5 </td><td>NA</td><td>默认账本</td><td>可口可乐芬达橙味汽水330ml    </td></tr>\n",
       "\t<tr><td>2015-04-10 12:00:00</td><td>餐饮</td><td>支出</td><td>¥7   </td><td>NA</td><td>默认账本</td><td>美团订单-19489129501428638445</td></tr>\n",
       "\t<tr><td>2015-04-09 17:08:00</td><td>餐饮</td><td>支出</td><td>¥9   </td><td>NA</td><td>默认账本</td><td>美团订单-19449223541428570537</td></tr>\n",
       "\t<tr><td>2015-04-09 11:04:00</td><td>餐饮</td><td>支出</td><td>¥9   </td><td>NA</td><td>默认账本</td><td>美团订单-19424842541428548684</td></tr>\n",
       "\t<tr><td>2015-04-08 19:21:00</td><td>零食</td><td>支出</td><td>¥18.5</td><td>NA</td><td>默认账本</td><td>士力架花生巧克力味           </td></tr>\n",
       "\t<tr><td>2015-04-08 16:44:00</td><td>餐饮</td><td>支出</td><td>¥8   </td><td>NA</td><td>默认账本</td><td>美团订单-19392071561428482697</td></tr>\n",
       "\t<tr><td>2015-04-07 17:04:00</td><td>餐饮</td><td>支出</td><td>¥7   </td><td>NA</td><td>默认账本</td><td>美团订单-19340366251428397447</td></tr>\n",
       "\t<tr><td>2015-04-07 11:13:00</td><td>餐饮</td><td>支出</td><td>¥9   </td><td>NA</td><td>默认账本</td><td>美团订单-19319028121428376391</td></tr>\n",
       "\t<tr><td>2015-04-04 20:09:00</td><td>餐饮</td><td>支出</td><td>¥5   </td><td>NA</td><td>默认账本</td><td>美团订单-19159260391428149339</td></tr>\n",
       "\t<tr><td>2015-04-04 20:04:00</td><td>餐饮</td><td>支出</td><td>¥8   </td><td>NA</td><td>默认账本</td><td>美团订单-19158937041428149089</td></tr>\n",
       "\t<tr><td>2015-04-04 12:19:00</td><td>餐饮</td><td>支出</td><td>¥10  </td><td>NA</td><td>默认账本</td><td>美团订单-19113506841428121195</td></tr>\n",
       "\t<tr><td>2015-04-03 16:11:00</td><td>餐饮</td><td>支出</td><td>¥9   </td><td>NA</td><td>默认账本</td><td>美团订单-19058893331428048703</td></tr>\n",
       "\t<tr><td>2015-04-02 17:29:00</td><td>餐饮</td><td>支出</td><td>¥7   </td><td>NA</td><td>默认账本</td><td>美团订单-19002349341427966970</td></tr>\n",
       "\t<tr><td>2015-04-01 17:43:00</td><td>餐饮</td><td>支出</td><td>¥8   </td><td>NA</td><td>默认账本</td><td>美团订单-18955014211427881406</td></tr>\n",
       "\t<tr><td>2015-04-01 11:28:00</td><td>餐饮</td><td>支出</td><td>¥6   </td><td>NA</td><td>默认账本</td><td>美团订单-18932590121427858884</td></tr>\n",
       "\t<tr><td>2015-03-31 16:50:00</td><td>餐饮</td><td>支出</td><td>¥9   </td><td>NA</td><td>默认账本</td><td>美团订单-18902937361427791855</td></tr>\n",
       "\t<tr><td>2015-03-31 11:29:00</td><td>餐饮</td><td>支出</td><td>¥8   </td><td>NA</td><td>默认账本</td><td>美团订单-18886362351427772544</td></tr>\n",
       "\t<tr><td>2015-03-30 16:55:00</td><td>餐饮</td><td>支出</td><td>¥8   </td><td>NA</td><td>默认账本</td><td>美团订单-18856992191427705741</td></tr>\n",
       "\t<tr><td>2015-03-30 11:22:00</td><td>餐饮</td><td>支出</td><td>¥11  </td><td>NA</td><td>默认账本</td><td>美团订单-18839931941427685745</td></tr>\n",
       "\t<tr><td>2015-03-29 17:27:00</td><td>餐饮</td><td>支出</td><td>¥8   </td><td>NA</td><td>默认账本</td><td>美团订单-18811686501427621260</td></tr>\n",
       "\t<tr><td>2015-03-29 12:12:00</td><td>餐饮</td><td>支出</td><td>¥9   </td><td>NA</td><td>默认账本</td><td>美团订单-18788021171427602375</td></tr>\n",
       "\t<tr><td>2015-03-28 16:59:00</td><td>餐饮</td><td>支出</td><td>¥8   </td><td>NA</td><td>默认账本</td><td>美团订单-18739997571427533173</td></tr>\n",
       "\t<tr><td>2015-03-28 12:31:00</td><td>餐饮</td><td>支出</td><td>¥8   </td><td>NA</td><td>默认账本</td><td>美团订单-18720649111427517074</td></tr>\n",
       "\t<tr><td>2015-03-27 16:54:00</td><td>餐饮</td><td>支出</td><td>¥10  </td><td>NA</td><td>默认账本</td><td>美团订单-18671645501427446443</td></tr>\n",
       "</tbody>\n",
       "</table>\n"
      ],
      "text/latex": [
       "A spec\\_tbl\\_df: 7146 × 7\n",
       "\\begin{tabular}{lllllll}\n",
       " 日期 & 分类 & 类型 & 金额 & 账户 & 账本 & 备注\\\\\n",
       " <dttm> & <chr> & <chr> & <chr> & <chr> & <chr> & <chr>\\\\\n",
       "\\hline\n",
       "\t 2022-07-09 21:29:00 & 零食     & 支出 & ¥5.98   & NA & 默认账本 & 万田超市(华碧商场)（确认码3005）           \\\\\n",
       "\t 2022-07-09 21:15:00 & 餐饮     & 支出 & ¥92.5   & NA & 默认账本 & 支付码:341554 饭点稻了(7118360916785219094)\\\\\n",
       "\t 2022-07-09 11:03:00 & 通讯     & 支出 & ¥19     & NA & 默认账本 & 预付费自动续费31天(为微信账号购买)         \\\\\n",
       "\t 2022-07-08 23:47:00 & 餐饮     & 支出 & ¥71     & NA & 默认账本 & 美团订单-22070811100400000021616515728357  \\\\\n",
       "\t 2022-07-08 18:11:00 & 水果     & 支出 & ¥14.12  & NA & 默认账本 & 万田超市(华碧商场)（确认码9879）           \\\\\n",
       "\t 2022-07-08 17:34:00 & 餐饮美食 & 支出 & ¥3.00   & NA & 默认账本 & 食堂就餐                                   \\\\\n",
       "\t 2022-07-08 12:06:00 & 餐饮美食 & 支出 & ¥3.00   & NA & 默认账本 & 食堂就餐                                   \\\\\n",
       "\t 2022-07-07 18:38:00 & 水果     & 支出 & ¥14.35  & NA & 默认账本 & 万田超市(华碧商场)（确认码6972）           \\\\\n",
       "\t 2022-07-07 17:33:00 & 餐饮美食 & 支出 & ¥3.00   & NA & 默认账本 & 食堂就餐                                   \\\\\n",
       "\t 2022-07-07 12:10:00 & 餐饮美食 & 支出 & ¥3.00   & NA & 默认账本 & 食堂就餐                                   \\\\\n",
       "\t 2022-07-06 19:09:00 & 水果     & 支出 & ¥14.11  & NA & 默认账本 & 万田超市(华碧商场)（确认码5565）           \\\\\n",
       "\t 2022-07-06 18:30:00 & 餐饮美食 & 支出 & ¥3.00   & NA & 默认账本 & 食堂就餐                                   \\\\\n",
       "\t 2022-07-06 12:10:00 & 餐饮美食 & 支出 & ¥3.00   & NA & 默认账本 & 食堂就餐                                   \\\\\n",
       "\t 2022-07-06 00:17:00 & 酒店旅游 & 支出 & ¥125.77 & NA & 默认账本 & 账单支付                                   \\\\\n",
       "\t 2022-07-05 20:48:00 & 商户消费 & 支出 & ¥0.20   & NA & 默认账本 & 万田超市(华碧商场)（确认码7560）           \\\\\n",
       "\t 2022-07-05 20:48:00 & 商户消费 & 支出 & ¥18.64  & NA & 默认账本 & 万田超市(华碧商场)（确认码6663）           \\\\\n",
       "\t 2022-07-05 17:38:00 & 餐饮美食 & 支出 & ¥3.00   & NA & 默认账本 & 食堂就餐                                   \\\\\n",
       "\t 2022-07-05 12:07:00 & 餐饮美食 & 支出 & ¥3.00   & NA & 默认账本 & 食堂就餐                                   \\\\\n",
       "\t 2022-07-04 17:34:00 & 餐饮美食 & 支出 & ¥3.00   & NA & 默认账本 & 食堂就餐                                   \\\\\n",
       "\t 2022-07-04 16:46:00 & 商户消费 & 收入 & ¥0.04   & NA & 默认账本 & /                                          \\\\\n",
       "\t 2022-07-03 19:54:00 & 商户消费 & 支出 & ¥48.90  & NA & 默认账本 & 美团订单-22070311100400000020939634396357  \\\\\n",
       "\t 2022-07-02 21:02:00 & 商户消费 & 支出 & ¥4.34   & NA & 默认账本 & 万田超市(华碧商场)（确认码4130）           \\\\\n",
       "\t 2022-07-02 20:58:00 & 餐饮美食 & 支出 & ¥66.00  & NA & 默认账本 & 支付码:335808饭点稻了(7115758742481675798) \\\\\n",
       "\t 2022-07-02 01:27:00 & 商户消费 & 支出 & ¥71.00  & NA & 默认账本 & 美团订单-22070211100400000020714333945357  \\\\\n",
       "\t 2022-07-01 19:47:00 & 商户消费 & 支出 & ¥3.00   & NA & 默认账本 & 可口可乐500ml 1件                          \\\\\n",
       "\t 2022-07-01 17:41:00 & 餐饮美食 & 支出 & ¥3.00   & NA & 默认账本 & 食堂就餐                                   \\\\\n",
       "\t 2022-07-01 12:09:00 & 餐饮美食 & 支出 & ¥3.00   & NA & 默认账本 & 食堂就餐                                   \\\\\n",
       "\t 2022-06-30 20:24:00 & 餐饮美食 & 支出 & ¥2.80   & NA & 默认账本 & 可口可乐330ml                              \\\\\n",
       "\t 2022-06-30 17:44:00 & 餐饮美食 & 支出 & ¥3.00   & NA & 默认账本 & 食堂就餐                                   \\\\\n",
       "\t 2022-06-30 12:21:00 & 餐饮美食 & 支出 & ¥3.00   & NA & 默认账本 & 食堂就餐                                   \\\\\n",
       "\t ⋮ & ⋮ & ⋮ & ⋮ & ⋮ & ⋮ & ⋮\\\\\n",
       "\t 2015-04-11 21:39:00 & 零食 & 支出 & ¥2.25 & NA & 默认账本 & 可口可乐雪碧清爽柠檬味330ml  \\\\\n",
       "\t 2015-04-11 16:48:00 & 餐饮 & 支出 & ¥9    & NA & 默认账本 & 美团订单-19587557181428742107\\\\\n",
       "\t 2015-04-11 15:22:00 & 零食 & 支出 & ¥2.2  & NA & 默认账本 & 可口可乐芬达橙味汽水330ml    \\\\\n",
       "\t 2015-04-11 11:16:00 & 餐饮 & 支出 & ¥9    & NA & 默认账本 & 美团订单-19554145551428722191\\\\\n",
       "\t 2015-04-10 22:00:00 & 零食 & 支出 & ¥2.2  & NA & 默认账本 & 可口可乐芬达橙味汽水330ml    \\\\\n",
       "\t 2015-04-10 16:08:00 & 餐饮 & 支出 & ¥10   & NA & 默认账本 & 美团订单-19504674341428653337\\\\\n",
       "\t 2015-04-10 13:34:00 & 零食 & 支出 & ¥2.5  & NA & 默认账本 & 可口可乐芬达橙味汽水330ml    \\\\\n",
       "\t 2015-04-10 12:00:00 & 餐饮 & 支出 & ¥7    & NA & 默认账本 & 美团订单-19489129501428638445\\\\\n",
       "\t 2015-04-09 17:08:00 & 餐饮 & 支出 & ¥9    & NA & 默认账本 & 美团订单-19449223541428570537\\\\\n",
       "\t 2015-04-09 11:04:00 & 餐饮 & 支出 & ¥9    & NA & 默认账本 & 美团订单-19424842541428548684\\\\\n",
       "\t 2015-04-08 19:21:00 & 零食 & 支出 & ¥18.5 & NA & 默认账本 & 士力架花生巧克力味           \\\\\n",
       "\t 2015-04-08 16:44:00 & 餐饮 & 支出 & ¥8    & NA & 默认账本 & 美团订单-19392071561428482697\\\\\n",
       "\t 2015-04-07 17:04:00 & 餐饮 & 支出 & ¥7    & NA & 默认账本 & 美团订单-19340366251428397447\\\\\n",
       "\t 2015-04-07 11:13:00 & 餐饮 & 支出 & ¥9    & NA & 默认账本 & 美团订单-19319028121428376391\\\\\n",
       "\t 2015-04-04 20:09:00 & 餐饮 & 支出 & ¥5    & NA & 默认账本 & 美团订单-19159260391428149339\\\\\n",
       "\t 2015-04-04 20:04:00 & 餐饮 & 支出 & ¥8    & NA & 默认账本 & 美团订单-19158937041428149089\\\\\n",
       "\t 2015-04-04 12:19:00 & 餐饮 & 支出 & ¥10   & NA & 默认账本 & 美团订单-19113506841428121195\\\\\n",
       "\t 2015-04-03 16:11:00 & 餐饮 & 支出 & ¥9    & NA & 默认账本 & 美团订单-19058893331428048703\\\\\n",
       "\t 2015-04-02 17:29:00 & 餐饮 & 支出 & ¥7    & NA & 默认账本 & 美团订单-19002349341427966970\\\\\n",
       "\t 2015-04-01 17:43:00 & 餐饮 & 支出 & ¥8    & NA & 默认账本 & 美团订单-18955014211427881406\\\\\n",
       "\t 2015-04-01 11:28:00 & 餐饮 & 支出 & ¥6    & NA & 默认账本 & 美团订单-18932590121427858884\\\\\n",
       "\t 2015-03-31 16:50:00 & 餐饮 & 支出 & ¥9    & NA & 默认账本 & 美团订单-18902937361427791855\\\\\n",
       "\t 2015-03-31 11:29:00 & 餐饮 & 支出 & ¥8    & NA & 默认账本 & 美团订单-18886362351427772544\\\\\n",
       "\t 2015-03-30 16:55:00 & 餐饮 & 支出 & ¥8    & NA & 默认账本 & 美团订单-18856992191427705741\\\\\n",
       "\t 2015-03-30 11:22:00 & 餐饮 & 支出 & ¥11   & NA & 默认账本 & 美团订单-18839931941427685745\\\\\n",
       "\t 2015-03-29 17:27:00 & 餐饮 & 支出 & ¥8    & NA & 默认账本 & 美团订单-18811686501427621260\\\\\n",
       "\t 2015-03-29 12:12:00 & 餐饮 & 支出 & ¥9    & NA & 默认账本 & 美团订单-18788021171427602375\\\\\n",
       "\t 2015-03-28 16:59:00 & 餐饮 & 支出 & ¥8    & NA & 默认账本 & 美团订单-18739997571427533173\\\\\n",
       "\t 2015-03-28 12:31:00 & 餐饮 & 支出 & ¥8    & NA & 默认账本 & 美团订单-18720649111427517074\\\\\n",
       "\t 2015-03-27 16:54:00 & 餐饮 & 支出 & ¥10   & NA & 默认账本 & 美团订单-18671645501427446443\\\\\n",
       "\\end{tabular}\n"
      ],
      "text/markdown": [
       "\n",
       "A spec_tbl_df: 7146 × 7\n",
       "\n",
       "| 日期 &lt;dttm&gt; | 分类 &lt;chr&gt; | 类型 &lt;chr&gt; | 金额 &lt;chr&gt; | 账户 &lt;chr&gt; | 账本 &lt;chr&gt; | 备注 &lt;chr&gt; |\n",
       "|---|---|---|---|---|---|---|\n",
       "| 2022-07-09 21:29:00 | 零食     | 支出 | ¥5.98   | NA | 默认账本 | 万田超市(华碧商场)（确认码3005）            |\n",
       "| 2022-07-09 21:15:00 | 餐饮     | 支出 | ¥92.5   | NA | 默认账本 | 支付码:341554 饭点稻了(7118360916785219094) |\n",
       "| 2022-07-09 11:03:00 | 通讯     | 支出 | ¥19     | NA | 默认账本 | 预付费自动续费31天(为微信账号购买)          |\n",
       "| 2022-07-08 23:47:00 | 餐饮     | 支出 | ¥71     | NA | 默认账本 | 美团订单-22070811100400000021616515728357   |\n",
       "| 2022-07-08 18:11:00 | 水果     | 支出 | ¥14.12  | NA | 默认账本 | 万田超市(华碧商场)（确认码9879）            |\n",
       "| 2022-07-08 17:34:00 | 餐饮美食 | 支出 | ¥3.00   | NA | 默认账本 | 食堂就餐                                    |\n",
       "| 2022-07-08 12:06:00 | 餐饮美食 | 支出 | ¥3.00   | NA | 默认账本 | 食堂就餐                                    |\n",
       "| 2022-07-07 18:38:00 | 水果     | 支出 | ¥14.35  | NA | 默认账本 | 万田超市(华碧商场)（确认码6972）            |\n",
       "| 2022-07-07 17:33:00 | 餐饮美食 | 支出 | ¥3.00   | NA | 默认账本 | 食堂就餐                                    |\n",
       "| 2022-07-07 12:10:00 | 餐饮美食 | 支出 | ¥3.00   | NA | 默认账本 | 食堂就餐                                    |\n",
       "| 2022-07-06 19:09:00 | 水果     | 支出 | ¥14.11  | NA | 默认账本 | 万田超市(华碧商场)（确认码5565）            |\n",
       "| 2022-07-06 18:30:00 | 餐饮美食 | 支出 | ¥3.00   | NA | 默认账本 | 食堂就餐                                    |\n",
       "| 2022-07-06 12:10:00 | 餐饮美食 | 支出 | ¥3.00   | NA | 默认账本 | 食堂就餐                                    |\n",
       "| 2022-07-06 00:17:00 | 酒店旅游 | 支出 | ¥125.77 | NA | 默认账本 | 账单支付                                    |\n",
       "| 2022-07-05 20:48:00 | 商户消费 | 支出 | ¥0.20   | NA | 默认账本 | 万田超市(华碧商场)（确认码7560）            |\n",
       "| 2022-07-05 20:48:00 | 商户消费 | 支出 | ¥18.64  | NA | 默认账本 | 万田超市(华碧商场)（确认码6663）            |\n",
       "| 2022-07-05 17:38:00 | 餐饮美食 | 支出 | ¥3.00   | NA | 默认账本 | 食堂就餐                                    |\n",
       "| 2022-07-05 12:07:00 | 餐饮美食 | 支出 | ¥3.00   | NA | 默认账本 | 食堂就餐                                    |\n",
       "| 2022-07-04 17:34:00 | 餐饮美食 | 支出 | ¥3.00   | NA | 默认账本 | 食堂就餐                                    |\n",
       "| 2022-07-04 16:46:00 | 商户消费 | 收入 | ¥0.04   | NA | 默认账本 | /                                           |\n",
       "| 2022-07-03 19:54:00 | 商户消费 | 支出 | ¥48.90  | NA | 默认账本 | 美团订单-22070311100400000020939634396357   |\n",
       "| 2022-07-02 21:02:00 | 商户消费 | 支出 | ¥4.34   | NA | 默认账本 | 万田超市(华碧商场)（确认码4130）            |\n",
       "| 2022-07-02 20:58:00 | 餐饮美食 | 支出 | ¥66.00  | NA | 默认账本 | 支付码:335808饭点稻了(7115758742481675798)  |\n",
       "| 2022-07-02 01:27:00 | 商户消费 | 支出 | ¥71.00  | NA | 默认账本 | 美团订单-22070211100400000020714333945357   |\n",
       "| 2022-07-01 19:47:00 | 商户消费 | 支出 | ¥3.00   | NA | 默认账本 | 可口可乐500ml 1件                           |\n",
       "| 2022-07-01 17:41:00 | 餐饮美食 | 支出 | ¥3.00   | NA | 默认账本 | 食堂就餐                                    |\n",
       "| 2022-07-01 12:09:00 | 餐饮美食 | 支出 | ¥3.00   | NA | 默认账本 | 食堂就餐                                    |\n",
       "| 2022-06-30 20:24:00 | 餐饮美食 | 支出 | ¥2.80   | NA | 默认账本 | 可口可乐330ml                               |\n",
       "| 2022-06-30 17:44:00 | 餐饮美食 | 支出 | ¥3.00   | NA | 默认账本 | 食堂就餐                                    |\n",
       "| 2022-06-30 12:21:00 | 餐饮美食 | 支出 | ¥3.00   | NA | 默认账本 | 食堂就餐                                    |\n",
       "| ⋮ | ⋮ | ⋮ | ⋮ | ⋮ | ⋮ | ⋮ |\n",
       "| 2015-04-11 21:39:00 | 零食 | 支出 | ¥2.25 | NA | 默认账本 | 可口可乐雪碧清爽柠檬味330ml   |\n",
       "| 2015-04-11 16:48:00 | 餐饮 | 支出 | ¥9    | NA | 默认账本 | 美团订单-19587557181428742107 |\n",
       "| 2015-04-11 15:22:00 | 零食 | 支出 | ¥2.2  | NA | 默认账本 | 可口可乐芬达橙味汽水330ml     |\n",
       "| 2015-04-11 11:16:00 | 餐饮 | 支出 | ¥9    | NA | 默认账本 | 美团订单-19554145551428722191 |\n",
       "| 2015-04-10 22:00:00 | 零食 | 支出 | ¥2.2  | NA | 默认账本 | 可口可乐芬达橙味汽水330ml     |\n",
       "| 2015-04-10 16:08:00 | 餐饮 | 支出 | ¥10   | NA | 默认账本 | 美团订单-19504674341428653337 |\n",
       "| 2015-04-10 13:34:00 | 零食 | 支出 | ¥2.5  | NA | 默认账本 | 可口可乐芬达橙味汽水330ml     |\n",
       "| 2015-04-10 12:00:00 | 餐饮 | 支出 | ¥7    | NA | 默认账本 | 美团订单-19489129501428638445 |\n",
       "| 2015-04-09 17:08:00 | 餐饮 | 支出 | ¥9    | NA | 默认账本 | 美团订单-19449223541428570537 |\n",
       "| 2015-04-09 11:04:00 | 餐饮 | 支出 | ¥9    | NA | 默认账本 | 美团订单-19424842541428548684 |\n",
       "| 2015-04-08 19:21:00 | 零食 | 支出 | ¥18.5 | NA | 默认账本 | 士力架花生巧克力味            |\n",
       "| 2015-04-08 16:44:00 | 餐饮 | 支出 | ¥8    | NA | 默认账本 | 美团订单-19392071561428482697 |\n",
       "| 2015-04-07 17:04:00 | 餐饮 | 支出 | ¥7    | NA | 默认账本 | 美团订单-19340366251428397447 |\n",
       "| 2015-04-07 11:13:00 | 餐饮 | 支出 | ¥9    | NA | 默认账本 | 美团订单-19319028121428376391 |\n",
       "| 2015-04-04 20:09:00 | 餐饮 | 支出 | ¥5    | NA | 默认账本 | 美团订单-19159260391428149339 |\n",
       "| 2015-04-04 20:04:00 | 餐饮 | 支出 | ¥8    | NA | 默认账本 | 美团订单-19158937041428149089 |\n",
       "| 2015-04-04 12:19:00 | 餐饮 | 支出 | ¥10   | NA | 默认账本 | 美团订单-19113506841428121195 |\n",
       "| 2015-04-03 16:11:00 | 餐饮 | 支出 | ¥9    | NA | 默认账本 | 美团订单-19058893331428048703 |\n",
       "| 2015-04-02 17:29:00 | 餐饮 | 支出 | ¥7    | NA | 默认账本 | 美团订单-19002349341427966970 |\n",
       "| 2015-04-01 17:43:00 | 餐饮 | 支出 | ¥8    | NA | 默认账本 | 美团订单-18955014211427881406 |\n",
       "| 2015-04-01 11:28:00 | 餐饮 | 支出 | ¥6    | NA | 默认账本 | 美团订单-18932590121427858884 |\n",
       "| 2015-03-31 16:50:00 | 餐饮 | 支出 | ¥9    | NA | 默认账本 | 美团订单-18902937361427791855 |\n",
       "| 2015-03-31 11:29:00 | 餐饮 | 支出 | ¥8    | NA | 默认账本 | 美团订单-18886362351427772544 |\n",
       "| 2015-03-30 16:55:00 | 餐饮 | 支出 | ¥8    | NA | 默认账本 | 美团订单-18856992191427705741 |\n",
       "| 2015-03-30 11:22:00 | 餐饮 | 支出 | ¥11   | NA | 默认账本 | 美团订单-18839931941427685745 |\n",
       "| 2015-03-29 17:27:00 | 餐饮 | 支出 | ¥8    | NA | 默认账本 | 美团订单-18811686501427621260 |\n",
       "| 2015-03-29 12:12:00 | 餐饮 | 支出 | ¥9    | NA | 默认账本 | 美团订单-18788021171427602375 |\n",
       "| 2015-03-28 16:59:00 | 餐饮 | 支出 | ¥8    | NA | 默认账本 | 美团订单-18739997571427533173 |\n",
       "| 2015-03-28 12:31:00 | 餐饮 | 支出 | ¥8    | NA | 默认账本 | 美团订单-18720649111427517074 |\n",
       "| 2015-03-27 16:54:00 | 餐饮 | 支出 | ¥10   | NA | 默认账本 | 美团订单-18671645501427446443 |\n",
       "\n"
      ],
      "text/plain": [
       "     日期                分类     类型 金额    账户 账本    \n",
       "1    2022-07-09 21:29:00 零食     支出 ¥5.98   NA   默认账本\n",
       "2    2022-07-09 21:15:00 餐饮     支出 ¥92.5   NA   默认账本\n",
       "3    2022-07-09 11:03:00 通讯     支出 ¥19     NA   默认账本\n",
       "4    2022-07-08 23:47:00 餐饮     支出 ¥71     NA   默认账本\n",
       "5    2022-07-08 18:11:00 水果     支出 ¥14.12  NA   默认账本\n",
       "6    2022-07-08 17:34:00 餐饮美食 支出 ¥3.00   NA   默认账本\n",
       "7    2022-07-08 12:06:00 餐饮美食 支出 ¥3.00   NA   默认账本\n",
       "8    2022-07-07 18:38:00 水果     支出 ¥14.35  NA   默认账本\n",
       "9    2022-07-07 17:33:00 餐饮美食 支出 ¥3.00   NA   默认账本\n",
       "10   2022-07-07 12:10:00 餐饮美食 支出 ¥3.00   NA   默认账本\n",
       "11   2022-07-06 19:09:00 水果     支出 ¥14.11  NA   默认账本\n",
       "12   2022-07-06 18:30:00 餐饮美食 支出 ¥3.00   NA   默认账本\n",
       "13   2022-07-06 12:10:00 餐饮美食 支出 ¥3.00   NA   默认账本\n",
       "14   2022-07-06 00:17:00 酒店旅游 支出 ¥125.77 NA   默认账本\n",
       "15   2022-07-05 20:48:00 商户消费 支出 ¥0.20   NA   默认账本\n",
       "16   2022-07-05 20:48:00 商户消费 支出 ¥18.64  NA   默认账本\n",
       "17   2022-07-05 17:38:00 餐饮美食 支出 ¥3.00   NA   默认账本\n",
       "18   2022-07-05 12:07:00 餐饮美食 支出 ¥3.00   NA   默认账本\n",
       "19   2022-07-04 17:34:00 餐饮美食 支出 ¥3.00   NA   默认账本\n",
       "20   2022-07-04 16:46:00 商户消费 收入 ¥0.04   NA   默认账本\n",
       "21   2022-07-03 19:54:00 商户消费 支出 ¥48.90  NA   默认账本\n",
       "22   2022-07-02 21:02:00 商户消费 支出 ¥4.34   NA   默认账本\n",
       "23   2022-07-02 20:58:00 餐饮美食 支出 ¥66.00  NA   默认账本\n",
       "24   2022-07-02 01:27:00 商户消费 支出 ¥71.00  NA   默认账本\n",
       "25   2022-07-01 19:47:00 商户消费 支出 ¥3.00   NA   默认账本\n",
       "26   2022-07-01 17:41:00 餐饮美食 支出 ¥3.00   NA   默认账本\n",
       "27   2022-07-01 12:09:00 餐饮美食 支出 ¥3.00   NA   默认账本\n",
       "28   2022-06-30 20:24:00 餐饮美食 支出 ¥2.80   NA   默认账本\n",
       "29   2022-06-30 17:44:00 餐饮美食 支出 ¥3.00   NA   默认账本\n",
       "30   2022-06-30 12:21:00 餐饮美食 支出 ¥3.00   NA   默认账本\n",
       "⋮    ⋮                   ⋮        ⋮    ⋮       ⋮    ⋮       \n",
       "7117 2015-04-11 21:39:00 零食     支出 ¥2.25   NA   默认账本\n",
       "7118 2015-04-11 16:48:00 餐饮     支出 ¥9      NA   默认账本\n",
       "7119 2015-04-11 15:22:00 零食     支出 ¥2.2    NA   默认账本\n",
       "7120 2015-04-11 11:16:00 餐饮     支出 ¥9      NA   默认账本\n",
       "7121 2015-04-10 22:00:00 零食     支出 ¥2.2    NA   默认账本\n",
       "7122 2015-04-10 16:08:00 餐饮     支出 ¥10     NA   默认账本\n",
       "7123 2015-04-10 13:34:00 零食     支出 ¥2.5    NA   默认账本\n",
       "7124 2015-04-10 12:00:00 餐饮     支出 ¥7      NA   默认账本\n",
       "7125 2015-04-09 17:08:00 餐饮     支出 ¥9      NA   默认账本\n",
       "7126 2015-04-09 11:04:00 餐饮     支出 ¥9      NA   默认账本\n",
       "7127 2015-04-08 19:21:00 零食     支出 ¥18.5   NA   默认账本\n",
       "7128 2015-04-08 16:44:00 餐饮     支出 ¥8      NA   默认账本\n",
       "7129 2015-04-07 17:04:00 餐饮     支出 ¥7      NA   默认账本\n",
       "7130 2015-04-07 11:13:00 餐饮     支出 ¥9      NA   默认账本\n",
       "7131 2015-04-04 20:09:00 餐饮     支出 ¥5      NA   默认账本\n",
       "7132 2015-04-04 20:04:00 餐饮     支出 ¥8      NA   默认账本\n",
       "7133 2015-04-04 12:19:00 餐饮     支出 ¥10     NA   默认账本\n",
       "7134 2015-04-03 16:11:00 餐饮     支出 ¥9      NA   默认账本\n",
       "7135 2015-04-02 17:29:00 餐饮     支出 ¥7      NA   默认账本\n",
       "7136 2015-04-01 17:43:00 餐饮     支出 ¥8      NA   默认账本\n",
       "7137 2015-04-01 11:28:00 餐饮     支出 ¥6      NA   默认账本\n",
       "7138 2015-03-31 16:50:00 餐饮     支出 ¥9      NA   默认账本\n",
       "7139 2015-03-31 11:29:00 餐饮     支出 ¥8      NA   默认账本\n",
       "7140 2015-03-30 16:55:00 餐饮     支出 ¥8      NA   默认账本\n",
       "7141 2015-03-30 11:22:00 餐饮     支出 ¥11     NA   默认账本\n",
       "7142 2015-03-29 17:27:00 餐饮     支出 ¥8      NA   默认账本\n",
       "7143 2015-03-29 12:12:00 餐饮     支出 ¥9      NA   默认账本\n",
       "7144 2015-03-28 16:59:00 餐饮     支出 ¥8      NA   默认账本\n",
       "7145 2015-03-28 12:31:00 餐饮     支出 ¥8      NA   默认账本\n",
       "7146 2015-03-27 16:54:00 餐饮     支出 ¥10     NA   默认账本\n",
       "     备注                                       \n",
       "1    万田超市(华碧商场)（确认码3005）           \n",
       "2    支付码:341554 饭点稻了(7118360916785219094)\n",
       "3    预付费自动续费31天(为微信账号购买)         \n",
       "4    美团订单-22070811100400000021616515728357  \n",
       "5    万田超市(华碧商场)（确认码9879）           \n",
       "6    食堂就餐                                   \n",
       "7    食堂就餐                                   \n",
       "8    万田超市(华碧商场)（确认码6972）           \n",
       "9    食堂就餐                                   \n",
       "10   食堂就餐                                   \n",
       "11   万田超市(华碧商场)（确认码5565）           \n",
       "12   食堂就餐                                   \n",
       "13   食堂就餐                                   \n",
       "14   账单支付                                   \n",
       "15   万田超市(华碧商场)（确认码7560）           \n",
       "16   万田超市(华碧商场)（确认码6663）           \n",
       "17   食堂就餐                                   \n",
       "18   食堂就餐                                   \n",
       "19   食堂就餐                                   \n",
       "20   /                                          \n",
       "21   美团订单-22070311100400000020939634396357  \n",
       "22   万田超市(华碧商场)（确认码4130）           \n",
       "23   支付码:335808饭点稻了(7115758742481675798) \n",
       "24   美团订单-22070211100400000020714333945357  \n",
       "25   可口可乐500ml 1件                          \n",
       "26   食堂就餐                                   \n",
       "27   食堂就餐                                   \n",
       "28   可口可乐330ml                              \n",
       "29   食堂就餐                                   \n",
       "30   食堂就餐                                   \n",
       "⋮    ⋮                                          \n",
       "7117 可口可乐雪碧清爽柠檬味330ml                \n",
       "7118 美团订单-19587557181428742107              \n",
       "7119 可口可乐芬达橙味汽水330ml                  \n",
       "7120 美团订单-19554145551428722191              \n",
       "7121 可口可乐芬达橙味汽水330ml                  \n",
       "7122 美团订单-19504674341428653337              \n",
       "7123 可口可乐芬达橙味汽水330ml                  \n",
       "7124 美团订单-19489129501428638445              \n",
       "7125 美团订单-19449223541428570537              \n",
       "7126 美团订单-19424842541428548684              \n",
       "7127 士力架花生巧克力味                         \n",
       "7128 美团订单-19392071561428482697              \n",
       "7129 美团订单-19340366251428397447              \n",
       "7130 美团订单-19319028121428376391              \n",
       "7131 美团订单-19159260391428149339              \n",
       "7132 美团订单-19158937041428149089              \n",
       "7133 美团订单-19113506841428121195              \n",
       "7134 美团订单-19058893331428048703              \n",
       "7135 美团订单-19002349341427966970              \n",
       "7136 美团订单-18955014211427881406              \n",
       "7137 美团订单-18932590121427858884              \n",
       "7138 美团订单-18902937361427791855              \n",
       "7139 美团订单-18886362351427772544              \n",
       "7140 美团订单-18856992191427705741              \n",
       "7141 美团订单-18839931941427685745              \n",
       "7142 美团订单-18811686501427621260              \n",
       "7143 美团订单-18788021171427602375              \n",
       "7144 美团订单-18739997571427533173              \n",
       "7145 美团订单-18720649111427517074              \n",
       "7146 美团订单-18671645501427446443              "
      ]
     },
     "metadata": {},
     "output_type": "display_data"
    }
   ],
   "source": [
    "d.class"
   ]
  },
  {
   "cell_type": "code",
   "execution_count": 83,
   "metadata": {
    "vscode": {
     "languageId": "r"
    }
   },
   "outputs": [
    {
     "data": {
      "text/html": [
       "<style>\n",
       ".list-inline {list-style: none; margin:0; padding: 0}\n",
       ".list-inline>li {display: inline-block}\n",
       ".list-inline>li:not(:last-child)::after {content: \"\\00b7\"; padding: 0 .5ex}\n",
       "</style>\n",
       "<ol class=list-inline><li>'spec_tbl_df'</li><li>'tbl_df'</li><li>'tbl'</li><li>'data.frame'</li></ol>\n"
      ],
      "text/latex": [
       "\\begin{enumerate*}\n",
       "\\item 'spec\\_tbl\\_df'\n",
       "\\item 'tbl\\_df'\n",
       "\\item 'tbl'\n",
       "\\item 'data.frame'\n",
       "\\end{enumerate*}\n"
      ],
      "text/markdown": [
       "1. 'spec_tbl_df'\n",
       "2. 'tbl_df'\n",
       "3. 'tbl'\n",
       "4. 'data.frame'\n",
       "\n",
       "\n"
      ],
      "text/plain": [
       "[1] \"spec_tbl_df\" \"tbl_df\"      \"tbl\"         \"data.frame\" "
      ]
     },
     "metadata": {},
     "output_type": "display_data"
    }
   ],
   "source": [
    "class(d.class)"
   ]
  },
  {
   "cell_type": "code",
   "execution_count": 86,
   "metadata": {
    "vscode": {
     "languageId": "r"
    }
   },
   "outputs": [],
   "source": [
    "d.bp <- tibble(\"序号\" = c(1:6), \"收缩压\" = c(145, 110, \"未测\", 150, \"拒绝\", 115))"
   ]
  },
  {
   "cell_type": "code",
   "execution_count": 87,
   "metadata": {
    "vscode": {
     "languageId": "r"
    }
   },
   "outputs": [
    {
     "data": {
      "text/plain": [
       "\n",
       "\n",
       "| 序号|收缩压 |\n",
       "|----:|:------|\n",
       "|    1|145    |\n",
       "|    2|110    |\n",
       "|    3|未测   |\n",
       "|    4|150    |\n",
       "|    5|拒绝   |\n",
       "|    6|115    |"
      ]
     },
     "metadata": {},
     "output_type": "display_data"
    }
   ],
   "source": [
    "knitr::kable(d.bp)"
   ]
  },
  {
   "cell_type": "markdown",
   "metadata": {},
   "source": [
    "### 13.2.2 列子集问题"
   ]
  },
  {
   "cell_type": "code",
   "execution_count": 88,
   "metadata": {
    "vscode": {
     "languageId": "r"
    }
   },
   "outputs": [
    {
     "data": {
      "text/html": [
       "<table class=\"dataframe\">\n",
       "<caption>A tibble: 6 × 1</caption>\n",
       "<thead>\n",
       "\t<tr><th scope=col>收缩压</th></tr>\n",
       "\t<tr><th scope=col>&lt;chr&gt;</th></tr>\n",
       "</thead>\n",
       "<tbody>\n",
       "\t<tr><td>145 </td></tr>\n",
       "\t<tr><td>110 </td></tr>\n",
       "\t<tr><td>未测</td></tr>\n",
       "\t<tr><td>150 </td></tr>\n",
       "\t<tr><td>拒绝</td></tr>\n",
       "\t<tr><td>115 </td></tr>\n",
       "</tbody>\n",
       "</table>\n"
      ],
      "text/latex": [
       "A tibble: 6 × 1\n",
       "\\begin{tabular}{l}\n",
       " 收缩压\\\\\n",
       " <chr>\\\\\n",
       "\\hline\n",
       "\t 145 \\\\\n",
       "\t 110 \\\\\n",
       "\t 未测\\\\\n",
       "\t 150 \\\\\n",
       "\t 拒绝\\\\\n",
       "\t 115 \\\\\n",
       "\\end{tabular}\n"
      ],
      "text/markdown": [
       "\n",
       "A tibble: 6 × 1\n",
       "\n",
       "| 收缩压 &lt;chr&gt; |\n",
       "|---|\n",
       "| 145  |\n",
       "| 110  |\n",
       "| 未测 |\n",
       "| 150  |\n",
       "| 拒绝 |\n",
       "| 115  |\n",
       "\n"
      ],
      "text/plain": [
       "  收缩压\n",
       "1 145   \n",
       "2 110   \n",
       "3 未测  \n",
       "4 150   \n",
       "5 拒绝  \n",
       "6 115   "
      ]
     },
     "metadata": {},
     "output_type": "display_data"
    }
   ],
   "source": [
    "d.bp[, \"收缩压\"]"
   ]
  },
  {
   "cell_type": "code",
   "execution_count": 89,
   "metadata": {
    "vscode": {
     "languageId": "r"
    }
   },
   "outputs": [
    {
     "data": {
      "text/html": [
       "<style>\n",
       ".list-inline {list-style: none; margin:0; padding: 0}\n",
       ".list-inline>li {display: inline-block}\n",
       ".list-inline>li:not(:last-child)::after {content: \"\\00b7\"; padding: 0 .5ex}\n",
       "</style>\n",
       "<ol class=list-inline><li>'145'</li><li>'110'</li><li>'未测'</li><li>'150'</li><li>'拒绝'</li><li>'115'</li></ol>\n"
      ],
      "text/latex": [
       "\\begin{enumerate*}\n",
       "\\item '145'\n",
       "\\item '110'\n",
       "\\item '未测'\n",
       "\\item '150'\n",
       "\\item '拒绝'\n",
       "\\item '115'\n",
       "\\end{enumerate*}\n"
      ],
      "text/markdown": [
       "1. '145'\n",
       "2. '110'\n",
       "3. '未测'\n",
       "4. '150'\n",
       "5. '拒绝'\n",
       "6. '115'\n",
       "\n",
       "\n"
      ],
      "text/plain": [
       "[1] \"145\"  \"110\"  \"未测\" \"150\"  \"拒绝\" \"115\" "
      ]
     },
     "metadata": {},
     "output_type": "display_data"
    }
   ],
   "source": [
    "d.bp[[\"收缩压\"]]"
   ]
  },
  {
   "cell_type": "markdown",
   "metadata": {},
   "source": [
    "### 13.2.3 行名问题"
   ]
  },
  {
   "cell_type": "markdown",
   "metadata": {},
   "source": [
    "tibble不支持行名(rownames)， 有行名的数据框用as_tibble()转换为tibble时， 可以用rownames=\"变量名\"选项将行名转换成tibble的一列， 该列的变量名由选项值确定。 原来用行名完成的功能， 可以改用dplyr包的left_join()等函数， 这些函数进行数据框的横向连接。 详见26。\n",
    "\n",
    "实际上，旧式数据框支持行名，有如下的缺点：\n",
    "\n",
    "行名本身往往也是有效的数据，如身份证号， 将有效数据以数据框中的列和行名两种不同形式保存， 增加了复杂度；\n",
    "为了使用某些变量辨识不同的行（观测）， 行名也具有局限性： 行名必须是相互不同的， 必须是字符型， 而用来区分各个观测的变量有可能有多个， 也可能不是字符型。\n",
    "行名要求互不相同是有局限性的， 如果用来辨识各行的变量有重复值， 就可以构成对各行的一种自然的分组。"
   ]
  },
  {
   "cell_type": "markdown",
   "metadata": {},
   "source": [
    "### 13.2.4 列表类型的列"
   ]
  },
  {
   "cell_type": "code",
   "execution_count": 90,
   "metadata": {
    "vscode": {
     "languageId": "r"
    }
   },
   "outputs": [
    {
     "data": {
      "text/html": [
       "<table class=\"dataframe\">\n",
       "<caption>A tibble: 3 × 2</caption>\n",
       "<thead>\n",
       "\t<tr><th scope=col>x</th><th scope=col>y</th></tr>\n",
       "\t<tr><th scope=col>&lt;int&gt;</th><th scope=col>&lt;list&gt;</th></tr>\n",
       "</thead>\n",
       "<tbody>\n",
       "\t<tr><td>1</td><td>1, 2, 3, 4, 5, 6, 7</td></tr>\n",
       "\t<tr><td>2</td><td>1, 2, 3, 4, 5, 6, 7</td></tr>\n",
       "\t<tr><td>3</td><td>1, 2, 3, 4, 5, 6, 7</td></tr>\n",
       "</tbody>\n",
       "</table>\n"
      ],
      "text/latex": [
       "A tibble: 3 × 2\n",
       "\\begin{tabular}{ll}\n",
       " x & y\\\\\n",
       " <int> & <list>\\\\\n",
       "\\hline\n",
       "\t 1 & 1, 2, 3, 4, 5, 6, 7\\\\\n",
       "\t 2 & 1, 2, 3, 4, 5, 6, 7\\\\\n",
       "\t 3 & 1, 2, 3, 4, 5, 6, 7\\\\\n",
       "\\end{tabular}\n"
      ],
      "text/markdown": [
       "\n",
       "A tibble: 3 × 2\n",
       "\n",
       "| x &lt;int&gt; | y &lt;list&gt; |\n",
       "|---|---|\n",
       "| 1 | 1, 2, 3, 4, 5, 6, 7 |\n",
       "| 2 | 1, 2, 3, 4, 5, 6, 7 |\n",
       "| 3 | 1, 2, 3, 4, 5, 6, 7 |\n",
       "\n"
      ],
      "text/plain": [
       "  x y                  \n",
       "1 1 1, 2, 3, 4, 5, 6, 7\n",
       "2 2 1, 2, 3, 4, 5, 6, 7\n",
       "3 3 1, 2, 3, 4, 5, 6, 7"
      ]
     },
     "metadata": {},
     "output_type": "display_data"
    }
   ],
   "source": [
    "tibble(x = 1:3, y = list(1:7))"
   ]
  },
  {
   "cell_type": "markdown",
   "metadata": {},
   "source": [
    "## 13.3 练习"
   ]
  },
  {
   "cell_type": "markdown",
   "metadata": {},
   "source": [
    "假设class.csv已经读入为R数据框d.class, 其中的sex列已经自动转换为因子。\n",
    "\n",
    "1. 显示d.class中年龄至少为15的行子集；\n",
    "\n",
    "2. 显示女生且年龄至少为15的学生姓名和年龄；\n",
    "\n",
    "3. 取出数据框中的age变量赋给变量x。"
   ]
  },
  {
   "cell_type": "code",
   "execution_count": null,
   "metadata": {
    "vscode": {
     "languageId": "r"
    }
   },
   "outputs": [],
   "source": []
  }
 ],
 "metadata": {
  "kernelspec": {
   "display_name": "R",
   "language": "R",
   "name": "ir"
  },
  "language_info": {
   "codemirror_mode": "r",
   "file_extension": ".r",
   "mimetype": "text/x-r-source",
   "name": "R",
   "pygments_lexer": "r",
   "version": "4.2.1"
  },
  "orig_nbformat": 4
 },
 "nbformat": 4,
 "nbformat_minor": 2
}
