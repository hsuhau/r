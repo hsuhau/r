{
 "cells": [
  {
   "cell_type": "markdown",
   "id": "91fdd313",
   "metadata": {},
   "source": [
    "# 6 字符型数据及其处理"
   ]
  },
  {
   "cell_type": "markdown",
   "id": "452ea774",
   "metadata": {},
   "source": [
    "## 6.1 字符型向量"
   ]
  },
  {
   "cell_type": "code",
   "execution_count": 1,
   "id": "67c22a02",
   "metadata": {
    "ExecuteTime": {
     "end_time": "2022-09-30T05:31:04.848567Z",
     "start_time": "2022-09-30T05:31:04.831Z"
    },
    "vscode": {
     "languageId": "r"
    }
   },
   "outputs": [],
   "source": [
    "# 字符型向量是元素为字符串的向量\n",
    "s1 <- c('abc', '', 'a cat', NA, '字')"
   ]
  },
  {
   "cell_type": "markdown",
   "id": "ce747587",
   "metadata": {},
   "source": [
    "## 6.2 paste() 函数 "
   ]
  },
  {
   "cell_type": "code",
   "execution_count": 2,
   "id": "cfb15069",
   "metadata": {
    "ExecuteTime": {
     "end_time": "2022-09-30T05:34:40.346792Z",
     "start_time": "2022-09-30T05:34:40.333Z"
    },
    "vscode": {
     "languageId": "r"
    }
   },
   "outputs": [
    {
     "data": {
      "text/html": [
       "<style>\n",
       ".list-inline {list-style: none; margin:0; padding: 0}\n",
       ".list-inline>li {display: inline-block}\n",
       ".list-inline>li:not(:last-child)::after {content: \"\\00b7\"; padding: 0 .5ex}\n",
       "</style>\n",
       "<ol class=list-inline><li>'ab ef'</li><li>'cd gh'</li></ol>\n"
      ],
      "text/latex": [
       "\\begin{enumerate*}\n",
       "\\item 'ab ef'\n",
       "\\item 'cd gh'\n",
       "\\end{enumerate*}\n"
      ],
      "text/markdown": [
       "1. 'ab ef'\n",
       "2. 'cd gh'\n",
       "\n",
       "\n"
      ],
      "text/plain": [
       "[1] \"ab ef\" \"cd gh\""
      ]
     },
     "metadata": {},
     "output_type": "display_data"
    },
    {
     "data": {
      "text/html": [
       "<style>\n",
       ".list-inline {list-style: none; margin:0; padding: 0}\n",
       ".list-inline>li {display: inline-block}\n",
       ".list-inline>li:not(:last-child)::after {content: \"\\00b7\"; padding: 0 .5ex}\n",
       "</style>\n",
       "<ol class=list-inline><li>'ab ef '</li><li>'cd gh '</li></ol>\n"
      ],
      "text/latex": [
       "\\begin{enumerate*}\n",
       "\\item 'ab ef '\n",
       "\\item 'cd gh '\n",
       "\\end{enumerate*}\n"
      ],
      "text/markdown": [
       "1. 'ab ef '\n",
       "2. 'cd gh '\n",
       "\n",
       "\n"
      ],
      "text/plain": [
       "[1] \"ab ef \" \"cd gh \""
      ]
     },
     "metadata": {},
     "output_type": "display_data"
    }
   ],
   "source": [
    "# paste()函数用来连接两个字符型向量，元素--对应连接，默认用空格连接\n",
    "paste(c('ab', 'cd'), c('ef', 'gh'))\n",
    "paste(c('ab', 'cd'), c('ef', 'gh'), seq = \"\")"
   ]
  },
  {
   "cell_type": "markdown",
   "metadata": {
    "collapsed": false
   },
   "source": [
    "## 6.3 转换大小写"
   ]
  },
  {
   "cell_type": "code",
   "execution_count": 3,
   "metadata": {
    "collapsed": false,
    "vscode": {
     "languageId": "r"
    }
   },
   "outputs": [
    {
     "data": {
      "text/html": [
       "<style>\n",
       ".list-inline {list-style: none; margin:0; padding: 0}\n",
       ".list-inline>li {display: inline-block}\n",
       ".list-inline>li:not(:last-child)::after {content: \"\\00b7\"; padding: 0 .5ex}\n",
       "</style>\n",
       "<ol class=list-inline><li>'ABC'</li><li>'UFO'</li><li>NA</li></ol>\n"
      ],
      "text/latex": [
       "\\begin{enumerate*}\n",
       "\\item 'ABC'\n",
       "\\item 'UFO'\n",
       "\\item NA\n",
       "\\end{enumerate*}\n"
      ],
      "text/markdown": [
       "1. 'ABC'\n",
       "2. 'UFO'\n",
       "3. NA\n",
       "\n",
       "\n"
      ],
      "text/plain": [
       "[1] \"ABC\" \"UFO\" NA   "
      ]
     },
     "metadata": {},
     "output_type": "display_data"
    },
    {
     "data": {
      "text/html": [
       "<style>\n",
       ".list-inline {list-style: none; margin:0; padding: 0}\n",
       ".list-inline>li {display: inline-block}\n",
       ".list-inline>li:not(:last-child)::after {content: \"\\00b7\"; padding: 0 .5ex}\n",
       "</style>\n",
       "<ol class=list-inline><li>'abc'</li><li>'ufo'</li><li>NA</li></ol>\n"
      ],
      "text/latex": [
       "\\begin{enumerate*}\n",
       "\\item 'abc'\n",
       "\\item 'ufo'\n",
       "\\item NA\n",
       "\\end{enumerate*}\n"
      ],
      "text/markdown": [
       "1. 'abc'\n",
       "2. 'ufo'\n",
       "3. NA\n",
       "\n",
       "\n"
      ],
      "text/plain": [
       "[1] \"abc\" \"ufo\" NA   "
      ]
     },
     "metadata": {},
     "output_type": "display_data"
    }
   ],
   "source": [
    "toupper(c('abc', 'ufo', NA))\n",
    "tolower(c('ABC', 'UFO', NA))"
   ]
  },
  {
   "cell_type": "markdown",
   "metadata": {
    "collapsed": false
   },
   "source": [
    "## 6.4 字符串长度"
   ]
  },
  {
   "cell_type": "code",
   "execution_count": 4,
   "metadata": {
    "collapsed": false,
    "vscode": {
     "languageId": "r"
    }
   },
   "outputs": [
    {
     "data": {
      "text/html": [
       "12"
      ],
      "text/latex": [
       "12"
      ],
      "text/markdown": [
       "12"
      ],
      "text/plain": [
       "[1] 12"
      ]
     },
     "metadata": {},
     "output_type": "display_data"
    },
    {
     "data": {
      "text/html": [
       "10"
      ],
      "text/latex": [
       "10"
      ],
      "text/markdown": [
       "10"
      ],
      "text/plain": [
       "[1] 10"
      ]
     },
     "metadata": {},
     "output_type": "display_data"
    }
   ],
   "source": [
    "nchar('abcdef gh字', type = 'bytes')\n",
    "nchar('abcdef gh字', type = 'chars')"
   ]
  },
  {
   "cell_type": "markdown",
   "metadata": {
    "collapsed": false
   },
   "source": [
    "## 6.5 取子串"
   ]
  },
  {
   "cell_type": "code",
   "execution_count": 5,
   "metadata": {
    "collapsed": false,
    "vscode": {
     "languageId": "r"
    }
   },
   "outputs": [
    {
     "data": {
      "text/html": [
       "'HI'"
      ],
      "text/latex": [
       "'HI'"
      ],
      "text/markdown": [
       "'HI'"
      ],
      "text/plain": [
       "[1] \"HI\""
      ]
     },
     "metadata": {},
     "output_type": "display_data"
    },
    {
     "data": {
      "text/html": [
       "<style>\n",
       ".list-inline {list-style: none; margin:0; padding: 0}\n",
       ".list-inline>li {display: inline-block}\n",
       ".list-inline>li:not(:last-child)::after {content: \"\\00b7\"; padding: 0 .5ex}\n",
       "</style>\n",
       "<ol class=list-inline><li>'HI'</li><li>'SA'</li></ol>\n"
      ],
      "text/latex": [
       "\\begin{enumerate*}\n",
       "\\item 'HI'\n",
       "\\item 'SA'\n",
       "\\end{enumerate*}\n"
      ],
      "text/markdown": [
       "1. 'HI'\n",
       "2. 'SA'\n",
       "\n",
       "\n"
      ],
      "text/plain": [
       "[1] \"HI\" \"SA\""
      ]
     },
     "metadata": {},
     "output_type": "display_data"
    },
    {
     "data": {
      "text/html": [
       "<style>\n",
       ".list-inline {list-style: none; margin:0; padding: 0}\n",
       ".list-inline>li {display: inline-block}\n",
       ".list-inline>li:not(:last-child)::after {content: \"\\00b7\"; padding: 0 .5ex}\n",
       "</style>\n",
       "<ol class=list-inline><li>'HINA'</li><li>'SA'</li></ol>\n"
      ],
      "text/latex": [
       "\\begin{enumerate*}\n",
       "\\item 'HINA'\n",
       "\\item 'SA'\n",
       "\\end{enumerate*}\n"
      ],
      "text/markdown": [
       "1. 'HINA'\n",
       "2. 'SA'\n",
       "\n",
       "\n"
      ],
      "text/plain": [
       "[1] \"HINA\" \"SA\"  "
      ]
     },
     "metadata": {},
     "output_type": "display_data"
    }
   ],
   "source": [
    "# substr(x, start, stop) 从字符串x中取出从第start个到第stop个字串\n",
    "substr(\"CHINA\", 2, 3)\n",
    "substr(c(\"CHINA\", \"USA\"), 2, 3)\n",
    "substring(c(\"CHINA\", \"USA\"), 2)"
   ]
  },
  {
   "cell_type": "markdown",
   "metadata": {
    "collapsed": false
   },
   "source": [
    "## 6.6 类型转换"
   ]
  },
  {
   "cell_type": "code",
   "execution_count": 6,
   "metadata": {
    "collapsed": false,
    "vscode": {
     "languageId": "r"
    }
   },
   "outputs": [
    {
     "data": {
      "text/html": [
       "<style>\n",
       ".list-inline {list-style: none; margin:0; padding: 0}\n",
       ".list-inline>li {display: inline-block}\n",
       ".list-inline>li:not(:last-child)::after {content: \"\\00b7\"; padding: 0 .5ex}\n",
       "</style>\n",
       "<ol class=list-inline><li>7</li><li>66</li></ol>\n"
      ],
      "text/latex": [
       "\\begin{enumerate*}\n",
       "\\item 7\n",
       "\\item 66\n",
       "\\end{enumerate*}\n"
      ],
      "text/markdown": [
       "1. 7\n",
       "2. 66\n",
       "\n",
       "\n"
      ],
      "text/plain": [
       "[1]  7 66"
      ]
     },
     "metadata": {},
     "output_type": "display_data"
    },
    {
     "data": {
      "text/html": [
       "<style>\n",
       ".list-inline {list-style: none; margin:0; padding: 0}\n",
       ".list-inline>li {display: inline-block}\n",
       ".list-inline>li:not(:last-child)::after {content: \"\\00b7\"; padding: 0 .5ex}\n",
       "</style>\n",
       "<ol class=list-inline><li>'7'</li><li>'66'</li></ol>\n"
      ],
      "text/latex": [
       "\\begin{enumerate*}\n",
       "\\item '7'\n",
       "\\item '66'\n",
       "\\end{enumerate*}\n"
      ],
      "text/markdown": [
       "1. '7'\n",
       "2. '66'\n",
       "\n",
       "\n"
      ],
      "text/plain": [
       "[1] \"7\"  \"66\""
      ]
     },
     "metadata": {},
     "output_type": "display_data"
    }
   ],
   "source": [
    "# as.numeric() 把内容是数字的字符型值转换为数值\n",
    "as.numeric(substr(c('JAN07', 'MAR66'), 4, 5))\n",
    "as.character(as.numeric(substr(c('JAN07', 'MAR66'), 4, 5)))"
   ]
  },
  {
   "cell_type": "markdown",
   "metadata": {
    "collapsed": false
   },
   "source": [
    "## 6.7 字符串替换功能"
   ]
  },
  {
   "cell_type": "code",
   "execution_count": 7,
   "metadata": {
    "collapsed": false,
    "vscode": {
     "languageId": "r"
    }
   },
   "outputs": [
    {
     "data": {
      "text/html": [
       "'1,3,5'"
      ],
      "text/latex": [
       "'1,3,5'"
      ],
      "text/markdown": [
       "'1,3,5'"
      ],
      "text/plain": [
       "[1] \"1,3,5\""
      ]
     },
     "metadata": {},
     "output_type": "display_data"
    }
   ],
   "source": [
    "# gsub()可以替换字符串中的子串\n",
    "gsub(';', ',', '1,3;5', fixed = TRUE)"
   ]
  },
  {
   "cell_type": "markdown",
   "metadata": {
    "collapsed": false
   },
   "source": [
    "## 6.8 正则表达式"
   ]
  },
  {
   "cell_type": "code",
   "execution_count": 1,
   "metadata": {
    "collapsed": false,
    "vscode": {
     "languageId": "r"
    }
   },
   "outputs": [
    {
     "data": {
      "text/html": [
       "'a cat in a box'"
      ],
      "text/latex": [
       "'a cat in a box'"
      ],
      "text/markdown": [
       "'a cat in a box'"
      ],
      "text/plain": [
       "[1] \"a cat in a box\""
      ]
     },
     "metadata": {},
     "output_type": "display_data"
    }
   ],
   "source": [
    "# 正则表达式是一种匹配某种字符串模式的方法\n",
    "# R中支持perl语言格式的正则表达式\n",
    "gsub('[[:space:]]+', ' ',\n",
    "     'a   cat  in a box', perl = TRUE)"
   ]
  }
 ],
 "metadata": {
  "kernelspec": {
   "display_name": "R",
   "language": "R",
   "name": "ir"
  },
  "language_info": {
   "codemirror_mode": "r",
   "file_extension": ".r",
   "mimetype": "text/x-r-source",
   "name": "R",
   "pygments_lexer": "r",
   "version": "4.2.1"
  },
  "toc": {
   "base_numbering": 1,
   "nav_menu": {},
   "number_sections": true,
   "sideBar": true,
   "skip_h1_title": false,
   "title_cell": "Table of Contents",
   "title_sidebar": "Contents",
   "toc_cell": false,
   "toc_position": {},
   "toc_section_display": true,
   "toc_window_display": false
  },
  "varInspector": {
   "cols": {
    "lenName": 16,
    "lenType": 16,
    "lenVar": 40
   },
   "kernels_config": {
    "python": {
     "delete_cmd_postfix": "",
     "delete_cmd_prefix": "del ",
     "library": "var_list.py",
     "varRefreshCmd": "print(var_dic_list())"
    },
    "r": {
     "delete_cmd_postfix": ") ",
     "delete_cmd_prefix": "rm(",
     "library": "var_list.r",
     "varRefreshCmd": "cat(var_dic_list()) "
    }
   },
   "types_to_exclude": [
    "module",
    "function",
    "builtin_function_or_method",
    "instance",
    "_Feature"
   ],
   "window_display": false
  }
 },
 "nbformat": 4,
 "nbformat_minor": 5
}
