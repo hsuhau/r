{
 "cells": [
  {
   "cell_type": "markdown",
   "source": [
    "# 3 常量与变量"
   ],
   "metadata": {
    "collapsed": false
   }
  },
  {
   "cell_type": "markdown",
   "source": [
    "## 3.2 变量"
   ],
   "metadata": {
    "collapsed": false
   }
  },
  {
   "cell_type": "code",
   "execution_count": 1,
   "id": "cf888c71",
   "metadata": {
    "ExecuteTime": {
     "end_time": "2022-09-30T05:06:26.153922Z",
     "start_time": "2022-09-30T05:06:19.970Z"
    }
   },
   "outputs": [
    {
     "data": {
      "text/html": "2.5",
      "text/markdown": "2.5",
      "text/latex": "2.5",
      "text/plain": "[1] 2.5"
     },
     "metadata": {},
     "output_type": "display_data"
    }
   ],
   "source": [
    "x5 <- 6.25\n",
    "x6 <- sqrt(x5)\n",
    "x6"
   ]
  },
  {
   "cell_type": "markdown",
   "id": "e1fd40ac",
   "metadata": {
    "ExecuteTime": {
     "end_time": "2022-09-29T16:23:17.485794Z",
     "start_time": "2022-09-29T16:23:10.786Z"
    }
   },
   "source": [
    "## 3.3 R数据类型"
   ]
  },
  {
   "cell_type": "code",
   "execution_count": 2,
   "id": "257baba6",
   "metadata": {
    "ExecuteTime": {
     "end_time": "2022-09-30T05:06:26.175856Z",
     "start_time": "2022-09-30T05:06:19.974Z"
    }
   },
   "outputs": [],
   "source": [
    "# 基本数据类型有数值，逻辑性，文本，支持缺失值，有专门的复数类型"
   ]
  }
 ],
 "metadata": {
  "kernelspec": {
   "display_name": "R",
   "language": "R",
   "name": "ir"
  },
  "language_info": {
   "codemirror_mode": "r",
   "file_extension": ".r",
   "mimetype": "text/x-r-source",
   "name": "R",
   "pygments_lexer": "r",
   "version": "4.2.1"
  },
  "toc": {
   "base_numbering": 1,
   "nav_menu": {},
   "number_sections": true,
   "sideBar": true,
   "skip_h1_title": false,
   "title_cell": "Table of Contents",
   "title_sidebar": "Contents",
   "toc_cell": false,
   "toc_position": {},
   "toc_section_display": true,
   "toc_window_display": false
  },
  "varInspector": {
   "cols": {
    "lenName": 16,
    "lenType": 16,
    "lenVar": 40
   },
   "kernels_config": {
    "python": {
     "delete_cmd_postfix": "",
     "delete_cmd_prefix": "del ",
     "library": "var_list.py",
     "varRefreshCmd": "print(var_dic_list())"
    },
    "r": {
     "delete_cmd_postfix": ") ",
     "delete_cmd_prefix": "rm(",
     "library": "var_list.r",
     "varRefreshCmd": "cat(var_dic_list()) "
    }
   },
   "types_to_exclude": [
    "module",
    "function",
    "builtin_function_or_method",
    "instance",
    "_Feature"
   ],
   "window_display": false
  }
 },
 "nbformat": 4,
 "nbformat_minor": 5
}
