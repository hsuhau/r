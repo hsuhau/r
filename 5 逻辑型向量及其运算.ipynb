{
 "cells": [
  {
   "cell_type": "markdown",
   "id": "060ed167",
   "metadata": {},
   "source": [
    "# 5 逻辑型向量及其运算"
   ]
  },
  {
   "cell_type": "markdown",
   "id": "d9d1e1d9",
   "metadata": {},
   "source": [
    "## 5.1 逻辑型向量与比较运算"
   ]
  },
  {
   "cell_type": "code",
   "execution_count": 1,
   "id": "913854f4",
   "metadata": {
    "ExecuteTime": {
     "end_time": "2022-09-30T05:06:27.020535Z",
     "start_time": "2022-09-30T05:06:20.057Z"
    }
   },
   "outputs": [
    {
     "name": "stdout",
     "output_type": "stream",
     "text": [
      "[1] TRUE\n"
     ]
    }
   ],
   "source": [
    "# 逻辑型是R的基本数据类型之一，只有两个值TRUE和FALSE，缺失时为NA。逻辑值一般产生自比较\n",
    "sele <- (log10(15) < 2)\n",
    "print(sele)"
   ]
  },
  {
   "cell_type": "code",
   "execution_count": 2,
   "id": "597da484",
   "metadata": {
    "ExecuteTime": {
     "end_time": "2022-09-30T05:06:27.058032Z",
     "start_time": "2022-09-30T05:06:20.059Z"
    }
   },
   "outputs": [
    {
     "data": {
      "text/html": "<style>\n.list-inline {list-style: none; margin:0; padding: 0}\n.list-inline>li {display: inline-block}\n.list-inline>li:not(:last-child)::after {content: \"\\00b7\"; padding: 0 .5ex}\n</style>\n<ol class=list-inline><li>FALSE</li><li>TRUE</li><li>TRUE</li></ol>\n",
      "text/markdown": "1. FALSE\n2. TRUE\n3. TRUE\n\n\n",
      "text/latex": "\\begin{enumerate*}\n\\item FALSE\n\\item TRUE\n\\item TRUE\n\\end{enumerate*}\n",
      "text/plain": "[1] FALSE  TRUE  TRUE"
     },
     "metadata": {},
     "output_type": "display_data"
    },
    {
     "data": {
      "text/html": "<style>\n.list-inline {list-style: none; margin:0; padding: 0}\n.list-inline>li {display: inline-block}\n.list-inline>li:not(:last-child)::after {content: \"\\00b7\"; padding: 0 .5ex}\n</style>\n<ol class=list-inline><li>FALSE</li><li>FALSE</li><li>TRUE</li><li>TRUE</li></ol>\n",
      "text/markdown": "1. FALSE\n2. FALSE\n3. TRUE\n4. TRUE\n\n\n",
      "text/latex": "\\begin{enumerate*}\n\\item FALSE\n\\item FALSE\n\\item TRUE\n\\item TRUE\n\\end{enumerate*}\n",
      "text/plain": "[1] FALSE FALSE  TRUE  TRUE"
     },
     "metadata": {},
     "output_type": "display_data"
    }
   ],
   "source": [
    "# 向量比较结果为逻辑型向量\n",
    "c(1, 3, 5) > 2\n",
    "(1:4) >= (4:1)"
   ]
  },
  {
   "cell_type": "markdown",
   "id": "bf2198be",
   "metadata": {},
   "source": [
    "向量比较也遵从R的向量间运算的一般规则：向量与标量的运算是向量每个元素与标量都分别运算一次，等长向量的运算时对应元素运算，不等长但长度为倍数关系的向量运算是把短的从头重复利用"
   ]
  },
  {
   "cell_type": "code",
   "execution_count": 3,
   "id": "3fbfbd36",
   "metadata": {
    "ExecuteTime": {
     "end_time": "2022-09-30T05:06:27.088601Z",
     "start_time": "2022-09-30T05:06:20.078Z"
    }
   },
   "outputs": [
    {
     "data": {
      "text/html": "<style>\n.list-inline {list-style: none; margin:0; padding: 0}\n.list-inline>li {display: inline-block}\n.list-inline>li:not(:last-child)::after {content: \"\\00b7\"; padding: 0 .5ex}\n</style>\n<ol class=list-inline><li>FALSE</li><li>&lt;NA&gt;</li><li>TRUE</li></ol>\n",
      "text/markdown": "1. FALSE\n2. &lt;NA&gt;\n3. TRUE\n\n\n",
      "text/latex": "\\begin{enumerate*}\n\\item FALSE\n\\item <NA>\n\\item TRUE\n\\end{enumerate*}\n",
      "text/plain": "[1] FALSE    NA  TRUE"
     },
     "metadata": {},
     "output_type": "display_data"
    },
    {
     "data": {
      "text/html": "&lt;NA&gt;",
      "text/markdown": "&lt;NA&gt;",
      "text/latex": "<NA>",
      "text/plain": "[1] NA"
     },
     "metadata": {},
     "output_type": "display_data"
    }
   ],
   "source": [
    "# 与NA比较产生NA\n",
    "c(1, NA, 3) > 2\n",
    "NA == NA"
   ]
  },
  {
   "cell_type": "code",
   "execution_count": 4,
   "id": "0b933361",
   "metadata": {
    "ExecuteTime": {
     "end_time": "2022-09-30T05:06:27.114339Z",
     "start_time": "2022-09-30T05:06:20.098Z"
    },
    "scrolled": true
   },
   "outputs": [
    {
     "data": {
      "text/html": "<style>\n.list-inline {list-style: none; margin:0; padding: 0}\n.list-inline>li {display: inline-block}\n.list-inline>li:not(:last-child)::after {content: \"\\00b7\"; padding: 0 .5ex}\n</style>\n<ol class=list-inline><li>FALSE</li><li>TRUE</li><li>FALSE</li></ol>\n",
      "text/markdown": "1. FALSE\n2. TRUE\n3. FALSE\n\n\n",
      "text/latex": "\\begin{enumerate*}\n\\item FALSE\n\\item TRUE\n\\item FALSE\n\\end{enumerate*}\n",
      "text/plain": "[1] FALSE  TRUE FALSE"
     },
     "metadata": {},
     "output_type": "display_data"
    }
   ],
   "source": [
    "# is.na()函数判断向量每个元素是否NA\n",
    "is.na(c(1, NA, 2) > 2)"
   ]
  },
  {
   "cell_type": "code",
   "execution_count": 5,
   "id": "70601600",
   "metadata": {
    "ExecuteTime": {
     "end_time": "2022-09-30T05:06:27.165035Z",
     "start_time": "2022-09-30T05:06:20.102Z"
    }
   },
   "outputs": [
    {
     "data": {
      "text/html": "<style>\n.list-inline {list-style: none; margin:0; padding: 0}\n.list-inline>li {display: inline-block}\n.list-inline>li:not(:last-child)::after {content: \"\\00b7\"; padding: 0 .5ex}\n</style>\n<ol class=list-inline><li>TRUE</li><li>FALSE</li><li>TRUE</li></ol>\n",
      "text/markdown": "1. TRUE\n2. FALSE\n3. TRUE\n\n\n",
      "text/latex": "\\begin{enumerate*}\n\\item TRUE\n\\item FALSE\n\\item TRUE\n\\end{enumerate*}\n",
      "text/plain": "[1]  TRUE FALSE  TRUE"
     },
     "metadata": {},
     "output_type": "display_data"
    }
   ],
   "source": [
    "# is/=.finite()函数判断向量每个元素是否Inf值\n",
    "is.finite(c(1, NA, 2) > 2)"
   ]
  },
  {
   "cell_type": "code",
   "execution_count": 6,
   "id": "3a22e5bb",
   "metadata": {
    "ExecuteTime": {
     "end_time": "2022-09-30T05:06:27.191754Z",
     "start_time": "2022-09-30T05:06:20.106Z"
    }
   },
   "outputs": [
    {
     "data": {
      "text/html": "<style>\n.list-inline {list-style: none; margin:0; padding: 0}\n.list-inline>li {display: inline-block}\n.list-inline>li:not(:last-child)::after {content: \"\\00b7\"; padding: 0 .5ex}\n</style>\n<ol class=list-inline><li>FALSE</li><li>TRUE</li></ol>\n",
      "text/markdown": "1. FALSE\n2. TRUE\n\n\n",
      "text/latex": "\\begin{enumerate*}\n\\item FALSE\n\\item TRUE\n\\end{enumerate*}\n",
      "text/plain": "[1] FALSE  TRUE"
     },
     "metadata": {},
     "output_type": "display_data"
    }
   ],
   "source": [
    "# %in% 属于\n",
    "c(1, 3) %in% c(2, 3, 4)"
   ]
  },
  {
   "cell_type": "code",
   "execution_count": 7,
   "id": "a6966ede",
   "metadata": {
    "ExecuteTime": {
     "end_time": "2022-09-30T05:06:27.220082Z",
     "start_time": "2022-09-30T05:06:20.110Z"
    }
   },
   "outputs": [
    {
     "data": {
      "text/html": "<style>\n.list-inline {list-style: none; margin:0; padding: 0}\n.list-inline>li {display: inline-block}\n.list-inline>li:not(:last-child)::after {content: \"\\00b7\"; padding: 0 .5ex}\n</style>\n<ol class=list-inline><li>FALSE</li><li>TRUE</li></ol>\n",
      "text/markdown": "1. FALSE\n2. TRUE\n\n\n",
      "text/latex": "\\begin{enumerate*}\n\\item FALSE\n\\item TRUE\n\\end{enumerate*}\n",
      "text/plain": "[1] FALSE  TRUE"
     },
     "metadata": {},
     "output_type": "display_data"
    }
   ],
   "source": [
    "c(NA, 3) %in% c(2, 3, 4)"
   ]
  },
  {
   "cell_type": "code",
   "execution_count": 8,
   "id": "587e6997",
   "metadata": {
    "ExecuteTime": {
     "end_time": "2022-09-30T05:06:27.244837Z",
     "start_time": "2022-09-30T05:06:20.114Z"
    }
   },
   "outputs": [
    {
     "data": {
      "text/html": "<style>\n.list-inline {list-style: none; margin:0; padding: 0}\n.list-inline>li {display: inline-block}\n.list-inline>li:not(:last-child)::after {content: \"\\00b7\"; padding: 0 .5ex}\n</style>\n<ol class=list-inline><li>FALSE</li><li>TRUE</li></ol>\n",
      "text/markdown": "1. FALSE\n2. TRUE\n\n\n",
      "text/latex": "\\begin{enumerate*}\n\\item FALSE\n\\item TRUE\n\\end{enumerate*}\n",
      "text/plain": "[1] FALSE  TRUE"
     },
     "metadata": {},
     "output_type": "display_data"
    }
   ],
   "source": [
    "c(1, 3) %in% c(NA, 3, 4)"
   ]
  },
  {
   "cell_type": "code",
   "execution_count": 9,
   "id": "3d7c032e",
   "metadata": {
    "ExecuteTime": {
     "end_time": "2022-09-30T05:06:27.271250Z",
     "start_time": "2022-09-30T05:06:20.116Z"
    }
   },
   "outputs": [
    {
     "data": {
      "text/html": "<style>\n.list-inline {list-style: none; margin:0; padding: 0}\n.list-inline>li {display: inline-block}\n.list-inline>li:not(:last-child)::after {content: \"\\00b7\"; padding: 0 .5ex}\n</style>\n<ol class=list-inline><li>TRUE</li><li>TRUE</li></ol>\n",
      "text/markdown": "1. TRUE\n2. TRUE\n\n\n",
      "text/latex": "\\begin{enumerate*}\n\\item TRUE\n\\item TRUE\n\\end{enumerate*}\n",
      "text/plain": "[1] TRUE TRUE"
     },
     "metadata": {},
     "output_type": "display_data"
    }
   ],
   "source": [
    "c(NA, 3) %in% c(NA, 3, 4)"
   ]
  },
  {
   "cell_type": "markdown",
   "id": "64846ef4",
   "metadata": {},
   "source": [
    "## 5.2 逻辑运算"
   ]
  },
  {
   "cell_type": "code",
   "execution_count": 10,
   "id": "344a6fc4",
   "metadata": {
    "ExecuteTime": {
     "end_time": "2022-09-30T05:10:12.345052Z",
     "start_time": "2022-09-30T05:10:12.317Z"
    }
   },
   "outputs": [
    {
     "data": {
      "text/html": "TRUE",
      "text/markdown": "TRUE",
      "text/latex": "TRUE",
      "text/plain": "[1] TRUE"
     },
     "metadata": {},
     "output_type": "display_data"
    },
    {
     "data": {
      "text/html": "&lt;NA&gt;",
      "text/markdown": "&lt;NA&gt;",
      "text/latex": "<NA>",
      "text/plain": "[1] NA"
     },
     "metadata": {},
     "output_type": "display_data"
    },
    {
     "data": {
      "text/html": "&lt;NA&gt;",
      "text/markdown": "&lt;NA&gt;",
      "text/latex": "<NA>",
      "text/plain": "[1] NA"
     },
     "metadata": {},
     "output_type": "display_data"
    }
   ],
   "source": [
    "# xor(x,y)异或运算\n",
    "xor(TRUE, FALSE)\n",
    "xor(TRUE, NA)\n",
    "xor(FALSE, NA)"
   ]
  },
  {
   "cell_type": "code",
   "execution_count": 11,
   "id": "69c6c953",
   "metadata": {
    "ExecuteTime": {
     "end_time": "2022-09-30T05:14:29.024843Z",
     "start_time": "2022-09-30T05:14:28.993Z"
    }
   },
   "outputs": [
    {
     "data": {
      "text/html": "<style>\n.list-inline {list-style: none; margin:0; padding: 0}\n.list-inline>li {display: inline-block}\n.list-inline>li:not(:last-child)::after {content: \"\\00b7\"; padding: 0 .5ex}\n</style>\n<ol class=list-inline><li>TRUE</li><li>FALSE</li><li>&lt;NA&gt;</li></ol>\n",
      "text/markdown": "1. TRUE\n2. FALSE\n3. &lt;NA&gt;\n\n\n",
      "text/latex": "\\begin{enumerate*}\n\\item TRUE\n\\item FALSE\n\\item <NA>\n\\end{enumerate*}\n",
      "text/plain": "[1]  TRUE FALSE    NA"
     },
     "metadata": {},
     "output_type": "display_data"
    },
    {
     "data": {
      "text/html": "&lt;NA&gt;",
      "text/markdown": "&lt;NA&gt;",
      "text/latex": "<NA>",
      "text/plain": "[1] NA"
     },
     "metadata": {},
     "output_type": "display_data"
    },
    {
     "data": {
      "text/html": "TRUE",
      "text/markdown": "TRUE",
      "text/latex": "TRUE",
      "text/plain": "[1] TRUE"
     },
     "metadata": {},
     "output_type": "display_data"
    }
   ],
   "source": [
    "# \\ 或运算\n",
    "FALSE | c(TRUE, FALSE, NA)\n",
    "FALSE | NA\n",
    "NA | TRUE"
   ]
  },
  {
   "cell_type": "code",
   "execution_count": 12,
   "id": "64fe1f8a",
   "metadata": {
    "ExecuteTime": {
     "end_time": "2022-09-30T05:13:40.011171Z",
     "start_time": "2022-09-30T05:13:39.978Z"
    }
   },
   "outputs": [
    {
     "data": {
      "text/html": "<style>\n.list-inline {list-style: none; margin:0; padding: 0}\n.list-inline>li {display: inline-block}\n.list-inline>li:not(:last-child)::after {content: \"\\00b7\"; padding: 0 .5ex}\n</style>\n<ol class=list-inline><li>FALSE</li><li>FALSE</li></ol>\n",
      "text/markdown": "1. FALSE\n2. FALSE\n\n\n",
      "text/latex": "\\begin{enumerate*}\n\\item FALSE\n\\item FALSE\n\\end{enumerate*}\n",
      "text/plain": "[1] FALSE FALSE"
     },
     "metadata": {},
     "output_type": "display_data"
    },
    {
     "data": {
      "text/html": "<style>\n.list-inline {list-style: none; margin:0; padding: 0}\n.list-inline>li {display: inline-block}\n.list-inline>li:not(:last-child)::after {content: \"\\00b7\"; padding: 0 .5ex}\n</style>\n<ol class=list-inline><li>&lt;NA&gt;</li><li>FALSE</li><li>&lt;NA&gt;</li></ol>\n",
      "text/markdown": "1. &lt;NA&gt;\n2. FALSE\n3. &lt;NA&gt;\n\n\n",
      "text/latex": "\\begin{enumerate*}\n\\item <NA>\n\\item FALSE\n\\item <NA>\n\\end{enumerate*}\n",
      "text/plain": "[1]    NA FALSE    NA"
     },
     "metadata": {},
     "output_type": "display_data"
    },
    {
     "data": {
      "text/html": "&lt;NA&gt;",
      "text/markdown": "&lt;NA&gt;",
      "text/latex": "<NA>",
      "text/plain": "[1] NA"
     },
     "metadata": {},
     "output_type": "display_data"
    }
   ],
   "source": [
    "# & 与运算\n",
    "FALSE & c(TRUE, NA)\n",
    "c(TRUE, FALSE, TRUE) & NA\n",
    "NA & TRUE"
   ]
  },
  {
   "cell_type": "code",
   "execution_count": 13,
   "id": "dc41218e",
   "metadata": {
    "ExecuteTime": {
     "end_time": "2022-09-30T05:12:48.599077Z",
     "start_time": "2022-09-30T05:12:48.582Z"
    }
   },
   "outputs": [],
   "source": [
    "# && 和 \\\\\n",
    "# 分别为短路的标量逻辑与短路的标量逻辑或，仅对两个标量进行运算，如果有向量也仅使用第一个元素"
   ]
  },
  {
   "cell_type": "code",
   "execution_count": 14,
   "id": "31fdf89f",
   "metadata": {
    "ExecuteTime": {
     "end_time": "2022-09-30T05:14:42.010284Z",
     "start_time": "2022-09-30T05:14:41.996Z"
    }
   },
   "outputs": [
    {
     "data": {
      "text/html": "TRUE",
      "text/markdown": "TRUE",
      "text/latex": "TRUE",
      "text/plain": "[1] TRUE"
     },
     "metadata": {},
     "output_type": "display_data"
    }
   ],
   "source": [
    "TRUE || FALSE"
   ]
  },
  {
   "cell_type": "markdown",
   "id": "c328963f",
   "metadata": {},
   "source": [
    "## 5.3 逻辑运算函数"
   ]
  },
  {
   "cell_type": "code",
   "execution_count": 15,
   "id": "932e533e",
   "metadata": {
    "ExecuteTime": {
     "end_time": "2022-09-30T05:17:33.274252Z",
     "start_time": "2022-09-30T05:17:33.241Z"
    }
   },
   "outputs": [
    {
     "data": {
      "text/html": "TRUE",
      "text/markdown": "TRUE",
      "text/latex": "TRUE",
      "text/plain": "[1] TRUE"
     },
     "metadata": {},
     "output_type": "display_data"
    },
    {
     "data": {
      "text/html": "FALSE",
      "text/markdown": "FALSE",
      "text/latex": "FALSE",
      "text/plain": "[1] FALSE"
     },
     "metadata": {},
     "output_type": "display_data"
    },
    {
     "data": {
      "text/html": "FALSE",
      "text/markdown": "FALSE",
      "text/latex": "FALSE",
      "text/plain": "[1] FALSE"
     },
     "metadata": {},
     "output_type": "display_data"
    },
    {
     "data": {
      "text/html": "FALSE",
      "text/markdown": "FALSE",
      "text/latex": "FALSE",
      "text/plain": "[1] FALSE"
     },
     "metadata": {},
     "output_type": "display_data"
    }
   ],
   "source": [
    "# all(x) 函数测试所有元素为真\n",
    "all(c(TRUE, TRUE, TRUE))\n",
    "all(c(TRUE, FALSE, NA))\n",
    "all(c(TRUE, FALSE))\n",
    "all(c(FALSE, NA))"
   ]
  },
  {
   "cell_type": "code",
   "execution_count": 16,
   "id": "6f5019c4",
   "metadata": {
    "ExecuteTime": {
     "end_time": "2022-09-30T05:18:11.168317Z",
     "start_time": "2022-09-30T05:18:11.136Z"
    },
    "scrolled": true
   },
   "outputs": [
    {
     "data": {
      "text/html": "TRUE",
      "text/markdown": "TRUE",
      "text/latex": "TRUE",
      "text/plain": "[1] TRUE"
     },
     "metadata": {},
     "output_type": "display_data"
    },
    {
     "data": {
      "text/html": "TRUE",
      "text/markdown": "TRUE",
      "text/latex": "TRUE",
      "text/plain": "[1] TRUE"
     },
     "metadata": {},
     "output_type": "display_data"
    },
    {
     "data": {
      "text/html": "TRUE",
      "text/markdown": "TRUE",
      "text/latex": "TRUE",
      "text/plain": "[1] TRUE"
     },
     "metadata": {},
     "output_type": "display_data"
    },
    {
     "data": {
      "text/html": "&lt;NA&gt;",
      "text/markdown": "&lt;NA&gt;",
      "text/latex": "<NA>",
      "text/plain": "[1] NA"
     },
     "metadata": {},
     "output_type": "display_data"
    }
   ],
   "source": [
    "# any(x) 函数测试存在元素为真\n",
    "any(c(TRUE, TRUE, TRUE))\n",
    "any(c(TRUE, FALSE, NA))\n",
    "any(c(TRUE, FALSE))\n",
    "any(c(FALSE, NA))"
   ]
  },
  {
   "cell_type": "code",
   "execution_count": 17,
   "id": "87a3c629",
   "metadata": {
    "ExecuteTime": {
     "end_time": "2022-09-30T05:19:18.949929Z",
     "start_time": "2022-09-30T05:19:18.917Z"
    }
   },
   "outputs": [
    {
     "data": {
      "text/html": "<style>\n.list-inline {list-style: none; margin:0; padding: 0}\n.list-inline>li {display: inline-block}\n.list-inline>li:not(:last-child)::after {content: \"\\00b7\"; padding: 0 .5ex}\n</style>\n<ol class=list-inline><li>1</li><li>2</li><li>3</li></ol>\n",
      "text/markdown": "1. 1\n2. 2\n3. 3\n\n\n",
      "text/latex": "\\begin{enumerate*}\n\\item 1\n\\item 2\n\\item 3\n\\end{enumerate*}\n",
      "text/plain": "[1] 1 2 3"
     },
     "metadata": {},
     "output_type": "display_data"
    },
    {
     "data": {
      "text/html": "1",
      "text/markdown": "1",
      "text/latex": "1",
      "text/plain": "[1] 1"
     },
     "metadata": {},
     "output_type": "display_data"
    },
    {
     "data": {
      "text/html": "1",
      "text/markdown": "1",
      "text/latex": "1",
      "text/plain": "[1] 1"
     },
     "metadata": {},
     "output_type": "display_data"
    },
    {
     "data": {
      "text/html": "",
      "text/markdown": "",
      "text/latex": "",
      "text/plain": "integer(0)"
     },
     "metadata": {},
     "output_type": "display_data"
    }
   ],
   "source": [
    "# which(x) 函数返回真值对应的所有下标\n",
    "which(c(TRUE, TRUE, TRUE))\n",
    "which(c(TRUE, FALSE, NA))\n",
    "which(c(TRUE, FALSE))\n",
    "which(c(FALSE, NA))"
   ]
  },
  {
   "cell_type": "code",
   "execution_count": 18,
   "id": "520e4ef4",
   "metadata": {
    "ExecuteTime": {
     "end_time": "2022-09-30T05:21:38.496752Z",
     "start_time": "2022-09-30T05:21:38.473Z"
    }
   },
   "outputs": [
    {
     "data": {
      "text/html": "FALSE",
      "text/markdown": "FALSE",
      "text/latex": "FALSE",
      "text/plain": "[1] FALSE"
     },
     "metadata": {},
     "output_type": "display_data"
    },
    {
     "data": {
      "text/html": "FALSE",
      "text/markdown": "FALSE",
      "text/latex": "FALSE",
      "text/plain": "[1] FALSE"
     },
     "metadata": {},
     "output_type": "display_data"
    }
   ],
   "source": [
    "# identical(x,y)函数比较两个R对象x与y的内容是否完全相同，结果只会取标量TRUE与FALSE两种\n",
    "identical(c(1, 2, 3), c(1, 2, NA))\n",
    "identical(c(1, 2, 3), c(1L, 2L, 3L))"
   ]
  },
  {
   "cell_type": "code",
   "execution_count": 19,
   "id": "fe2524a5",
   "metadata": {
    "ExecuteTime": {
     "end_time": "2022-09-30T05:22:27.744700Z",
     "start_time": "2022-09-30T05:22:27.716Z"
    }
   },
   "outputs": [
    {
     "data": {
      "text/html": "'\\'is.NA\\' value mismatch: 1 in current 0 in target'",
      "text/markdown": "'\\'is.NA\\' value mismatch: 1 in current 0 in target'",
      "text/latex": "'\\textbackslash{}'is.NA\\textbackslash{}' value mismatch: 1 in current 0 in target'",
      "text/plain": "[1] \"'is.NA' value mismatch: 1 in current 0 in target\""
     },
     "metadata": {},
     "output_type": "display_data"
    },
    {
     "data": {
      "text/html": "TRUE",
      "text/markdown": "TRUE",
      "text/latex": "TRUE",
      "text/plain": "[1] TRUE"
     },
     "metadata": {},
     "output_type": "display_data"
    }
   ],
   "source": [
    "# 函数all.equal()与identical()类似， 但是在比较数值型时不区分整数型与实数型， 而且相同时返回标量TRUE， 但是不同时会返回一个说明有何不同的字符串\n",
    "all.equal(c(1, 2, 3), c(1, 2, NA))\n",
    "all.equal(c(1, 2, 3), c(1L, 2L, 3L))"
   ]
  },
  {
   "cell_type": "code",
   "execution_count": 20,
   "id": "de1e607d",
   "metadata": {
    "ExecuteTime": {
     "end_time": "2022-09-30T05:23:33.493784Z",
     "start_time": "2022-09-30T05:23:33.473Z"
    }
   },
   "outputs": [
    {
     "data": {
      "text/html": "<style>\n.list-inline {list-style: none; margin:0; padding: 0}\n.list-inline>li {display: inline-block}\n.list-inline>li:not(:last-child)::after {content: \"\\00b7\"; padding: 0 .5ex}\n</style>\n<ol class=list-inline><li>FALSE</li><li>FALSE</li><li>TRUE</li><li>FALSE</li><li>FALSE</li><li>FALSE</li><li>TRUE</li></ol>\n",
      "text/markdown": "1. FALSE\n2. FALSE\n3. TRUE\n4. FALSE\n5. FALSE\n6. FALSE\n7. TRUE\n\n\n",
      "text/latex": "\\begin{enumerate*}\n\\item FALSE\n\\item FALSE\n\\item TRUE\n\\item FALSE\n\\item FALSE\n\\item FALSE\n\\item TRUE\n\\end{enumerate*}\n",
      "text/plain": "[1] FALSE FALSE  TRUE FALSE FALSE FALSE  TRUE"
     },
     "metadata": {},
     "output_type": "display_data"
    }
   ],
   "source": [
    "# 函数duplicated()函数返回每个元素是否为重复值的结果\n",
    "duplicated(c(1, 2, 1, 3, NA, 4, NA))"
   ]
  },
  {
   "cell_type": "code",
   "execution_count": 21,
   "id": "bf902b22",
   "metadata": {
    "ExecuteTime": {
     "end_time": "2022-09-30T05:24:34.255214Z",
     "start_time": "2022-09-30T05:24:34.234Z"
    }
   },
   "outputs": [
    {
     "data": {
      "text/html": "<style>\n.list-inline {list-style: none; margin:0; padding: 0}\n.list-inline>li {display: inline-block}\n.list-inline>li:not(:last-child)::after {content: \"\\00b7\"; padding: 0 .5ex}\n</style>\n<ol class=list-inline><li>1</li><li>2</li><li>3</li><li>&lt;NA&gt;</li><li>4</li></ol>\n",
      "text/markdown": "1. 1\n2. 2\n3. 3\n4. &lt;NA&gt;\n5. 4\n\n\n",
      "text/latex": "\\begin{enumerate*}\n\\item 1\n\\item 2\n\\item 3\n\\item <NA>\n\\item 4\n\\end{enumerate*}\n",
      "text/plain": "[1]  1  2  3 NA  4"
     },
     "metadata": {},
     "output_type": "display_data"
    }
   ],
   "source": [
    "# unique()函数可以返回曲调重复值的结果\n",
    "unique(c(1, 2, 1, 3, NA, 4, NA))"
   ]
  }
 ],
 "metadata": {
  "kernelspec": {
   "display_name": "R",
   "language": "R",
   "name": "ir"
  },
  "language_info": {
   "codemirror_mode": "r",
   "file_extension": ".r",
   "mimetype": "text/x-r-source",
   "name": "R",
   "pygments_lexer": "r",
   "version": "4.2.1"
  },
  "toc": {
   "base_numbering": 1,
   "nav_menu": {},
   "number_sections": true,
   "sideBar": true,
   "skip_h1_title": false,
   "title_cell": "Table of Contents",
   "title_sidebar": "Contents",
   "toc_cell": false,
   "toc_position": {},
   "toc_section_display": true,
   "toc_window_display": false
  },
  "varInspector": {
   "cols": {
    "lenName": 16,
    "lenType": 16,
    "lenVar": 40
   },
   "kernels_config": {
    "python": {
     "delete_cmd_postfix": "",
     "delete_cmd_prefix": "del ",
     "library": "var_list.py",
     "varRefreshCmd": "print(var_dic_list())"
    },
    "r": {
     "delete_cmd_postfix": ") ",
     "delete_cmd_prefix": "rm(",
     "library": "var_list.r",
     "varRefreshCmd": "cat(var_dic_list()) "
    }
   },
   "types_to_exclude": [
    "module",
    "function",
    "builtin_function_or_method",
    "instance",
    "_Feature"
   ],
   "window_display": false
  }
 },
 "nbformat": 4,
 "nbformat_minor": 5
}
