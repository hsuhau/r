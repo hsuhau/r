{
 "cells": [
  {
   "cell_type": "markdown",
   "id": "8f18534b",
   "metadata": {
    "ExecuteTime": {
     "end_time": "2022-09-29T16:23:17.500108Z",
     "start_time": "2022-09-29T16:23:10.790Z"
    }
   },
   "source": [
    "# 4 数值型向量及其运算"
   ]
  },
  {
   "cell_type": "markdown",
   "id": "73c8cc29",
   "metadata": {
    "ExecuteTime": {
     "end_time": "2022-09-29T16:23:17.513835Z",
     "start_time": "2022-09-29T16:23:10.791Z"
    }
   },
   "source": [
    "## 4.1 数值型向量"
   ]
  },
  {
   "cell_type": "code",
   "execution_count": 1,
   "id": "02ba423c",
   "metadata": {
    "ExecuteTime": {
     "end_time": "2022-09-30T05:06:26.208005Z",
     "start_time": "2022-09-30T05:06:19.978Z"
    }
   },
   "outputs": [
    {
     "data": {
      "text/html": "<style>\n.list-inline {list-style: none; margin:0; padding: 0}\n.list-inline>li {display: inline-block}\n.list-inline>li:not(:last-child)::after {content: \"\\00b7\"; padding: 0 .5ex}\n</style>\n<ol class=list-inline><li>1</li><li>2</li><li>3</li><li>4</li></ol>\n",
      "text/markdown": "1. 1\n2. 2\n3. 3\n4. 4\n\n\n",
      "text/latex": "\\begin{enumerate*}\n\\item 1\n\\item 2\n\\item 3\n\\item 4\n\\end{enumerate*}\n",
      "text/plain": "[1] 1 2 3 4"
     },
     "metadata": {},
     "output_type": "display_data"
    }
   ],
   "source": [
    "# c() 函数把多个元素或向量组合成一个向量\n",
    "marks <- c(10, 6, 4, 7, 8)\n",
    "x1 <- c(1, 2)\n",
    "x2 <- c(3, 4)\n",
    "x <- c(x1, x2)\n",
    "x"
   ]
  },
  {
   "cell_type": "markdown",
   "id": "18e08d10",
   "metadata": {
    "ExecuteTime": {
     "end_time": "2022-09-29T16:26:45.875013Z",
     "start_time": "2022-09-29T16:26:45.855Z"
    }
   },
   "source": [
    "## 4.2 向量运算"
   ]
  },
  {
   "cell_type": "markdown",
   "id": "0e99f39a",
   "metadata": {
    "ExecuteTime": {
     "end_time": "2022-09-29T16:27:04.385653Z",
     "start_time": "2022-09-29T16:27:04.367Z"
    }
   },
   "source": [
    "### 4.2.1 标量和标量计算"
   ]
  },
  {
   "cell_type": "code",
   "execution_count": 2,
   "id": "16b63942",
   "metadata": {
    "ExecuteTime": {
     "end_time": "2022-09-30T05:06:26.240828Z",
     "start_time": "2022-09-30T05:06:19.982Z"
    }
   },
   "outputs": [
    {
     "data": {
      "text/html": "5.56",
      "text/markdown": "5.56",
      "text/latex": "5.56",
      "text/plain": "[1] 5.56"
     },
     "metadata": {},
     "output_type": "display_data"
    }
   ],
   "source": [
    "# 单个数值称为标量，R没有单独的标量类型，标量时间是长度为1的向量\n",
    "1.5 + 2.3 - (0.6 + 2.1) * 1.2 - 1.5 / 0.5 + 2^3"
   ]
  },
  {
   "cell_type": "code",
   "execution_count": 3,
   "id": "4620b047",
   "metadata": {
    "ExecuteTime": {
     "end_time": "2022-09-30T05:06:26.265337Z",
     "start_time": "2022-09-30T05:06:19.984Z"
    }
   },
   "outputs": [
    {
     "data": {
      "text/html": "1",
      "text/markdown": "1",
      "text/latex": "1",
      "text/plain": "[1] 1"
     },
     "metadata": {},
     "output_type": "display_data"
    }
   ],
   "source": [
    "# %/%表示整除\n",
    "5 %/% 3"
   ]
  },
  {
   "cell_type": "code",
   "execution_count": 1,
   "id": "940d60d3",
   "metadata": {
    "ExecuteTime": {
     "start_time": "2023-04-11T09:06:27.197772Z",
     "end_time": "2023-04-11T09:06:27.225020Z"
    }
   },
   "outputs": [
    {
     "data": {
      "text/html": "2",
      "text/markdown": "2",
      "text/latex": "2",
      "text/plain": "[1] 2"
     },
     "metadata": {},
     "output_type": "display_data"
    }
   ],
   "source": [
    "# %%表示求余\n",
    "5 %% 3"
   ]
  },
  {
   "cell_type": "markdown",
   "id": "508994c5",
   "metadata": {
    "ExecuteTime": {
     "end_time": "2022-09-29T16:30:32.957267Z",
     "start_time": "2022-09-29T16:30:32.939Z"
    }
   },
   "source": [
    "### 4.2.2 向量与标量运算"
   ]
  },
  {
   "cell_type": "code",
   "execution_count": 5,
   "id": "75f79838",
   "metadata": {
    "ExecuteTime": {
     "end_time": "2022-09-30T05:06:26.316864Z",
     "start_time": "2022-09-30T05:06:19.990Z"
    }
   },
   "outputs": [
    {
     "data": {
      "text/html": "<style>\n.list-inline {list-style: none; margin:0; padding: 0}\n.list-inline>li {display: inline-block}\n.list-inline>li:not(:last-child)::after {content: \"\\00b7\"; padding: 0 .5ex}\n</style>\n<ol class=list-inline><li>3</li><li>12</li></ol>\n",
      "text/markdown": "1. 3\n2. 12\n\n\n",
      "text/latex": "\\begin{enumerate*}\n\\item 3\n\\item 12\n\\end{enumerate*}\n",
      "text/plain": "[1]  3 12"
     },
     "metadata": {},
     "output_type": "display_data"
    }
   ],
   "source": [
    "# 向量与标量的运算为每个元素与标量的运算\n",
    "x <- c(1, 10)\n",
    "x + 2"
   ]
  },
  {
   "cell_type": "code",
   "execution_count": 6,
   "id": "fcea3058",
   "metadata": {
    "ExecuteTime": {
     "end_time": "2022-09-30T05:06:26.341608Z",
     "start_time": "2022-09-30T05:06:19.992Z"
    }
   },
   "outputs": [
    {
     "data": {
      "text/html": "<style>\n.list-inline {list-style: none; margin:0; padding: 0}\n.list-inline>li {display: inline-block}\n.list-inline>li:not(:last-child)::after {content: \"\\00b7\"; padding: 0 .5ex}\n</style>\n<ol class=list-inline><li>11</li><li>&lt;NA&gt;</li><li>13</li></ol>\n",
      "text/markdown": "1. 11\n2. &lt;NA&gt;\n3. 13\n\n\n",
      "text/latex": "\\begin{enumerate*}\n\\item 11\n\\item <NA>\n\\item 13\n\\end{enumerate*}\n",
      "text/plain": "[1] 11 NA 13"
     },
     "metadata": {},
     "output_type": "display_data"
    }
   ],
   "source": [
    "# 一个向量乘以一个标量，就是线性代数中的数乘运算。四则运算时如果有缺失值，缺失元素参加的运算相应结果元素仍缺失\n",
    "c(1, NA, 3) + 10"
   ]
  },
  {
   "cell_type": "markdown",
   "id": "00382f7f",
   "metadata": {},
   "source": [
    "### 4.2.3 等长向量运算"
   ]
  },
  {
   "cell_type": "code",
   "execution_count": 7,
   "id": "eb4fea1e",
   "metadata": {
    "ExecuteTime": {
     "end_time": "2022-09-30T05:06:26.386876Z",
     "start_time": "2022-09-30T05:06:19.996Z"
    }
   },
   "outputs": [
    {
     "data": {
      "text/html": "<style>\n.list-inline {list-style: none; margin:0; padding: 0}\n.list-inline>li {display: inline-block}\n.list-inline>li:not(:last-child)::after {content: \"\\00b7\"; padding: 0 .5ex}\n</style>\n<ol class=list-inline><li>5</li><li>12</li></ol>\n",
      "text/markdown": "1. 5\n2. 12\n\n\n",
      "text/latex": "\\begin{enumerate*}\n\\item 5\n\\item 12\n\\end{enumerate*}\n",
      "text/plain": "[1]  5 12"
     },
     "metadata": {},
     "output_type": "display_data"
    }
   ],
   "source": [
    "# 等长响亮的运算为对应元素两两运算\n",
    "c(1, 10) + c(4, 2)\n",
    "# 两个等长向量的加、减运算就是线性代数中两个向量的加减运算"
   ]
  },
  {
   "cell_type": "markdown",
   "id": "ffb2335c",
   "metadata": {
    "ExecuteTime": {
     "end_time": "2022-09-29T16:37:08.606748Z",
     "start_time": "2022-09-29T16:37:08.589Z"
    }
   },
   "source": [
    "### 4.2.4 不等长向量的运算"
   ]
  },
  {
   "cell_type": "code",
   "execution_count": 8,
   "id": "c912b5ce",
   "metadata": {
    "ExecuteTime": {
     "end_time": "2022-09-30T05:06:26.412161Z",
     "start_time": "2022-09-30T05:06:19.999Z"
    }
   },
   "outputs": [
    {
     "data": {
      "text/html": "<style>\n.list-inline {list-style: none; margin:0; padding: 0}\n.list-inline>li {display: inline-block}\n.list-inline>li:not(:last-child)::after {content: \"\\00b7\"; padding: 0 .5ex}\n</style>\n<ol class=list-inline><li>11</li><li>23</li><li>15</li><li>27</li></ol>\n",
      "text/markdown": "1. 11\n2. 23\n3. 15\n4. 27\n\n\n",
      "text/latex": "\\begin{enumerate*}\n\\item 11\n\\item 23\n\\item 15\n\\item 27\n\\end{enumerate*}\n",
      "text/plain": "[1] 11 23 15 27"
     },
     "metadata": {},
     "output_type": "display_data"
    }
   ],
   "source": [
    "# 两个不等长向量的四则运算，如果其长度为倍数关系，规则是每次从头重复利用短的一个。\n",
    "c(10, 20) + c(1, 3, 5, 7)\n",
    "# 不仅是四则运算，R中有两个或多个向量按照元素--对应参与某种运算或函数调用时，如果向量长度不同，一般都采用这样的规则"
   ]
  },
  {
   "cell_type": "code",
   "execution_count": 9,
   "id": "7d4c2902",
   "metadata": {
    "ExecuteTime": {
     "end_time": "2022-09-30T05:06:26.452745Z",
     "start_time": "2022-09-30T05:06:20.002Z"
    }
   },
   "outputs": [
    {
     "name": "stderr",
     "output_type": "stream",
     "text": [
      "Warning message in c(1, 2) + c(1, 2, 3):\n",
      "\"longer object length is not a multiple of shorter object length\"\n"
     ]
    },
    {
     "data": {
      "text/html": "<style>\n.list-inline {list-style: none; margin:0; padding: 0}\n.list-inline>li {display: inline-block}\n.list-inline>li:not(:last-child)::after {content: \"\\00b7\"; padding: 0 .5ex}\n</style>\n<ol class=list-inline><li>2</li><li>4</li><li>4</li></ol>\n",
      "text/markdown": "1. 2\n2. 4\n3. 4\n\n\n",
      "text/latex": "\\begin{enumerate*}\n\\item 2\n\\item 4\n\\item 4\n\\end{enumerate*}\n",
      "text/plain": "[1] 2 4 4"
     },
     "metadata": {},
     "output_type": "display_data"
    }
   ],
   "source": [
    "# 如果两个向量的长度不是倍数关系，会给出警告信息\n",
    "c(1, 2) + c(1, 2, 3)"
   ]
  },
  {
   "cell_type": "markdown",
   "id": "9095ce47",
   "metadata": {
    "ExecuteTime": {
     "end_time": "2022-09-29T16:49:01.353353Z",
     "start_time": "2022-09-29T16:48:54.809Z"
    }
   },
   "source": [
    "## 4.3 向量函数"
   ]
  },
  {
   "cell_type": "markdown",
   "id": "ad6a082b",
   "metadata": {},
   "source": [
    "### 4.3.1 向量化的函数"
   ]
  },
  {
   "cell_type": "markdown",
   "id": "39a07df0",
   "metadata": {},
   "source": [
    "常用的数学函数有：\n",
    "\n",
    "舍入：ceiling, floor, round, signif, trunc, zapsmall\n",
    "符号函数 sign\n",
    "绝对值 abs\n",
    "平方根 sqrt\n",
    "对数与指数函数 log, exp, log10, log2\n",
    "三角函数 sin, cos, tan\n",
    "反三角函数 asin, acos, atan, atan2\n",
    "双曲函数 sinh, cosh, tanh\n",
    "反双曲函数 asinh, acosh, atanh\n",
    "有一些不太常用的数学函数：\n",
    "\n",
    "贝塔函数 beta, lbeta\n",
    "伽玛函数 gamma, lgamma, digamma, trigamma, tetragamma, pentagamma\n",
    "组合数 choose, lchoose\n",
    "富利叶变换和卷积 fft, mvfft, convolve\n",
    "正交多项式 poly\n",
    "求根 polyroot, uniroot\n",
    "最优化 optimize, optim\n",
    "Bessel函数 besselI, besselK, besselJ, besselY\n",
    "样条插值 spline, splinefun\n",
    "简单的微分 deriv"
   ]
  },
  {
   "cell_type": "code",
   "execution_count": 10,
   "id": "74d40a7d",
   "metadata": {
    "ExecuteTime": {
     "end_time": "2022-09-30T05:06:26.478473Z",
     "start_time": "2022-09-30T05:06:20.006Z"
    }
   },
   "outputs": [
    {
     "data": {
      "text/html": "<style>\n.list-inline {list-style: none; margin:0; padding: 0}\n.list-inline>li {display: inline-block}\n.list-inline>li:not(:last-child)::after {content: \"\\00b7\"; padding: 0 .5ex}\n</style>\n<ol class=list-inline><li>1</li><li>2</li><li>2.5</li></ol>\n",
      "text/markdown": "1. 1\n2. 2\n3. 2.5\n\n\n",
      "text/latex": "\\begin{enumerate*}\n\\item 1\n\\item 2\n\\item 2.5\n\\end{enumerate*}\n",
      "text/plain": "[1] 1.0 2.0 2.5"
     },
     "metadata": {},
     "output_type": "display_data"
    }
   ],
   "source": [
    "# R中的函数一般都是向量化的：在R中，如果普通一元函数以向量为自变量，一般会对每个元素计算。\n",
    "sqrt(c(1, 4, 6.25))"
   ]
  },
  {
   "cell_type": "markdown",
   "id": "2926b37a",
   "metadata": {},
   "source": [
    "### 4.3.2 排序函数"
   ]
  },
  {
   "cell_type": "code",
   "execution_count": 11,
   "id": "05c9d4c1",
   "metadata": {
    "ExecuteTime": {
     "end_time": "2022-09-30T05:06:26.522072Z",
     "start_time": "2022-09-30T05:06:20.010Z"
    }
   },
   "outputs": [
    {
     "data": {
      "text/html": "<style>\n.list-inline {list-style: none; margin:0; padding: 0}\n.list-inline>li {display: inline-block}\n.list-inline>li:not(:last-child)::after {content: \"\\00b7\"; padding: 0 .5ex}\n</style>\n<ol class=list-inline><li>11</li><li>33</li><li>55</li></ol>\n",
      "text/markdown": "1. 11\n2. 33\n3. 55\n\n\n",
      "text/latex": "\\begin{enumerate*}\n\\item 11\n\\item 33\n\\item 55\n\\end{enumerate*}\n",
      "text/plain": "[1] 11 33 55"
     },
     "metadata": {},
     "output_type": "display_data"
    },
    {
     "data": {
      "text/html": "<style>\n.list-inline {list-style: none; margin:0; padding: 0}\n.list-inline>li {display: inline-block}\n.list-inline>li:not(:last-child)::after {content: \"\\00b7\"; padding: 0 .5ex}\n</style>\n<ol class=list-inline><li>55</li><li>33</li><li>11</li></ol>\n",
      "text/markdown": "1. 55\n2. 33\n3. 11\n\n\n",
      "text/latex": "\\begin{enumerate*}\n\\item 55\n\\item 33\n\\item 11\n\\end{enumerate*}\n",
      "text/plain": "[1] 55 33 11"
     },
     "metadata": {},
     "output_type": "display_data"
    },
    {
     "data": {
      "text/html": "<style>\n.list-inline {list-style: none; margin:0; padding: 0}\n.list-inline>li {display: inline-block}\n.list-inline>li:not(:last-child)::after {content: \"\\00b7\"; padding: 0 .5ex}\n</style>\n<ol class=list-inline><li>3</li><li>1</li><li>2</li></ol>\n",
      "text/markdown": "1. 3\n2. 1\n3. 2\n\n\n",
      "text/latex": "\\begin{enumerate*}\n\\item 3\n\\item 1\n\\item 2\n\\end{enumerate*}\n",
      "text/plain": "[1] 3 1 2"
     },
     "metadata": {},
     "output_type": "display_data"
    },
    {
     "data": {
      "text/html": "<style>\n.list-inline {list-style: none; margin:0; padding: 0}\n.list-inline>li {display: inline-block}\n.list-inline>li:not(:last-child)::after {content: \"\\00b7\"; padding: 0 .5ex}\n</style>\n<ol class=list-inline><li>1</li><li>10</li></ol>\n",
      "text/markdown": "1. 1\n2. 10\n\n\n",
      "text/latex": "\\begin{enumerate*}\n\\item 1\n\\item 10\n\\end{enumerate*}\n",
      "text/plain": "[1]  1 10"
     },
     "metadata": {},
     "output_type": "display_data"
    }
   ],
   "source": [
    "# sort(x)返回排序结果。rev(x)返回把各种元素排列次序反转后的结果。order(x)返回排序用的下标\n",
    "sort(c(33, 55, 11))\n",
    "\n",
    "rev(sort(c(33, 55, 11)))\n",
    "\n",
    "order(c(33, 55, 11))\n",
    "\n",
    "x[order(x)]"
   ]
  },
  {
   "cell_type": "markdown",
   "id": "c5869f5c",
   "metadata": {},
   "source": [
    "### 4.3.3 统计函数"
   ]
  },
  {
   "cell_type": "markdown",
   "id": "bb7ac180",
   "metadata": {},
   "source": [
    "sum(求和), mean(求平均值), var(求样本方差), sd(求样本标准差), min(求最小值), max(求最大值), range(求最小值和最大值)等函数称为统计函数， 把输入向量看作样本，计算样本统计量。 prod求所有元素的乘积。"
   ]
  },
  {
   "cell_type": "code",
   "execution_count": 12,
   "id": "690652de",
   "metadata": {
    "ExecuteTime": {
     "end_time": "2022-09-30T05:06:26.548002Z",
     "start_time": "2022-09-30T05:06:20.014Z"
    }
   },
   "outputs": [
    {
     "data": {
      "text/html": "<style>\n.list-inline {list-style: none; margin:0; padding: 0}\n.list-inline>li {display: inline-block}\n.list-inline>li:not(:last-child)::after {content: \"\\00b7\"; padding: 0 .5ex}\n</style>\n<ol class=list-inline><li>1</li><li>3</li><li>6</li><li>10</li><li>15</li></ol>\n",
      "text/markdown": "1. 1\n2. 3\n3. 6\n4. 10\n5. 15\n\n\n",
      "text/latex": "\\begin{enumerate*}\n\\item 1\n\\item 3\n\\item 6\n\\item 10\n\\item 15\n\\end{enumerate*}\n",
      "text/plain": "[1]  1  3  6 10 15"
     },
     "metadata": {},
     "output_type": "display_data"
    }
   ],
   "source": [
    "# cumsum 累加和\n",
    "cumsum(1:5)"
   ]
  },
  {
   "cell_type": "code",
   "execution_count": 13,
   "id": "2fa9dc24",
   "metadata": {
    "ExecuteTime": {
     "end_time": "2022-09-30T05:06:26.574141Z",
     "start_time": "2022-09-30T05:06:20.017Z"
    }
   },
   "outputs": [
    {
     "data": {
      "text/html": "<style>\n.list-inline {list-style: none; margin:0; padding: 0}\n.list-inline>li {display: inline-block}\n.list-inline>li:not(:last-child)::after {content: \"\\00b7\"; padding: 0 .5ex}\n</style>\n<ol class=list-inline><li>1</li><li>2</li><li>6</li><li>24</li><li>120</li></ol>\n",
      "text/markdown": "1. 1\n2. 2\n3. 6\n4. 24\n5. 120\n\n\n",
      "text/latex": "\\begin{enumerate*}\n\\item 1\n\\item 2\n\\item 6\n\\item 24\n\\item 120\n\\end{enumerate*}\n",
      "text/plain": "[1]   1   2   6  24 120"
     },
     "metadata": {},
     "output_type": "display_data"
    }
   ],
   "source": [
    "# cumprod 累乘积\n",
    "cumprod(1:5)"
   ]
  },
  {
   "cell_type": "markdown",
   "id": "ae8488ec",
   "metadata": {
    "ExecuteTime": {
     "end_time": "2022-09-29T16:58:28.258910Z",
     "start_time": "2022-09-29T16:58:28.240Z"
    }
   },
   "source": [
    "### 4.3.4 生成规则序列的函数 "
   ]
  },
  {
   "cell_type": "code",
   "execution_count": 14,
   "id": "d023ad66",
   "metadata": {
    "ExecuteTime": {
     "end_time": "2022-09-30T05:06:26.617264Z",
     "start_time": "2022-09-30T05:06:20.022Z"
    }
   },
   "outputs": [
    {
     "data": {
      "text/html": "<style>\n.list-inline {list-style: none; margin:0; padding: 0}\n.list-inline>li {display: inline-block}\n.list-inline>li:not(:last-child)::after {content: \"\\00b7\"; padding: 0 .5ex}\n</style>\n<ol class=list-inline><li>1</li><li>2</li><li>3</li><li>4</li><li>5</li></ol>\n",
      "text/markdown": "1. 1\n2. 2\n3. 3\n4. 4\n5. 5\n\n\n",
      "text/latex": "\\begin{enumerate*}\n\\item 1\n\\item 2\n\\item 3\n\\item 4\n\\item 5\n\\end{enumerate*}\n",
      "text/plain": "[1] 1 2 3 4 5"
     },
     "metadata": {},
     "output_type": "display_data"
    },
    {
     "data": {
      "text/html": "<style>\n.list-inline {list-style: none; margin:0; padding: 0}\n.list-inline>li {display: inline-block}\n.list-inline>li:not(:last-child)::after {content: \"\\00b7\"; padding: 0 .5ex}\n</style>\n<ol class=list-inline><li>2</li><li>3</li><li>4</li><li>5</li></ol>\n",
      "text/markdown": "1. 2\n2. 3\n3. 4\n4. 5\n\n\n",
      "text/latex": "\\begin{enumerate*}\n\\item 2\n\\item 3\n\\item 4\n\\item 5\n\\end{enumerate*}\n",
      "text/plain": "[1] 2 3 4 5"
     },
     "metadata": {},
     "output_type": "display_data"
    },
    {
     "data": {
      "text/html": "<style>\n.list-inline {list-style: none; margin:0; padding: 0}\n.list-inline>li {display: inline-block}\n.list-inline>li:not(:last-child)::after {content: \"\\00b7\"; padding: 0 .5ex}\n</style>\n<ol class=list-inline><li>11</li><li>13</li><li>15</li></ol>\n",
      "text/markdown": "1. 11\n2. 13\n3. 15\n\n\n",
      "text/latex": "\\begin{enumerate*}\n\\item 11\n\\item 13\n\\item 15\n\\end{enumerate*}\n",
      "text/plain": "[1] 11 13 15"
     },
     "metadata": {},
     "output_type": "display_data"
    },
    {
     "data": {
      "text/html": "<style>\n.list-inline {list-style: none; margin:0; padding: 0}\n.list-inline>li {display: inline-block}\n.list-inline>li:not(:last-child)::after {content: \"\\00b7\"; padding: 0 .5ex}\n</style>\n<ol class=list-inline><li>0</li><li>0.0634665182543393</li><li>0.126933036508679</li><li>0.190399554763018</li><li>0.253866073017357</li><li>0.317332591271696</li><li>0.380799109526036</li><li>0.444265627780375</li><li>0.507732146034714</li><li>0.571198664289053</li><li>0.634665182543393</li><li>0.698131700797732</li><li>0.761598219052071</li><li>0.82506473730641</li><li>0.88853125556075</li><li>0.951997773815089</li><li>1.01546429206943</li><li>1.07893081032377</li><li>1.14239732857811</li><li>1.20586384683245</li><li>1.26933036508679</li><li>1.33279688334112</li><li>1.39626340159546</li><li>1.4597299198498</li><li>1.52319643810414</li><li>1.58666295635848</li><li>1.65012947461282</li><li>1.71359599286716</li><li>1.7770625111215</li><li>1.84052902937584</li><li>1.90399554763018</li><li>1.96746206588452</li><li>2.03092858413886</li><li>2.0943951023932</li><li>2.15786162064753</li><li>2.22132813890187</li><li>2.28479465715621</li><li>2.34826117541055</li><li>2.41172769366489</li><li>2.47519421191923</li><li>2.53866073017357</li><li>2.60212724842791</li><li>2.66559376668225</li><li>2.72906028493659</li><li>2.79252680319093</li><li>2.85599332144527</li><li>2.91945983969961</li><li>2.98292635795395</li><li>3.04639287620828</li><li>3.10985939446262</li><li>3.17332591271696</li><li>3.2367924309713</li><li>3.30025894922564</li><li>3.36372546747998</li><li>3.42719198573432</li><li>3.49065850398866</li><li>3.554125022243</li><li>3.61759154049734</li><li>3.68105805875168</li><li>3.74452457700602</li><li>3.80799109526036</li><li>3.87145761351469</li><li>3.93492413176903</li><li>3.99839065002337</li><li>4.06185716827771</li><li>4.12532368653205</li><li>4.18879020478639</li><li>4.25225672304073</li><li>4.31572324129507</li><li>4.37918975954941</li><li>4.44265627780375</li><li>4.50612279605809</li><li>4.56958931431243</li><li>4.63305583256677</li><li>4.69652235082111</li><li>4.75998886907544</li><li>4.82345538732978</li><li>4.88692190558412</li><li>4.95038842383846</li><li>5.0138549420928</li><li>5.07732146034714</li><li>5.14078797860148</li><li>5.20425449685582</li><li>5.26772101511016</li><li>5.3311875333645</li><li>5.39465405161884</li><li>5.45812056987318</li><li>5.52158708812752</li><li>5.58505360638185</li><li>5.64852012463619</li><li>5.71198664289053</li><li>5.77545316114487</li><li>5.83891967939921</li><li>5.90238619765355</li><li>5.96585271590789</li><li>6.02931923416223</li><li>6.09278575241657</li><li>6.15625227067091</li><li>6.21971878892525</li><li>6.28318530717959</li></ol>\n",
      "text/markdown": "1. 0\n2. 0.0634665182543393\n3. 0.126933036508679\n4. 0.190399554763018\n5. 0.253866073017357\n6. 0.317332591271696\n7. 0.380799109526036\n8. 0.444265627780375\n9. 0.507732146034714\n10. 0.571198664289053\n11. 0.634665182543393\n12. 0.698131700797732\n13. 0.761598219052071\n14. 0.82506473730641\n15. 0.88853125556075\n16. 0.951997773815089\n17. 1.01546429206943\n18. 1.07893081032377\n19. 1.14239732857811\n20. 1.20586384683245\n21. 1.26933036508679\n22. 1.33279688334112\n23. 1.39626340159546\n24. 1.4597299198498\n25. 1.52319643810414\n26. 1.58666295635848\n27. 1.65012947461282\n28. 1.71359599286716\n29. 1.7770625111215\n30. 1.84052902937584\n31. 1.90399554763018\n32. 1.96746206588452\n33. 2.03092858413886\n34. 2.0943951023932\n35. 2.15786162064753\n36. 2.22132813890187\n37. 2.28479465715621\n38. 2.34826117541055\n39. 2.41172769366489\n40. 2.47519421191923\n41. 2.53866073017357\n42. 2.60212724842791\n43. 2.66559376668225\n44. 2.72906028493659\n45. 2.79252680319093\n46. 2.85599332144527\n47. 2.91945983969961\n48. 2.98292635795395\n49. 3.04639287620828\n50. 3.10985939446262\n51. 3.17332591271696\n52. 3.2367924309713\n53. 3.30025894922564\n54. 3.36372546747998\n55. 3.42719198573432\n56. 3.49065850398866\n57. 3.554125022243\n58. 3.61759154049734\n59. 3.68105805875168\n60. 3.74452457700602\n61. 3.80799109526036\n62. 3.87145761351469\n63. 3.93492413176903\n64. 3.99839065002337\n65. 4.06185716827771\n66. 4.12532368653205\n67. 4.18879020478639\n68. 4.25225672304073\n69. 4.31572324129507\n70. 4.37918975954941\n71. 4.44265627780375\n72. 4.50612279605809\n73. 4.56958931431243\n74. 4.63305583256677\n75. 4.69652235082111\n76. 4.75998886907544\n77. 4.82345538732978\n78. 4.88692190558412\n79. 4.95038842383846\n80. 5.0138549420928\n81. 5.07732146034714\n82. 5.14078797860148\n83. 5.20425449685582\n84. 5.26772101511016\n85. 5.3311875333645\n86. 5.39465405161884\n87. 5.45812056987318\n88. 5.52158708812752\n89. 5.58505360638185\n90. 5.64852012463619\n91. 5.71198664289053\n92. 5.77545316114487\n93. 5.83891967939921\n94. 5.90238619765355\n95. 5.96585271590789\n96. 6.02931923416223\n97. 6.09278575241657\n98. 6.15625227067091\n99. 6.21971878892525\n100. 6.28318530717959\n\n\n",
      "text/latex": "\\begin{enumerate*}\n\\item 0\n\\item 0.0634665182543393\n\\item 0.126933036508679\n\\item 0.190399554763018\n\\item 0.253866073017357\n\\item 0.317332591271696\n\\item 0.380799109526036\n\\item 0.444265627780375\n\\item 0.507732146034714\n\\item 0.571198664289053\n\\item 0.634665182543393\n\\item 0.698131700797732\n\\item 0.761598219052071\n\\item 0.82506473730641\n\\item 0.88853125556075\n\\item 0.951997773815089\n\\item 1.01546429206943\n\\item 1.07893081032377\n\\item 1.14239732857811\n\\item 1.20586384683245\n\\item 1.26933036508679\n\\item 1.33279688334112\n\\item 1.39626340159546\n\\item 1.4597299198498\n\\item 1.52319643810414\n\\item 1.58666295635848\n\\item 1.65012947461282\n\\item 1.71359599286716\n\\item 1.7770625111215\n\\item 1.84052902937584\n\\item 1.90399554763018\n\\item 1.96746206588452\n\\item 2.03092858413886\n\\item 2.0943951023932\n\\item 2.15786162064753\n\\item 2.22132813890187\n\\item 2.28479465715621\n\\item 2.34826117541055\n\\item 2.41172769366489\n\\item 2.47519421191923\n\\item 2.53866073017357\n\\item 2.60212724842791\n\\item 2.66559376668225\n\\item 2.72906028493659\n\\item 2.79252680319093\n\\item 2.85599332144527\n\\item 2.91945983969961\n\\item 2.98292635795395\n\\item 3.04639287620828\n\\item 3.10985939446262\n\\item 3.17332591271696\n\\item 3.2367924309713\n\\item 3.30025894922564\n\\item 3.36372546747998\n\\item 3.42719198573432\n\\item 3.49065850398866\n\\item 3.554125022243\n\\item 3.61759154049734\n\\item 3.68105805875168\n\\item 3.74452457700602\n\\item 3.80799109526036\n\\item 3.87145761351469\n\\item 3.93492413176903\n\\item 3.99839065002337\n\\item 4.06185716827771\n\\item 4.12532368653205\n\\item 4.18879020478639\n\\item 4.25225672304073\n\\item 4.31572324129507\n\\item 4.37918975954941\n\\item 4.44265627780375\n\\item 4.50612279605809\n\\item 4.56958931431243\n\\item 4.63305583256677\n\\item 4.69652235082111\n\\item 4.75998886907544\n\\item 4.82345538732978\n\\item 4.88692190558412\n\\item 4.95038842383846\n\\item 5.0138549420928\n\\item 5.07732146034714\n\\item 5.14078797860148\n\\item 5.20425449685582\n\\item 5.26772101511016\n\\item 5.3311875333645\n\\item 5.39465405161884\n\\item 5.45812056987318\n\\item 5.52158708812752\n\\item 5.58505360638185\n\\item 5.64852012463619\n\\item 5.71198664289053\n\\item 5.77545316114487\n\\item 5.83891967939921\n\\item 5.90238619765355\n\\item 5.96585271590789\n\\item 6.02931923416223\n\\item 6.09278575241657\n\\item 6.15625227067091\n\\item 6.21971878892525\n\\item 6.28318530717959\n\\end{enumerate*}\n",
      "text/plain": "  [1] 0.00000000 0.06346652 0.12693304 0.19039955 0.25386607 0.31733259\n  [7] 0.38079911 0.44426563 0.50773215 0.57119866 0.63466518 0.69813170\n [13] 0.76159822 0.82506474 0.88853126 0.95199777 1.01546429 1.07893081\n [19] 1.14239733 1.20586385 1.26933037 1.33279688 1.39626340 1.45972992\n [25] 1.52319644 1.58666296 1.65012947 1.71359599 1.77706251 1.84052903\n [31] 1.90399555 1.96746207 2.03092858 2.09439510 2.15786162 2.22132814\n [37] 2.28479466 2.34826118 2.41172769 2.47519421 2.53866073 2.60212725\n [43] 2.66559377 2.72906028 2.79252680 2.85599332 2.91945984 2.98292636\n [49] 3.04639288 3.10985939 3.17332591 3.23679243 3.30025895 3.36372547\n [55] 3.42719199 3.49065850 3.55412502 3.61759154 3.68105806 3.74452458\n [61] 3.80799110 3.87145761 3.93492413 3.99839065 4.06185717 4.12532369\n [67] 4.18879020 4.25225672 4.31572324 4.37918976 4.44265628 4.50612280\n [73] 4.56958931 4.63305583 4.69652235 4.75998887 4.82345539 4.88692191\n [79] 4.95038842 5.01385494 5.07732146 5.14078798 5.20425450 5.26772102\n [85] 5.33118753 5.39465405 5.45812057 5.52158709 5.58505361 5.64852012\n [91] 5.71198664 5.77545316 5.83891968 5.90238620 5.96585272 6.02931923\n [97] 6.09278575 6.15625227 6.21971879 6.28318531"
     },
     "metadata": {},
     "output_type": "display_data"
    }
   ],
   "source": [
    "# seq函数是冒泡预算符的推广\n",
    "seq(5)\n",
    "seq(2, 5)\n",
    "seq(11, 15, by = 2)\n",
    "seq(0, 2 * pi, length.out = 100)"
   ]
  },
  {
   "cell_type": "code",
   "execution_count": 15,
   "id": "453c73cd",
   "metadata": {
    "ExecuteTime": {
     "end_time": "2022-09-30T05:06:26.651729Z",
     "start_time": "2022-09-30T05:06:20.024Z"
    }
   },
   "outputs": [
    {
     "data": {
      "text/html": "<style>\n.list-inline {list-style: none; margin:0; padding: 0}\n.list-inline>li {display: inline-block}\n.list-inline>li:not(:last-child)::after {content: \"\\00b7\"; padding: 0 .5ex}\n</style>\n<ol class=list-inline><li>1</li><li>3</li><li>1</li><li>3</li></ol>\n",
      "text/markdown": "1. 1\n2. 3\n3. 1\n4. 3\n\n\n",
      "text/latex": "\\begin{enumerate*}\n\\item 1\n\\item 3\n\\item 1\n\\item 3\n\\end{enumerate*}\n",
      "text/plain": "[1] 1 3 1 3"
     },
     "metadata": {},
     "output_type": "display_data"
    },
    {
     "data": {
      "text/html": "<style>\n.list-inline {list-style: none; margin:0; padding: 0}\n.list-inline>li {display: inline-block}\n.list-inline>li:not(:last-child)::after {content: \"\\00b7\"; padding: 0 .5ex}\n</style>\n<ol class=list-inline><li>1</li><li>1</li><li>3</li><li>3</li><li>3</li><li>3</li></ol>\n",
      "text/markdown": "1. 1\n2. 1\n3. 3\n4. 3\n5. 3\n6. 3\n\n\n",
      "text/latex": "\\begin{enumerate*}\n\\item 1\n\\item 1\n\\item 3\n\\item 3\n\\item 3\n\\item 3\n\\end{enumerate*}\n",
      "text/plain": "[1] 1 1 3 3 3 3"
     },
     "metadata": {},
     "output_type": "display_data"
    }
   ],
   "source": [
    "# rep()函数用来产生重复数值\n",
    "rep(c(1, 3), 2)\n",
    "rep(c(1, 3), c(2, 4))"
   ]
  },
  {
   "cell_type": "markdown",
   "id": "3e966b39",
   "metadata": {},
   "source": [
    "## 4.4 复数向量"
   ]
  },
  {
   "cell_type": "code",
   "execution_count": 16,
   "id": "ea3caaa2",
   "metadata": {
    "ExecuteTime": {
     "end_time": "2022-09-30T05:06:26.677900Z",
     "start_time": "2022-09-30T05:06:20.027Z"
    }
   },
   "outputs": [
    {
     "data": {
      "text/html": "<style>\n.list-inline {list-style: none; margin:0; padding: 0}\n.list-inline>li {display: inline-block}\n.list-inline>li:not(:last-child)::after {content: \"\\00b7\"; padding: 0 .5ex}\n</style>\n<ol class=list-inline><li>1+0i</li><li>0+1i</li><li>-1+0i</li><li>0-1i</li></ol>\n",
      "text/markdown": "1. 1+0i\n2. 0+1i\n3. -1+0i\n4. 0-1i\n\n\n",
      "text/latex": "\\begin{enumerate*}\n\\item 1+0i\n\\item 0+1i\n\\item -1+0i\n\\item 0-1i\n\\end{enumerate*}\n",
      "text/plain": "[1]  1+0i  0+1i -1+0i  0-1i"
     },
     "metadata": {},
     "output_type": "display_data"
    }
   ],
   "source": [
    "# complex()函数生成复数向量\n",
    "complex(real = c(1, 0, -1, 0), imaginary = c(0, 1, 0, -1))"
   ]
  },
  {
   "cell_type": "code",
   "execution_count": 17,
   "id": "1cb2b103",
   "metadata": {
    "ExecuteTime": {
     "end_time": "2022-09-30T05:06:26.704004Z",
     "start_time": "2022-09-30T05:06:20.030Z"
    }
   },
   "outputs": [
    {
     "data": {
      "text/html": "<style>\n.list-inline {list-style: none; margin:0; padding: 0}\n.list-inline>li {display: inline-block}\n.list-inline>li:not(:last-child)::after {content: \"\\00b7\"; padding: 0 .5ex}\n</style>\n<ol class=list-inline><li>1</li><li>0</li><li>-1</li><li>0</li></ol>\n",
      "text/markdown": "1. 1\n2. 0\n3. -1\n4. 0\n\n\n",
      "text/latex": "\\begin{enumerate*}\n\\item 1\n\\item 0\n\\item -1\n\\item 0\n\\end{enumerate*}\n",
      "text/plain": "[1]  1  0 -1  0"
     },
     "metadata": {},
     "output_type": "display_data"
    }
   ],
   "source": [
    "# Re函数求实部\n",
    "Re(complex(real = c(1, 0, -1, 0), imaginary = c(0, 1, 0, -1)))"
   ]
  },
  {
   "cell_type": "code",
   "execution_count": 18,
   "id": "a44edbe6",
   "metadata": {
    "ExecuteTime": {
     "end_time": "2022-09-30T05:06:26.729960Z",
     "start_time": "2022-09-30T05:06:20.033Z"
    }
   },
   "outputs": [
    {
     "data": {
      "text/html": "<style>\n.list-inline {list-style: none; margin:0; padding: 0}\n.list-inline>li {display: inline-block}\n.list-inline>li:not(:last-child)::after {content: \"\\00b7\"; padding: 0 .5ex}\n</style>\n<ol class=list-inline><li>0</li><li>1</li><li>0</li><li>-1</li></ol>\n",
      "text/markdown": "1. 0\n2. 1\n3. 0\n4. -1\n\n\n",
      "text/latex": "\\begin{enumerate*}\n\\item 0\n\\item 1\n\\item 0\n\\item -1\n\\end{enumerate*}\n",
      "text/plain": "[1]  0  1  0 -1"
     },
     "metadata": {},
     "output_type": "display_data"
    }
   ],
   "source": [
    "# Im函数求虚部\n",
    "Im(complex(real = c(1, 0, -1, 0), imaginary = c(0, 1, 0, -1)))"
   ]
  },
  {
   "cell_type": "code",
   "execution_count": 19,
   "id": "0e4530c7",
   "metadata": {
    "ExecuteTime": {
     "end_time": "2022-09-30T05:06:26.762342Z",
     "start_time": "2022-09-30T05:06:20.035Z"
    }
   },
   "outputs": [
    {
     "name": "stderr",
     "output_type": "stream",
     "text": [
      "Warning message in sqrt(-1):\n",
      "\"NaNs produced\"\n"
     ]
    },
    {
     "data": {
      "text/html": "NaN",
      "text/markdown": "NaN",
      "text/latex": "NaN",
      "text/plain": "[1] NaN"
     },
     "metadata": {},
     "output_type": "display_data"
    }
   ],
   "source": [
    "sqrt(-1)"
   ]
  },
  {
   "cell_type": "code",
   "execution_count": 20,
   "id": "98027395",
   "metadata": {
    "ExecuteTime": {
     "end_time": "2022-09-30T05:06:26.800553Z",
     "start_time": "2022-09-30T05:06:20.037Z"
    }
   },
   "outputs": [
    {
     "data": {
      "text/html": "0+1i",
      "text/markdown": "0+1i",
      "text/latex": "0+1i",
      "text/plain": "[1] 0+1i"
     },
     "metadata": {},
     "output_type": "display_data"
    }
   ],
   "source": [
    "sqrt(-1 + (0 + (0 + (0 + (0 + 0i)))))"
   ]
  },
  {
   "cell_type": "markdown",
   "id": "2dac8d1e",
   "metadata": {},
   "source": [
    "## 4.5 练习"
   ]
  },
  {
   "cell_type": "markdown",
   "id": "86a0958f",
   "metadata": {},
   "source": [
    "1.显示1到100的整数的平方根和立方根（提示：立方根就是三分之一次方）"
   ]
  },
  {
   "cell_type": "code",
   "execution_count": 21,
   "id": "bba16118",
   "metadata": {
    "ExecuteTime": {
     "end_time": "2022-09-30T05:06:26.832432Z",
     "start_time": "2022-09-30T05:06:20.043Z"
    }
   },
   "outputs": [
    {
     "data": {
      "text/html": "<style>\n.list-inline {list-style: none; margin:0; padding: 0}\n.list-inline>li {display: inline-block}\n.list-inline>li:not(:last-child)::after {content: \"\\00b7\"; padding: 0 .5ex}\n</style>\n<ol class=list-inline><li>1</li><li>4</li><li>9</li><li>16</li><li>25</li><li>36</li><li>49</li><li>64</li><li>81</li><li>100</li><li>121</li><li>144</li><li>169</li><li>196</li><li>225</li><li>256</li><li>289</li><li>324</li><li>361</li><li>400</li><li>441</li><li>484</li><li>529</li><li>576</li><li>625</li><li>676</li><li>729</li><li>784</li><li>841</li><li>900</li><li>961</li><li>1024</li><li>1089</li><li>1156</li><li>1225</li><li>1296</li><li>1369</li><li>1444</li><li>1521</li><li>1600</li><li>1681</li><li>1764</li><li>1849</li><li>1936</li><li>2025</li><li>2116</li><li>2209</li><li>2304</li><li>2401</li><li>2500</li><li>2601</li><li>2704</li><li>2809</li><li>2916</li><li>3025</li><li>3136</li><li>3249</li><li>3364</li><li>3481</li><li>3600</li><li>3721</li><li>3844</li><li>3969</li><li>4096</li><li>4225</li><li>4356</li><li>4489</li><li>4624</li><li>4761</li><li>4900</li><li>5041</li><li>5184</li><li>5329</li><li>5476</li><li>5625</li><li>5776</li><li>5929</li><li>6084</li><li>6241</li><li>6400</li><li>6561</li><li>6724</li><li>6889</li><li>7056</li><li>7225</li><li>7396</li><li>7569</li><li>7744</li><li>7921</li><li>8100</li><li>8281</li><li>8464</li><li>8649</li><li>8836</li><li>9025</li><li>9216</li><li>9409</li><li>9604</li><li>9801</li><li>10000</li></ol>\n",
      "text/markdown": "1. 1\n2. 4\n3. 9\n4. 16\n5. 25\n6. 36\n7. 49\n8. 64\n9. 81\n10. 100\n11. 121\n12. 144\n13. 169\n14. 196\n15. 225\n16. 256\n17. 289\n18. 324\n19. 361\n20. 400\n21. 441\n22. 484\n23. 529\n24. 576\n25. 625\n26. 676\n27. 729\n28. 784\n29. 841\n30. 900\n31. 961\n32. 1024\n33. 1089\n34. 1156\n35. 1225\n36. 1296\n37. 1369\n38. 1444\n39. 1521\n40. 1600\n41. 1681\n42. 1764\n43. 1849\n44. 1936\n45. 2025\n46. 2116\n47. 2209\n48. 2304\n49. 2401\n50. 2500\n51. 2601\n52. 2704\n53. 2809\n54. 2916\n55. 3025\n56. 3136\n57. 3249\n58. 3364\n59. 3481\n60. 3600\n61. 3721\n62. 3844\n63. 3969\n64. 4096\n65. 4225\n66. 4356\n67. 4489\n68. 4624\n69. 4761\n70. 4900\n71. 5041\n72. 5184\n73. 5329\n74. 5476\n75. 5625\n76. 5776\n77. 5929\n78. 6084\n79. 6241\n80. 6400\n81. 6561\n82. 6724\n83. 6889\n84. 7056\n85. 7225\n86. 7396\n87. 7569\n88. 7744\n89. 7921\n90. 8100\n91. 8281\n92. 8464\n93. 8649\n94. 8836\n95. 9025\n96. 9216\n97. 9409\n98. 9604\n99. 9801\n100. 10000\n\n\n",
      "text/latex": "\\begin{enumerate*}\n\\item 1\n\\item 4\n\\item 9\n\\item 16\n\\item 25\n\\item 36\n\\item 49\n\\item 64\n\\item 81\n\\item 100\n\\item 121\n\\item 144\n\\item 169\n\\item 196\n\\item 225\n\\item 256\n\\item 289\n\\item 324\n\\item 361\n\\item 400\n\\item 441\n\\item 484\n\\item 529\n\\item 576\n\\item 625\n\\item 676\n\\item 729\n\\item 784\n\\item 841\n\\item 900\n\\item 961\n\\item 1024\n\\item 1089\n\\item 1156\n\\item 1225\n\\item 1296\n\\item 1369\n\\item 1444\n\\item 1521\n\\item 1600\n\\item 1681\n\\item 1764\n\\item 1849\n\\item 1936\n\\item 2025\n\\item 2116\n\\item 2209\n\\item 2304\n\\item 2401\n\\item 2500\n\\item 2601\n\\item 2704\n\\item 2809\n\\item 2916\n\\item 3025\n\\item 3136\n\\item 3249\n\\item 3364\n\\item 3481\n\\item 3600\n\\item 3721\n\\item 3844\n\\item 3969\n\\item 4096\n\\item 4225\n\\item 4356\n\\item 4489\n\\item 4624\n\\item 4761\n\\item 4900\n\\item 5041\n\\item 5184\n\\item 5329\n\\item 5476\n\\item 5625\n\\item 5776\n\\item 5929\n\\item 6084\n\\item 6241\n\\item 6400\n\\item 6561\n\\item 6724\n\\item 6889\n\\item 7056\n\\item 7225\n\\item 7396\n\\item 7569\n\\item 7744\n\\item 7921\n\\item 8100\n\\item 8281\n\\item 8464\n\\item 8649\n\\item 8836\n\\item 9025\n\\item 9216\n\\item 9409\n\\item 9604\n\\item 9801\n\\item 10000\n\\end{enumerate*}\n",
      "text/plain": "  [1]     1     4     9    16    25    36    49    64    81   100   121   144\n [13]   169   196   225   256   289   324   361   400   441   484   529   576\n [25]   625   676   729   784   841   900   961  1024  1089  1156  1225  1296\n [37]  1369  1444  1521  1600  1681  1764  1849  1936  2025  2116  2209  2304\n [49]  2401  2500  2601  2704  2809  2916  3025  3136  3249  3364  3481  3600\n [61]  3721  3844  3969  4096  4225  4356  4489  4624  4761  4900  5041  5184\n [73]  5329  5476  5625  5776  5929  6084  6241  6400  6561  6724  6889  7056\n [85]  7225  7396  7569  7744  7921  8100  8281  8464  8649  8836  9025  9216\n [97]  9409  9604  9801 10000"
     },
     "metadata": {},
     "output_type": "display_data"
    },
    {
     "data": {
      "text/html": "<style>\n.list-inline {list-style: none; margin:0; padding: 0}\n.list-inline>li {display: inline-block}\n.list-inline>li:not(:last-child)::after {content: \"\\00b7\"; padding: 0 .5ex}\n</style>\n<ol class=list-inline><li>1</li><li>8</li><li>27</li><li>64</li><li>125</li><li>216</li><li>343</li><li>512</li><li>729</li><li>1000</li><li>1331</li><li>1728</li><li>2197</li><li>2744</li><li>3375</li><li>4096</li><li>4913</li><li>5832</li><li>6859</li><li>8000</li><li>9261</li><li>10648</li><li>12167</li><li>13824</li><li>15625</li><li>17576</li><li>19683</li><li>21952</li><li>24389</li><li>27000</li><li>29791</li><li>32768</li><li>35937</li><li>39304</li><li>42875</li><li>46656</li><li>50653</li><li>54872</li><li>59319</li><li>64000</li><li>68921</li><li>74088</li><li>79507</li><li>85184</li><li>91125</li><li>97336</li><li>103823</li><li>110592</li><li>117649</li><li>125000</li><li>132651</li><li>140608</li><li>148877</li><li>157464</li><li>166375</li><li>175616</li><li>185193</li><li>195112</li><li>205379</li><li>216000</li><li>226981</li><li>238328</li><li>250047</li><li>262144</li><li>274625</li><li>287496</li><li>300763</li><li>314432</li><li>328509</li><li>343000</li><li>357911</li><li>373248</li><li>389017</li><li>405224</li><li>421875</li><li>438976</li><li>456533</li><li>474552</li><li>493039</li><li>512000</li><li>531441</li><li>551368</li><li>571787</li><li>592704</li><li>614125</li><li>636056</li><li>658503</li><li>681472</li><li>704969</li><li>729000</li><li>753571</li><li>778688</li><li>804357</li><li>830584</li><li>857375</li><li>884736</li><li>912673</li><li>941192</li><li>970299</li><li>1e+06</li></ol>\n",
      "text/markdown": "1. 1\n2. 8\n3. 27\n4. 64\n5. 125\n6. 216\n7. 343\n8. 512\n9. 729\n10. 1000\n11. 1331\n12. 1728\n13. 2197\n14. 2744\n15. 3375\n16. 4096\n17. 4913\n18. 5832\n19. 6859\n20. 8000\n21. 9261\n22. 10648\n23. 12167\n24. 13824\n25. 15625\n26. 17576\n27. 19683\n28. 21952\n29. 24389\n30. 27000\n31. 29791\n32. 32768\n33. 35937\n34. 39304\n35. 42875\n36. 46656\n37. 50653\n38. 54872\n39. 59319\n40. 64000\n41. 68921\n42. 74088\n43. 79507\n44. 85184\n45. 91125\n46. 97336\n47. 103823\n48. 110592\n49. 117649\n50. 125000\n51. 132651\n52. 140608\n53. 148877\n54. 157464\n55. 166375\n56. 175616\n57. 185193\n58. 195112\n59. 205379\n60. 216000\n61. 226981\n62. 238328\n63. 250047\n64. 262144\n65. 274625\n66. 287496\n67. 300763\n68. 314432\n69. 328509\n70. 343000\n71. 357911\n72. 373248\n73. 389017\n74. 405224\n75. 421875\n76. 438976\n77. 456533\n78. 474552\n79. 493039\n80. 512000\n81. 531441\n82. 551368\n83. 571787\n84. 592704\n85. 614125\n86. 636056\n87. 658503\n88. 681472\n89. 704969\n90. 729000\n91. 753571\n92. 778688\n93. 804357\n94. 830584\n95. 857375\n96. 884736\n97. 912673\n98. 941192\n99. 970299\n100. 1e+06\n\n\n",
      "text/latex": "\\begin{enumerate*}\n\\item 1\n\\item 8\n\\item 27\n\\item 64\n\\item 125\n\\item 216\n\\item 343\n\\item 512\n\\item 729\n\\item 1000\n\\item 1331\n\\item 1728\n\\item 2197\n\\item 2744\n\\item 3375\n\\item 4096\n\\item 4913\n\\item 5832\n\\item 6859\n\\item 8000\n\\item 9261\n\\item 10648\n\\item 12167\n\\item 13824\n\\item 15625\n\\item 17576\n\\item 19683\n\\item 21952\n\\item 24389\n\\item 27000\n\\item 29791\n\\item 32768\n\\item 35937\n\\item 39304\n\\item 42875\n\\item 46656\n\\item 50653\n\\item 54872\n\\item 59319\n\\item 64000\n\\item 68921\n\\item 74088\n\\item 79507\n\\item 85184\n\\item 91125\n\\item 97336\n\\item 103823\n\\item 110592\n\\item 117649\n\\item 125000\n\\item 132651\n\\item 140608\n\\item 148877\n\\item 157464\n\\item 166375\n\\item 175616\n\\item 185193\n\\item 195112\n\\item 205379\n\\item 216000\n\\item 226981\n\\item 238328\n\\item 250047\n\\item 262144\n\\item 274625\n\\item 287496\n\\item 300763\n\\item 314432\n\\item 328509\n\\item 343000\n\\item 357911\n\\item 373248\n\\item 389017\n\\item 405224\n\\item 421875\n\\item 438976\n\\item 456533\n\\item 474552\n\\item 493039\n\\item 512000\n\\item 531441\n\\item 551368\n\\item 571787\n\\item 592704\n\\item 614125\n\\item 636056\n\\item 658503\n\\item 681472\n\\item 704969\n\\item 729000\n\\item 753571\n\\item 778688\n\\item 804357\n\\item 830584\n\\item 857375\n\\item 884736\n\\item 912673\n\\item 941192\n\\item 970299\n\\item 1e+06\n\\end{enumerate*}\n",
      "text/plain": "  [1]       1       8      27      64     125     216     343     512     729\n [10]    1000    1331    1728    2197    2744    3375    4096    4913    5832\n [19]    6859    8000    9261   10648   12167   13824   15625   17576   19683\n [28]   21952   24389   27000   29791   32768   35937   39304   42875   46656\n [37]   50653   54872   59319   64000   68921   74088   79507   85184   91125\n [46]   97336  103823  110592  117649  125000  132651  140608  148877  157464\n [55]  166375  175616  185193  195112  205379  216000  226981  238328  250047\n [64]  262144  274625  287496  300763  314432  328509  343000  357911  373248\n [73]  389017  405224  421875  438976  456533  474552  493039  512000  531441\n [82]  551368  571787  592704  614125  636056  658503  681472  704969  729000\n [91]  753571  778688  804357  830584  857375  884736  912673  941192  970299\n[100] 1000000"
     },
     "metadata": {},
     "output_type": "display_data"
    }
   ],
   "source": [
    "seq(1, 100)^2\n",
    "seq(1, 100)^3"
   ]
  },
  {
   "cell_type": "markdown",
   "id": "9cb5e139",
   "metadata": {},
   "source": [
    "2.设有10个人的小测验成绩为:\n",
    "\n",
    "把这10个成绩存入变量x;\n",
    "\n",
    "从小到大排序；\n",
    "\n",
    "计算order(x)，解释order(x)结果中第3项代表的意义。\n",
    "\n",
    "计算这些成绩的平均值、标准差、最小值、最大值、中位数。"
   ]
  },
  {
   "cell_type": "code",
   "execution_count": 22,
   "id": "0193affc",
   "metadata": {
    "ExecuteTime": {
     "end_time": "2022-09-30T05:06:26.859225Z",
     "start_time": "2022-09-30T05:06:20.046Z"
    }
   },
   "outputs": [
    {
     "data": {
      "text/html": "<style>\n.list-inline {list-style: none; margin:0; padding: 0}\n.list-inline>li {display: inline-block}\n.list-inline>li:not(:last-child)::after {content: \"\\00b7\"; padding: 0 .5ex}\n</style>\n<ol class=list-inline><li>77</li><li>60</li><li>91</li><li>73</li><li>85</li><li>82</li><li>35</li><li>100</li><li>66</li><li>75</li></ol>\n",
      "text/markdown": "1. 77\n2. 60\n3. 91\n4. 73\n5. 85\n6. 82\n7. 35\n8. 100\n9. 66\n10. 75\n\n\n",
      "text/latex": "\\begin{enumerate*}\n\\item 77\n\\item 60\n\\item 91\n\\item 73\n\\item 85\n\\item 82\n\\item 35\n\\item 100\n\\item 66\n\\item 75\n\\end{enumerate*}\n",
      "text/plain": " [1]  77  60  91  73  85  82  35 100  66  75"
     },
     "metadata": {},
     "output_type": "display_data"
    }
   ],
   "source": [
    "c(77, 60, 91, 73, 85, 82, 35, 100, 66, 75)"
   ]
  },
  {
   "cell_type": "code",
   "execution_count": 23,
   "id": "90493b84",
   "metadata": {
    "ExecuteTime": {
     "end_time": "2022-09-30T05:06:26.885831Z",
     "start_time": "2022-09-30T05:06:20.048Z"
    }
   },
   "outputs": [
    {
     "data": {
      "text/html": "<style>\n.list-inline {list-style: none; margin:0; padding: 0}\n.list-inline>li {display: inline-block}\n.list-inline>li:not(:last-child)::after {content: \"\\00b7\"; padding: 0 .5ex}\n</style>\n<ol class=list-inline><li>35</li><li>60</li><li>66</li><li>73</li><li>75</li><li>77</li><li>82</li><li>85</li><li>91</li><li>100</li></ol>\n",
      "text/markdown": "1. 35\n2. 60\n3. 66\n4. 73\n5. 75\n6. 77\n7. 82\n8. 85\n9. 91\n10. 100\n\n\n",
      "text/latex": "\\begin{enumerate*}\n\\item 35\n\\item 60\n\\item 66\n\\item 73\n\\item 75\n\\item 77\n\\item 82\n\\item 85\n\\item 91\n\\item 100\n\\end{enumerate*}\n",
      "text/plain": " [1]  35  60  66  73  75  77  82  85  91 100"
     },
     "metadata": {},
     "output_type": "display_data"
    }
   ],
   "source": [
    "sort(c(77, 60, 91, 73, 85, 82, 35, 100, 66, 75))"
   ]
  },
  {
   "cell_type": "code",
   "execution_count": 24,
   "id": "5c5290af",
   "metadata": {
    "ExecuteTime": {
     "end_time": "2022-09-30T05:06:26.931751Z",
     "start_time": "2022-09-30T05:06:20.051Z"
    }
   },
   "outputs": [
    {
     "data": {
      "text/html": "<style>\n.list-inline {list-style: none; margin:0; padding: 0}\n.list-inline>li {display: inline-block}\n.list-inline>li:not(:last-child)::after {content: \"\\00b7\"; padding: 0 .5ex}\n</style>\n<ol class=list-inline><li>7</li><li>2</li><li>9</li><li>4</li><li>10</li><li>1</li><li>6</li><li>5</li><li>3</li><li>8</li></ol>\n",
      "text/markdown": "1. 7\n2. 2\n3. 9\n4. 4\n5. 10\n6. 1\n7. 6\n8. 5\n9. 3\n10. 8\n\n\n",
      "text/latex": "\\begin{enumerate*}\n\\item 7\n\\item 2\n\\item 9\n\\item 4\n\\item 10\n\\item 1\n\\item 6\n\\item 5\n\\item 3\n\\item 8\n\\end{enumerate*}\n",
      "text/plain": " [1]  7  2  9  4 10  1  6  5  3  8"
     },
     "metadata": {},
     "output_type": "display_data"
    }
   ],
   "source": [
    "order(c(77, 60, 91, 73, 85, 82, 35, 100, 66, 75))"
   ]
  },
  {
   "cell_type": "code",
   "execution_count": 25,
   "id": "d2c79c66",
   "metadata": {
    "ExecuteTime": {
     "end_time": "2022-09-30T05:06:26.992707Z",
     "start_time": "2022-09-30T05:06:20.054Z"
    }
   },
   "outputs": [
    {
     "data": {
      "text/html": "74.4",
      "text/markdown": "74.4",
      "text/latex": "74.4",
      "text/plain": "[1] 74.4"
     },
     "metadata": {},
     "output_type": "display_data"
    },
    {
     "data": {
      "text/html": "18.0751517590064",
      "text/markdown": "18.0751517590064",
      "text/latex": "18.0751517590064",
      "text/plain": "[1] 18.07515"
     },
     "metadata": {},
     "output_type": "display_data"
    },
    {
     "data": {
      "text/html": "35",
      "text/markdown": "35",
      "text/latex": "35",
      "text/plain": "[1] 35"
     },
     "metadata": {},
     "output_type": "display_data"
    },
    {
     "data": {
      "text/html": "100",
      "text/markdown": "100",
      "text/latex": "100",
      "text/plain": "[1] 100"
     },
     "metadata": {},
     "output_type": "display_data"
    },
    {
     "data": {
      "text/html": "76",
      "text/markdown": "76",
      "text/latex": "76",
      "text/plain": "[1] 76"
     },
     "metadata": {},
     "output_type": "display_data"
    }
   ],
   "source": [
    "mean(c(77, 60, 91, 73, 85, 82, 35, 100, 66, 75))\n",
    "sd(c(77, 60, 91, 73, 85, 82, 35, 100, 66, 75))\n",
    "min(c(77, 60, 91, 73, 85, 82, 35, 100, 66, 75))\n",
    "max(c(77, 60, 91, 73, 85, 82, 35, 100, 66, 75))\n",
    "median(c(77, 60, 91, 73, 85, 82, 35, 100, 66, 75))"
   ]
  }
 ],
 "metadata": {
  "kernelspec": {
   "display_name": "R",
   "language": "R",
   "name": "ir"
  },
  "language_info": {
   "codemirror_mode": "r",
   "file_extension": ".r",
   "mimetype": "text/x-r-source",
   "name": "R",
   "pygments_lexer": "r",
   "version": "4.2.1"
  },
  "toc": {
   "base_numbering": 1,
   "nav_menu": {},
   "number_sections": true,
   "sideBar": true,
   "skip_h1_title": false,
   "title_cell": "Table of Contents",
   "title_sidebar": "Contents",
   "toc_cell": false,
   "toc_position": {},
   "toc_section_display": true,
   "toc_window_display": false
  },
  "varInspector": {
   "cols": {
    "lenName": 16,
    "lenType": 16,
    "lenVar": 40
   },
   "kernels_config": {
    "python": {
     "delete_cmd_postfix": "",
     "delete_cmd_prefix": "del ",
     "library": "var_list.py",
     "varRefreshCmd": "print(var_dic_list())"
    },
    "r": {
     "delete_cmd_postfix": ") ",
     "delete_cmd_prefix": "rm(",
     "library": "var_list.r",
     "varRefreshCmd": "cat(var_dic_list()) "
    }
   },
   "types_to_exclude": [
    "module",
    "function",
    "builtin_function_or_method",
    "instance",
    "_Feature"
   ],
   "window_display": false
  }
 },
 "nbformat": 4,
 "nbformat_minor": 5
}
