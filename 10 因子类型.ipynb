{
 "cells": [
  {
   "cell_type": "markdown",
   "metadata": {},
   "source": [
    "## 10.1 因子"
   ]
  },
  {
   "cell_type": "code",
   "execution_count": 6,
   "metadata": {
    "vscode": {
     "languageId": "r"
    }
   },
   "outputs": [
    {
     "data": {
      "text/html": [
       "<style>\n",
       ".list-inline {list-style: none; margin:0; padding: 0}\n",
       ".list-inline>li {display: inline-block}\n",
       ".list-inline>li:not(:last-child)::after {content: \"\\00b7\"; padding: 0 .5ex}\n",
       "</style>\n",
       "<ol class=list-inline><li>'男'</li><li>'女'</li><li>'男'</li><li>'女'</li><li>'女'</li><li>'男'</li><li>'女'</li></ol>\n"
      ],
      "text/latex": [
       "\\begin{enumerate*}\n",
       "\\item '男'\n",
       "\\item '女'\n",
       "\\item '男'\n",
       "\\item '女'\n",
       "\\item '女'\n",
       "\\item '男'\n",
       "\\item '女'\n",
       "\\end{enumerate*}\n"
      ],
      "text/markdown": [
       "1. '男'\n",
       "2. '女'\n",
       "3. '男'\n",
       "4. '女'\n",
       "5. '女'\n",
       "6. '男'\n",
       "7. '女'\n",
       "\n",
       "\n"
      ],
      "text/plain": [
       "[1] \"男\" \"女\" \"男\" \"女\" \"女\" \"男\" \"女\""
      ]
     },
     "metadata": {},
     "output_type": "display_data"
    }
   ],
   "source": [
    "x <- c(\"男\", \"女\", \"男\", \"女\", \"女\", \"男\", \"女\")\n",
    "x"
   ]
  },
  {
   "cell_type": "code",
   "execution_count": 8,
   "metadata": {
    "vscode": {
     "languageId": "r"
    }
   },
   "outputs": [
    {
     "data": {
      "text/html": [
       "<style>\n",
       ".list-inline {list-style: none; margin:0; padding: 0}\n",
       ".list-inline>li {display: inline-block}\n",
       ".list-inline>li:not(:last-child)::after {content: \"\\00b7\"; padding: 0 .5ex}\n",
       "</style>\n",
       "<ol class=list-inline><li>男</li><li>女</li><li>男</li><li>女</li><li>女</li><li>男</li><li>女</li></ol>\n",
       "\n",
       "<details>\n",
       "\t<summary style=display:list-item;cursor:pointer>\n",
       "\t\t<strong>Levels</strong>:\n",
       "\t</summary>\n",
       "\t<style>\n",
       "\t.list-inline {list-style: none; margin:0; padding: 0}\n",
       "\t.list-inline>li {display: inline-block}\n",
       "\t.list-inline>li:not(:last-child)::after {content: \"\\00b7\"; padding: 0 .5ex}\n",
       "\t</style>\n",
       "\t<ol class=list-inline><li>'男'</li><li>'女'</li></ol>\n",
       "</details>"
      ],
      "text/latex": [
       "\\begin{enumerate*}\n",
       "\\item 男\n",
       "\\item 女\n",
       "\\item 男\n",
       "\\item 女\n",
       "\\item 女\n",
       "\\item 男\n",
       "\\item 女\n",
       "\\end{enumerate*}\n",
       "\n",
       "\\emph{Levels}: \\begin{enumerate*}\n",
       "\\item '男'\n",
       "\\item '女'\n",
       "\\end{enumerate*}\n"
      ],
      "text/markdown": [
       "1. 男\n",
       "2. 女\n",
       "3. 男\n",
       "4. 女\n",
       "5. 女\n",
       "6. 男\n",
       "7. 女\n",
       "\n",
       "\n",
       "\n",
       "**Levels**: 1. '男'\n",
       "2. '女'\n",
       "\n",
       "\n"
      ],
      "text/plain": [
       "[1] 男 女 男 女 女 男 女\n",
       "Levels: 男 女"
      ]
     },
     "metadata": {},
     "output_type": "display_data"
    }
   ],
   "source": [
    "sex <- factor(x)\n",
    "sex"
   ]
  },
  {
   "cell_type": "code",
   "execution_count": 9,
   "metadata": {
    "vscode": {
     "languageId": "r"
    }
   },
   "outputs": [
    {
     "data": {
      "text/html": [
       "<dl>\n",
       "\t<dt>$levels</dt>\n",
       "\t\t<dd><style>\n",
       ".list-inline {list-style: none; margin:0; padding: 0}\n",
       ".list-inline>li {display: inline-block}\n",
       ".list-inline>li:not(:last-child)::after {content: \"\\00b7\"; padding: 0 .5ex}\n",
       "</style>\n",
       "<ol class=list-inline><li>'男'</li><li>'女'</li></ol>\n",
       "</dd>\n",
       "\t<dt>$class</dt>\n",
       "\t\t<dd>'factor'</dd>\n",
       "</dl>\n"
      ],
      "text/latex": [
       "\\begin{description}\n",
       "\\item[\\$levels] \\begin{enumerate*}\n",
       "\\item '男'\n",
       "\\item '女'\n",
       "\\end{enumerate*}\n",
       "\n",
       "\\item[\\$class] 'factor'\n",
       "\\end{description}\n"
      ],
      "text/markdown": [
       "$levels\n",
       ":   1. '男'\n",
       "2. '女'\n",
       "\n",
       "\n",
       "\n",
       "$class\n",
       ":   'factor'\n",
       "\n",
       "\n"
      ],
      "text/plain": [
       "$levels\n",
       "[1] \"男\" \"女\"\n",
       "\n",
       "$class\n",
       "[1] \"factor\"\n"
      ]
     },
     "metadata": {},
     "output_type": "display_data"
    }
   ],
   "source": [
    "attributes(sex)"
   ]
  },
  {
   "cell_type": "code",
   "execution_count": 10,
   "metadata": {
    "vscode": {
     "languageId": "r"
    }
   },
   "outputs": [
    {
     "data": {
      "text/html": [
       "<style>\n",
       ".list-inline {list-style: none; margin:0; padding: 0}\n",
       ".list-inline>li {display: inline-block}\n",
       ".list-inline>li:not(:last-child)::after {content: \"\\00b7\"; padding: 0 .5ex}\n",
       "</style>\n",
       "<ol class=list-inline><li>'男'</li><li>'女'</li></ol>\n"
      ],
      "text/latex": [
       "\\begin{enumerate*}\n",
       "\\item '男'\n",
       "\\item '女'\n",
       "\\end{enumerate*}\n"
      ],
      "text/markdown": [
       "1. '男'\n",
       "2. '女'\n",
       "\n",
       "\n"
      ],
      "text/plain": [
       "[1] \"男\" \"女\""
      ]
     },
     "metadata": {},
     "output_type": "display_data"
    }
   ],
   "source": [
    "levels(sex)"
   ]
  },
  {
   "cell_type": "code",
   "execution_count": 11,
   "metadata": {
    "vscode": {
     "languageId": "r"
    }
   },
   "outputs": [
    {
     "data": {
      "text/html": [
       "<style>\n",
       ".list-inline {list-style: none; margin:0; padding: 0}\n",
       ".list-inline>li {display: inline-block}\n",
       ".list-inline>li:not(:last-child)::after {content: \"\\00b7\"; padding: 0 .5ex}\n",
       "</style>\n",
       "<ol class=list-inline><li>1</li><li>2</li><li>1</li><li>2</li><li>2</li><li>1</li><li>2</li></ol>\n"
      ],
      "text/latex": [
       "\\begin{enumerate*}\n",
       "\\item 1\n",
       "\\item 2\n",
       "\\item 1\n",
       "\\item 2\n",
       "\\item 2\n",
       "\\item 1\n",
       "\\item 2\n",
       "\\end{enumerate*}\n"
      ],
      "text/markdown": [
       "1. 1\n",
       "2. 2\n",
       "3. 1\n",
       "4. 2\n",
       "5. 2\n",
       "6. 1\n",
       "7. 2\n",
       "\n",
       "\n"
      ],
      "text/plain": [
       "[1] 1 2 1 2 2 1 2"
      ]
     },
     "metadata": {},
     "output_type": "display_data"
    }
   ],
   "source": [
    "as.numeric(sex)"
   ]
  },
  {
   "cell_type": "code",
   "execution_count": 12,
   "metadata": {
    "vscode": {
     "languageId": "r"
    }
   },
   "outputs": [
    {
     "data": {
      "text/html": [
       "<style>\n",
       ".list-inline {list-style: none; margin:0; padding: 0}\n",
       ".list-inline>li {display: inline-block}\n",
       ".list-inline>li:not(:last-child)::after {content: \"\\00b7\"; padding: 0 .5ex}\n",
       "</style>\n",
       "<ol class=list-inline><li>'男'</li><li>'女'</li><li>'男'</li><li>'女'</li><li>'女'</li><li>'男'</li><li>'女'</li></ol>\n"
      ],
      "text/latex": [
       "\\begin{enumerate*}\n",
       "\\item '男'\n",
       "\\item '女'\n",
       "\\item '男'\n",
       "\\item '女'\n",
       "\\item '女'\n",
       "\\item '男'\n",
       "\\item '女'\n",
       "\\end{enumerate*}\n"
      ],
      "text/markdown": [
       "1. '男'\n",
       "2. '女'\n",
       "3. '男'\n",
       "4. '女'\n",
       "5. '女'\n",
       "6. '男'\n",
       "7. '女'\n",
       "\n",
       "\n"
      ],
      "text/plain": [
       "[1] \"男\" \"女\" \"男\" \"女\" \"女\" \"男\" \"女\""
      ]
     },
     "metadata": {},
     "output_type": "display_data"
    }
   ],
   "source": [
    "as.character(sex)"
   ]
  },
  {
   "cell_type": "markdown",
   "metadata": {},
   "source": [
    "## 10.2 cut()函数"
   ]
  },
  {
   "cell_type": "markdown",
   "metadata": {},
   "source": [
    "连续取值的变量，可以用cut()函数将其分段，转换为因子。使用breaks()参数指定分点，最小分点要小于数据的最小值，最大分点要大于数据的最大值，默认使用左开右闭区间分组"
   ]
  },
  {
   "cell_type": "code",
   "execution_count": 15,
   "metadata": {
    "vscode": {
     "languageId": "r"
    }
   },
   "outputs": [
    {
     "data": {
      "text/html": [
       "<style>\n",
       ".list-inline {list-style: none; margin:0; padding: 0}\n",
       ".list-inline>li {display: inline-block}\n",
       ".list-inline>li:not(:last-child)::after {content: \"\\00b7\"; padding: 0 .5ex}\n",
       "</style>\n",
       "<ol class=list-inline><li>(0,5]</li><li>(0,5]</li><li>(0,5]</li><li>(0,5]</li><li>(0,5]</li><li>(5,10]</li><li>(5,10]</li><li>(5,10]</li><li>(5,10]</li><li>(5,10]</li></ol>\n",
       "\n",
       "<details>\n",
       "\t<summary style=display:list-item;cursor:pointer>\n",
       "\t\t<strong>Levels</strong>:\n",
       "\t</summary>\n",
       "\t<style>\n",
       "\t.list-inline {list-style: none; margin:0; padding: 0}\n",
       "\t.list-inline>li {display: inline-block}\n",
       "\t.list-inline>li:not(:last-child)::after {content: \"\\00b7\"; padding: 0 .5ex}\n",
       "\t</style>\n",
       "\t<ol class=list-inline><li>'(0,5]'</li><li>'(5,10]'</li></ol>\n",
       "</details>"
      ],
      "text/latex": [
       "\\begin{enumerate*}\n",
       "\\item (0,5{]}\n",
       "\\item (0,5{]}\n",
       "\\item (0,5{]}\n",
       "\\item (0,5{]}\n",
       "\\item (0,5{]}\n",
       "\\item (5,10{]}\n",
       "\\item (5,10{]}\n",
       "\\item (5,10{]}\n",
       "\\item (5,10{]}\n",
       "\\item (5,10{]}\n",
       "\\end{enumerate*}\n",
       "\n",
       "\\emph{Levels}: \\begin{enumerate*}\n",
       "\\item '(0,5{]}'\n",
       "\\item '(5,10{]}'\n",
       "\\end{enumerate*}\n"
      ],
      "text/markdown": [
       "1. (0,5]\n",
       "2. (0,5]\n",
       "3. (0,5]\n",
       "4. (0,5]\n",
       "5. (0,5]\n",
       "6. (5,10]\n",
       "7. (5,10]\n",
       "8. (5,10]\n",
       "9. (5,10]\n",
       "10. (5,10]\n",
       "\n",
       "\n",
       "\n",
       "**Levels**: 1. '(0,5]'\n",
       "2. '(5,10]'\n",
       "\n",
       "\n"
      ],
      "text/plain": [
       " [1] (0,5]  (0,5]  (0,5]  (0,5]  (0,5]  (5,10] (5,10] (5,10] (5,10] (5,10]\n",
       "Levels: (0,5] (5,10]"
      ]
     },
     "metadata": {},
     "output_type": "display_data"
    }
   ],
   "source": [
    "cut(1:10, breaks = c(0, 5, 10))"
   ]
  },
  {
   "cell_type": "code",
   "execution_count": 18,
   "metadata": {
    "vscode": {
     "languageId": "r"
    }
   },
   "outputs": [
    {
     "data": {
      "text/html": [
       "<style>\n",
       ".list-inline {list-style: none; margin:0; padding: 0}\n",
       ".list-inline>li {display: inline-block}\n",
       ".list-inline>li:not(:last-child)::after {content: \"\\00b7\"; padding: 0 .5ex}\n",
       "</style>\n",
       "<ol class=list-inline><li>(-2.21,-1.26]</li><li>(-1.26,-0.305]</li><li>(-1.26,-0.305]</li><li>(-1.26,-0.305]</li><li>(-1.26,-0.305]</li><li>(-1.26,-0.305]</li><li>(-0.305,0.647]</li><li>(-0.305,0.647]</li><li>(-0.305,0.647]</li><li>(-0.305,0.647]</li><li>(-0.305,0.647]</li><li>(-0.305,0.647]</li><li>(-0.305,0.647]</li><li>(-0.305,0.647]</li><li>(0.647,1.6]</li><li>(0.647,1.6]</li><li>(0.647,1.6]</li><li>(0.647,1.6]</li><li>(0.647,1.6]</li><li>(0.647,1.6]</li></ol>\n",
       "\n",
       "<details>\n",
       "\t<summary style=display:list-item;cursor:pointer>\n",
       "\t\t<strong>Levels</strong>:\n",
       "\t</summary>\n",
       "\t<style>\n",
       "\t.list-inline {list-style: none; margin:0; padding: 0}\n",
       "\t.list-inline>li {display: inline-block}\n",
       "\t.list-inline>li:not(:last-child)::after {content: \"\\00b7\"; padding: 0 .5ex}\n",
       "\t</style>\n",
       "\t<ol class=list-inline><li>'(-2.21,-1.26]'</li><li>'(-1.26,-0.305]'</li><li>'(-0.305,0.647]'</li><li>'(0.647,1.6]'</li></ol>\n",
       "</details>"
      ],
      "text/latex": [
       "\\begin{enumerate*}\n",
       "\\item (-2.21,-1.26{]}\n",
       "\\item (-1.26,-0.305{]}\n",
       "\\item (-1.26,-0.305{]}\n",
       "\\item (-1.26,-0.305{]}\n",
       "\\item (-1.26,-0.305{]}\n",
       "\\item (-1.26,-0.305{]}\n",
       "\\item (-0.305,0.647{]}\n",
       "\\item (-0.305,0.647{]}\n",
       "\\item (-0.305,0.647{]}\n",
       "\\item (-0.305,0.647{]}\n",
       "\\item (-0.305,0.647{]}\n",
       "\\item (-0.305,0.647{]}\n",
       "\\item (-0.305,0.647{]}\n",
       "\\item (-0.305,0.647{]}\n",
       "\\item (0.647,1.6{]}\n",
       "\\item (0.647,1.6{]}\n",
       "\\item (0.647,1.6{]}\n",
       "\\item (0.647,1.6{]}\n",
       "\\item (0.647,1.6{]}\n",
       "\\item (0.647,1.6{]}\n",
       "\\end{enumerate*}\n",
       "\n",
       "\\emph{Levels}: \\begin{enumerate*}\n",
       "\\item '(-2.21,-1.26{]}'\n",
       "\\item '(-1.26,-0.305{]}'\n",
       "\\item '(-0.305,0.647{]}'\n",
       "\\item '(0.647,1.6{]}'\n",
       "\\end{enumerate*}\n"
      ],
      "text/markdown": [
       "1. (-2.21,-1.26]\n",
       "2. (-1.26,-0.305]\n",
       "3. (-1.26,-0.305]\n",
       "4. (-1.26,-0.305]\n",
       "5. (-1.26,-0.305]\n",
       "6. (-1.26,-0.305]\n",
       "7. (-0.305,0.647]\n",
       "8. (-0.305,0.647]\n",
       "9. (-0.305,0.647]\n",
       "10. (-0.305,0.647]\n",
       "11. (-0.305,0.647]\n",
       "12. (-0.305,0.647]\n",
       "13. (-0.305,0.647]\n",
       "14. (-0.305,0.647]\n",
       "15. (0.647,1.6]\n",
       "16. (0.647,1.6]\n",
       "17. (0.647,1.6]\n",
       "18. (0.647,1.6]\n",
       "19. (0.647,1.6]\n",
       "20. (0.647,1.6]\n",
       "\n",
       "\n",
       "\n",
       "**Levels**: 1. '(-2.21,-1.26]'\n",
       "2. '(-1.26,-0.305]'\n",
       "3. '(-0.305,0.647]'\n",
       "4. '(0.647,1.6]'\n",
       "\n",
       "\n"
      ],
      "text/plain": [
       " [1] (-2.21,-1.26]  (-1.26,-0.305] (-1.26,-0.305] (-1.26,-0.305] (-1.26,-0.305]\n",
       " [6] (-1.26,-0.305] (-0.305,0.647] (-0.305,0.647] (-0.305,0.647] (-0.305,0.647]\n",
       "[11] (-0.305,0.647] (-0.305,0.647] (-0.305,0.647] (-0.305,0.647] (0.647,1.6]   \n",
       "[16] (0.647,1.6]    (0.647,1.6]    (0.647,1.6]    (0.647,1.6]    (0.647,1.6]   \n",
       "Levels: (-2.21,-1.26] (-1.26,-0.305] (-0.305,0.647] (0.647,1.6]"
      ]
     },
     "metadata": {},
     "output_type": "display_data"
    }
   ],
   "source": [
    "set.seed(1)\n",
    "x <- sort(round(rnorm(20), 2))\n",
    "f <- cut(x, breaks = 4)\n",
    "f"
   ]
  },
  {
   "cell_type": "markdown",
   "metadata": {},
   "source": [
    "## 10.3 table() 函数"
   ]
  },
  {
   "cell_type": "code",
   "execution_count": 14,
   "metadata": {
    "vscode": {
     "languageId": "r"
    }
   },
   "outputs": [
    {
     "data": {
      "text/plain": [
       "sex\n",
       "男 女 \n",
       " 3  4 "
      ]
     },
     "metadata": {},
     "output_type": "display_data"
    }
   ],
   "source": [
    "# table() 统计因子各水平的出现次数（频数或频率）\n",
    "table(sex)"
   ]
  },
  {
   "cell_type": "markdown",
   "metadata": {},
   "source": [
    "## 10.4 tapply() 函数"
   ]
  },
  {
   "cell_type": "markdown",
   "metadata": {},
   "source": [
    "## 10.5 forcasts包的因子函数"
   ]
  },
  {
   "cell_type": "code",
   "execution_count": null,
   "metadata": {
    "vscode": {
     "languageId": "r"
    }
   },
   "outputs": [],
   "source": [
    "library(forcats)"
   ]
  },
  {
   "cell_type": "code",
   "execution_count": null,
   "metadata": {
    "vscode": {
     "languageId": "r"
    }
   },
   "outputs": [],
   "source": [
    "set()"
   ]
  }
 ],
 "metadata": {
  "kernelspec": {
   "display_name": "R",
   "language": "R",
   "name": "ir"
  },
  "language_info": {
   "codemirror_mode": "r",
   "file_extension": ".r",
   "mimetype": "text/x-r-source",
   "name": "R",
   "pygments_lexer": "r",
   "version": "4.2.1"
  },
  "orig_nbformat": 4
 },
 "nbformat": 4,
 "nbformat_minor": 2
}
