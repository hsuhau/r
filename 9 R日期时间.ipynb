{
 "cells": [
  {
   "cell_type": "code",
   "execution_count": 1,
   "metadata": {
    "vscode": {
     "languageId": "r"
    }
   },
   "outputs": [
    {
     "name": "stderr",
     "output_type": "stream",
     "text": [
      "\n",
      "Attaching package: 'lubridate'\n",
      "\n",
      "\n",
      "The following objects are masked from 'package:base':\n",
      "\n",
      "    date, intersect, setdiff, union\n",
      "\n",
      "\n"
     ]
    }
   ],
   "source": [
    "library(lubridate)\n",
    "##\n",
    "## 载入程辑包：'lubridate'\n",
    "## The following objects are masked from 'package:base':\n",
    "##\n",
    "##     date, intersect, setdiff, union\n"
   ]
  },
  {
   "cell_type": "code",
   "execution_count": 2,
   "metadata": {
    "vscode": {
     "languageId": "r"
    }
   },
   "outputs": [
    {
     "data": {
      "text/html": "<time datetime=\"2022-10-08\">2022-10-08</time>",
      "text/markdown": "2022-10-08",
      "text/latex": "2022-10-08",
      "text/plain": "[1] \"2022-10-08\""
     },
     "metadata": {},
     "output_type": "display_data"
    }
   ],
   "source": [
    "today()"
   ]
  },
  {
   "cell_type": "code",
   "execution_count": 3,
   "metadata": {
    "vscode": {
     "languageId": "r"
    }
   },
   "outputs": [
    {
     "data": {
      "text/plain": "[1] \"2022-10-08 11:31:52 CST\""
     },
     "metadata": {},
     "output_type": "display_data"
    }
   ],
   "source": [
    "now()"
   ]
  },
  {
   "cell_type": "code",
   "execution_count": 4,
   "metadata": {
    "vscode": {
     "languageId": "r"
    }
   },
   "outputs": [
    {
     "data": {
      "text/html": "<style>\n.list-inline {list-style: none; margin:0; padding: 0}\n.list-inline>li {display: inline-block}\n.list-inline>li:not(:last-child)::after {content: \"\\00b7\"; padding: 0 .5ex}\n</style>\n<ol class=list-inline><li><time datetime=\"1998-03-10\">1998-03-10</time></li><li><time datetime=\"2018-01-17\">2018-01-17</time></li><li><time datetime=\"2018-01-17\">2018-01-17</time></li></ol>\n",
      "text/markdown": "1. 1998-03-10\n2. 2018-01-17\n3. 2018-01-17\n\n\n",
      "text/latex": "\\begin{enumerate*}\n\\item 1998-03-10\n\\item 2018-01-17\n\\item 2018-01-17\n\\end{enumerate*}\n",
      "text/plain": "[1] \"1998-03-10\" \"2018-01-17\" \"2018-01-17\""
     },
     "metadata": {},
     "output_type": "display_data"
    }
   ],
   "source": [
    "ymd(c(\"1998-3-10\", \"2018-01-17\", \"18-1-17\"))"
   ]
  }
 ],
 "metadata": {
  "kernelspec": {
   "display_name": "R",
   "language": "R",
   "name": "ir"
  },
  "language_info": {
   "codemirror_mode": "r",
   "file_extension": ".r",
   "mimetype": "text/x-r-source",
   "name": "R",
   "pygments_lexer": "r",
   "version": "4.2.1"
  },
  "orig_nbformat": 4
 },
 "nbformat": 4,
 "nbformat_minor": 2
}
